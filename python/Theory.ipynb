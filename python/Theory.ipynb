{
 "cells": [
  {
   "cell_type": "code",
   "execution_count": null,
   "metadata": {},
   "outputs": [],
   "source": [
    "import math\n",
    "import sys\n",
    "\n",
    "import IPython\n",
    "import IPython.display as ipd\n",
    "import matplotlib.pylab as plt\n",
    "import numpy as np\n",
    "import pandas as pd\n",
    "\n",
    "%reload_ext autoreload\n",
    "%autoreload 2\n",
    "\n",
    "%matplotlib inline\n",
    "#%matplotlib notebook\n",
    "\n",
    "from matplotlib import rcParams\n",
    "rcParams[\"figure.max_open_warning\"] = False"
   ]
  },
  {
   "cell_type": "code",
   "execution_count": null,
   "metadata": {},
   "outputs": [],
   "source": [
    "from crazyflie_description_py.parameters import N_BUFFER, FS\n",
    "from audio_stack.parameters import TUKEY_ALPHA\n",
    "f = 3000\n",
    "noise_scale = 0.1 \n",
    "times = np.arange(0, 1, step=1/FS)\n",
    "signal_full = np.sin(2*np.pi*f*times) + np.random.normal(scale=noise_scale, size=times.shape)\n",
    "signal_buffer = signal_full[:N_BUFFER]"
   ]
  },
  {
   "cell_type": "code",
   "execution_count": null,
   "metadata": {},
   "outputs": [],
   "source": [
    "from scipy import signal\n",
    "freqs = np.fft.rfftfreq(N_BUFFER, 1/FS)\n",
    "\n",
    "fig, ax =plt.subplots()\n",
    "fig_f, ax_f =plt.subplots()\n",
    "fig_w, ax_w =plt.subplots()\n",
    "\n",
    "buffer_f = np.fft.rfft(signal_buffer)\n",
    "\n",
    "window_f = np.fft.rfft(np.ones(N_BUFFER))\n",
    "ax.plot(signal_buffer)\n",
    "ax_f.plot(freqs, np.abs(buffer_f), label='original')\n",
    "ax_w.plot(freqs, np.abs(window_f), label='original')\n",
    "\n",
    "for i, alpha in enumerate(np.logspace(-3, 0, 4)):\n",
    "    label = f'{alpha:.1e}'\n",
    "    window_tukey = signal.tukey(N_BUFFER, alpha=alpha)\n",
    "    signal_buffer_tukey = window_tukey * signal_buffer\n",
    "    ax.plot(signal_buffer_tukey + 2 * i + 2)\n",
    "    \n",
    "    buffer_tukey_f = np.fft.rfft(signal_buffer_tukey)\n",
    "    ax_f.plot(freqs, np.abs(buffer_tukey_f), label=label)\n",
    "    \n",
    "    window_tukey_f = np.fft.rfft(window_tukey)\n",
    "    ax_w.plot(freqs, np.abs(window_tukey_f), label=label)\n",
    "    \n",
    "ax_f.set_xlim(f-1500, f+1500)\n",
    "ax_w.set_xlim(0, 100)\n",
    "ax_f.set_yscale('log')\n",
    "#ax_w.set_yscale('log')\n",
    "ax_f.legend(loc='upper right')"
   ]
  },
  {
   "cell_type": "markdown",
   "metadata": {},
   "source": [
    "# Cepstrum"
   ]
  },
  {
   "cell_type": "code",
   "execution_count": null,
   "metadata": {},
   "outputs": [],
   "source": [
    "import scipy.signal\n",
    "f_gain = 300\n",
    "f_signal = 3000\n",
    "noise_scale = 0.1 \n",
    "times = np.arange(0, 1, step=1/FS)\n",
    "\n",
    "signal = np.sin(2*np.pi*f_signal*times)\n",
    "gain = np.sin(2*np.pi*f_gain*times)\n",
    "signals_full = scipy.signal.convolve(signal, gain, mode='same')\n",
    "    \n",
    "if noise_scale > 0:\n",
    "    signals_full += np.random.normal(scale=noise_scale, size=times.shape)"
   ]
  },
  {
   "cell_type": "code",
   "execution_count": null,
   "metadata": {},
   "outputs": [],
   "source": [
    "plt.plot(signals_full[:N_BUFFER])"
   ]
  },
  {
   "cell_type": "code",
   "execution_count": null,
   "metadata": {},
   "outputs": [],
   "source": [
    "def apply_bandpass(signal_f, bandpass=[1000, 5000], method='hann'):\n",
    "    window = np.zeros(freqs.shape)\n",
    "    mask = (freqs > bandpass[0]) & (freqs < bandpass[1])\n",
    "    if method == 'hann':\n",
    "        window[mask] = scipy.signal.windows.hann(np.sum(mask))\n",
    "    elif method == '':\n",
    "        window[mask] = np.ones(np.sum(mask)) \n",
    "    return signal_f * window\n",
    "\n",
    "cutoff = 200\n",
    "method = ''\n",
    "#fft = np.fft.rfft(signals_full)\n",
    "#freqs = np.fft.rfftfreq(len(signals_full), 1/FS)\n",
    "\n",
    "fft = signals_full\n",
    "freqs = times"
   ]
  },
  {
   "cell_type": "code",
   "execution_count": null,
   "metadata": {},
   "outputs": [],
   "source": [
    "plt.figure()\n",
    "plt.plot(freqs, fft)\n",
    "plt.title('fft')\n",
    "\n",
    "#fft_masked = apply_bandpass(np.abs(fft), method=method)\n",
    "fft_masked = fft\n",
    "\n",
    "inverse = np.abs(np.fft.irfft(fft_masked, n=len(signals_full)))\n",
    "plt.figure()\n",
    "plt.plot(inverse)\n",
    "plt.title('inverse')\n",
    "\n",
    "# TODO(FD) why is there a factor of 2 necessary? \n",
    "#fft_inverse = np.fft.rfft(valid_inverse)\n",
    "#freq_inverse = np.fft.rfftfreq(len(valid_inverse), 2/FS)\n",
    "#plt.figure()\n",
    "#plt.plot(freq_inverse, np.abs(fft_inverse))\n",
    "#plt.title('inverse of inverse fft')"
   ]
  },
  {
   "cell_type": "code",
   "execution_count": null,
   "metadata": {},
   "outputs": [],
   "source": [
    "log_fft = np.log10(np.abs(fft)**2)\n",
    "\n",
    "plt.figure()\n",
    "plt.plot(freqs, log_fft)\n",
    "plt.title('log-fft')\n",
    "\n",
    "#log_fft_masked = apply_bandpass(log_fft, method=method)\n",
    "log_fft_masked = log_fft\n",
    "cepstrum = np.abs(np.fft.irfft(log_fft_masked, n=len(signals_full)))\n",
    "\n",
    "plt.figure()\n",
    "plt.plot(cepstrum)\n",
    "plt.title('sepctrum')\n"
   ]
  },
  {
   "cell_type": "code",
   "execution_count": null,
   "metadata": {},
   "outputs": [],
   "source": [
    "# Angle stuff"
   ]
  },
  {
   "cell_type": "code",
   "execution_count": null,
   "metadata": {},
   "outputs": [],
   "source": [
    "fs = 1000\n",
    "duration = 0.3\n",
    "f = 12\n",
    "phase = - np.pi/2\n",
    "times = np.arange(0, duration, step=1/fs)\n",
    "signal = np.cos(2*np.pi*f*times + phase) # 90\n",
    "plt.plot(signal)"
   ]
  },
  {
   "cell_type": "code",
   "execution_count": null,
   "metadata": {},
   "outputs": [],
   "source": [
    "nmax = 1000\n",
    "fft = np.fft.rfft(signal, n=nmax) / len(signal)\n",
    "freq = np.fft.rfftfreq(n=nmax)\n",
    "fig, axs = plt.subplots(2, 1, sharex=True)\n",
    "axs[0].plot(freq, np.abs(fft))\n",
    "#phase = np.unwrap(np.angle(fft))\n",
    "phase = np.angle(fft)\n",
    "axs[1].plot(freq, 180 * phase / np.pi)\n",
    "axs[0].set_xlim(0.01, 0.02)"
   ]
  },
  {
   "cell_type": "code",
   "execution_count": null,
   "metadata": {},
   "outputs": [],
   "source": [
    "freq_max = freq[np.argmax(np.abs(fft))]\n",
    "period_max = 1/freq_max\n",
    "duration = max(times)-min(times)\n",
    "\n",
    "n = duration // period_max\n",
    "phase = duration - n*period_max\n",
    "print(n, freq_max, phase)\n",
    "print('total', n*period_max + phase)\n",
    "print(duration)"
   ]
  },
  {
   "cell_type": "code",
   "execution_count": null,
   "metadata": {},
   "outputs": [],
   "source": [
    "import IPython"
   ]
  },
  {
   "cell_type": "code",
   "execution_count": null,
   "metadata": {},
   "outputs": [],
   "source": [
    "fs = 44100\n",
    "times = np.arange(0, 2, step=1/fs)\n",
    "f1 = 500\n",
    "f2 = 800\n",
    "sine1 = np.sin(2*np.pi*f1*times)\n",
    "sine2 = np.sin(2*np.pi*f2*times)\n",
    "sine = sine1 + sine2\n",
    "IPython.display.Audio(sine, rate=fs)"
   ]
  },
  {
   "cell_type": "code",
   "execution_count": null,
   "metadata": {},
   "outputs": [],
   "source": []
  }
 ],
 "metadata": {
  "kernelspec": {
   "display_name": "Python 3",
   "language": "python",
   "name": "python3"
  },
  "language_info": {
   "codemirror_mode": {
    "name": "ipython",
    "version": 3
   },
   "file_extension": ".py",
   "mimetype": "text/x-python",
   "name": "python",
   "nbconvert_exporter": "python",
   "pygments_lexer": "ipython3",
   "version": "3.6.9"
  },
  "toc": {
   "base_numbering": 1,
   "nav_menu": {},
   "number_sections": true,
   "sideBar": true,
   "skip_h1_title": false,
   "title_cell": "Table of Contents",
   "title_sidebar": "Contents",
   "toc_cell": false,
   "toc_position": {},
   "toc_section_display": true,
   "toc_window_display": false
  }
 },
 "nbformat": 4,
 "nbformat_minor": 4
}
