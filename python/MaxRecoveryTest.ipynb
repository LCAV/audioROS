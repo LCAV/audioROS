{
 "cells": [
  {
   "cell_type": "code",
   "execution_count": null,
   "metadata": {},
   "outputs": [],
   "source": [
    "import numpy as np\n",
    "import matplotlib.pylab as plt\n",
    "\n",
    "%reload_ext autoreload\n",
    "%autoreload 2"
   ]
  },
  {
   "cell_type": "code",
   "execution_count": null,
   "metadata": {},
   "outputs": [],
   "source": [
    "FS = 32000\n",
    "N_BUFFER = 2048\n",
    "N_FREQS = 32\n",
    "\n",
    "f_noises = [300, 450]\n",
    "\n",
    "f = FS/N_BUFFER*(32.5)\n",
    "print(f)\n",
    "times = np.arange(0, 1, 1/FS)\n",
    "signal_t = 1.0 * np.sin(2*np.pi*f*times)\n",
    "for f_noise in f_noises:\n",
    "    signal_t += 0.8*np.sin(2*np.pi*f_noise*times)\n",
    "\n",
    "buffer_t = signal_t[:N_BUFFER]\n",
    "plt.scatter(times[:N_BUFFER], buffer_t, s=1.0)\n",
    "plt.xlim(0, 1/f)"
   ]
  },
  {
   "cell_type": "code",
   "execution_count": null,
   "metadata": {},
   "outputs": [],
   "source": [
    "buffer_f = 2 / N_BUFFER * np.fft.rfft(buffer_t)\n",
    "freq = np.fft.rfftfreq(N_BUFFER, 1/FS)\n",
    "plt.scatter(freq, np.abs(buffer_f))\n",
    "plt.xlim(0, f + 200)"
   ]
  },
  {
   "cell_type": "code",
   "execution_count": null,
   "metadata": {},
   "outputs": [],
   "source": [
    "f_bin = int(f * N_BUFFER / FS) + 1\n",
    "print(f)\n",
    "print(freq[f_bin])\n",
    "bins = np.arange(f_bin - N_FREQS / 2, f_bin + N_FREQS / 2).astype(np.int)\n",
    "\n",
    "plt.scatter(freq[bins], np.abs(buffer_f[bins]))"
   ]
  },
  {
   "cell_type": "code",
   "execution_count": null,
   "metadata": {},
   "outputs": [],
   "source": [
    "buffer_f_padded = np.zeros(N_BUFFER // 2 + 1, dtype=np.complex)\n",
    "buffer_f_padded[bins] = buffer_f[bins]"
   ]
  },
  {
   "cell_type": "code",
   "execution_count": null,
   "metadata": {},
   "outputs": [],
   "source": [
    "buffer_t_padded = np.fft.irfft(buffer_f_padded, n=N_BUFFER)"
   ]
  },
  {
   "cell_type": "code",
   "execution_count": null,
   "metadata": {},
   "outputs": [],
   "source": [
    "plt.scatter(times[:N_BUFFER], buffer_t_padded)\n",
    "plt.xlim(0, 2/f)"
   ]
  },
  {
   "cell_type": "code",
   "execution_count": null,
   "metadata": {},
   "outputs": [],
   "source": [
    "pad_factor = 10\n",
    "buffer_f_cont = np.fft.rfft(buffer_t_padded, n=pad_factor*N_BUFFER)\n",
    "freq_cont = np.fft.rfftfreq(pad_factor*N_BUFFER, d=1/FS)"
   ]
  },
  {
   "cell_type": "code",
   "execution_count": null,
   "metadata": {},
   "outputs": [],
   "source": [
    "plt.plot(freq_cont, np.abs(buffer_f_cont))\n",
    "plt.scatter(freq, np.abs(buffer_f))\n",
    "plt.xlim(0, f + 200)"
   ]
  },
  {
   "cell_type": "code",
   "execution_count": null,
   "metadata": {},
   "outputs": [],
   "source": [
    "from scipy.interpolate import lagrange\n",
    "from frequency_analysis import fit_peak\n",
    "\n",
    "fig, ax = plt.subplots()\n",
    "\n",
    "n = 4\n",
    "ax.scatter(freq[bins], np.abs(buffer_f[bins]), color='C0')\n",
    "chosen_bins = range(f_bin-n,f_bin+n) \n",
    "x = freq[chosen_bins]\n",
    "y = np.abs(buffer_f)[chosen_bins]\n",
    "plt.scatter(x, y, color='C1')\n",
    "\n",
    "poly = lagrange(x, y)\n",
    "freq_lagrange = np.linspace(min(x), max(x), 100)\n",
    "y_lagrange = np.abs(poly(freq_lagrange))\n",
    "ax.plot(freq_lagrange, y_lagrange, color='C2')\n",
    "print(max(y_lagrange))\n",
    "\n",
    "mag, p = fit_peak(np.abs(buffer_f), f_bin)\n",
    "freq_p = (f_bin + p)*FS/N_BUFFER\n",
    "ax.plot([f0, f0], [0, mag], c='C3')\n",
    "print(mag, freq_p)"
   ]
  },
  {
   "cell_type": "code",
   "execution_count": null,
   "metadata": {},
   "outputs": [],
   "source": [
    "from frequency_analysis import interpolate_peak\n",
    "    \n",
    "fig, ax = plt.subplots()\n",
    "mag, f0 = interpolate_peak(buffer_f_padded, freq, ax=ax)\n",
    "ax.plot([f0, f0], [0, mag], c='C1')\n",
    "ax.set_xlim(0, 1000)"
   ]
  },
  {
   "cell_type": "code",
   "execution_count": null,
   "metadata": {},
   "outputs": [],
   "source": []
  },
  {
   "cell_type": "code",
   "execution_count": null,
   "metadata": {},
   "outputs": [],
   "source": []
  },
  {
   "cell_type": "code",
   "execution_count": null,
   "metadata": {},
   "outputs": [],
   "source": []
  }
 ],
 "metadata": {
  "kernelspec": {
   "display_name": "Python 3",
   "language": "python",
   "name": "python3"
  },
  "language_info": {
   "codemirror_mode": {
    "name": "ipython",
    "version": 3
   },
   "file_extension": ".py",
   "mimetype": "text/x-python",
   "name": "python",
   "nbconvert_exporter": "python",
   "pygments_lexer": "ipython3",
   "version": "3.6.9"
  },
  "toc": {
   "base_numbering": 1,
   "nav_menu": {},
   "number_sections": true,
   "sideBar": true,
   "skip_h1_title": false,
   "title_cell": "Table of Contents",
   "title_sidebar": "Contents",
   "toc_cell": false,
   "toc_position": {},
   "toc_section_display": true,
   "toc_window_display": false
  }
 },
 "nbformat": 4,
 "nbformat_minor": 4
}
