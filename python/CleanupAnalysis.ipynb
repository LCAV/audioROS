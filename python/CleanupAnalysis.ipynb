{
 "cells": [
  {
   "cell_type": "code",
   "execution_count": null,
   "metadata": {},
   "outputs": [],
   "source": [
    "import math\n",
    "import sys\n",
    "\n",
    "import IPython\n",
    "import IPython.display as ipd\n",
    "import matplotlib.pylab as plt\n",
    "import numpy as np\n",
    "import pandas as pd\n",
    "\n",
    "%reload_ext autoreload\n",
    "%autoreload 2\n",
    "\n",
    "%matplotlib inline\n",
    "#%matplotlib notebook\n",
    "\n",
    "from matplotlib import rcParams\n",
    "\n",
    "rcParams[\"figure.max_open_warning\"] = False\n",
    "rcParams[\"font.family\"] = 'DejaVu Sans'\n",
    "rcParams[\"font.size\"] = 12"
   ]
  },
  {
   "cell_type": "markdown",
   "metadata": {},
   "source": [
    "# DF experiments"
   ]
  },
  {
   "cell_type": "code",
   "execution_count": null,
   "metadata": {},
   "outputs": [],
   "source": [
    "exp_name = \"2021_07_08_stepper_fast\";  # new hardware, new sweep\n",
    "#exp_name = \"2021_07_08_stepper_slow\";  # new hardware, new sweep\n",
    "#exp_name = \"2021_07_27_epuck_wall\";  # new hardware, new sweep\n",
    "# new buzzer\n",
    "\n",
    "motors = \"all45000\"\n",
    "bin_selection = 6\n",
    "\n",
    "#motors = \"sweep_and_move\" \n",
    "#bin_selection = 0\n",
    "\n",
    "mic_type = \"audio_deck\" \n",
    "source = \"sweep_new\"\n",
    "fname = f'plots/experiments/{exp_name}_{motors}_{bin_selection}'"
   ]
  },
  {
   "cell_type": "markdown",
   "metadata": {},
   "source": [
    "## spectrogram analysis"
   ]
  },
  {
   "cell_type": "code",
   "execution_count": null,
   "metadata": {},
   "outputs": [],
   "source": [
    "# get first distance measurement from the chosen datatype. \n",
    "all_data = pd.read_pickle(f'../experiments/{exp_name}/all_data.pkl')\n",
    "row_idx = 1\n",
    "data = all_data.loc[(all_data.mic_type==mic_type) & \n",
    "                    (all_data.motors==motors) &\n",
    "                    (all_data.bin_selection==bin_selection)].iloc[row_idx]\n",
    "data"
   ]
  },
  {
   "cell_type": "code",
   "execution_count": null,
   "metadata": {},
   "outputs": [],
   "source": [
    "print(data.frequencies_matrix.shape)\n",
    "print(data.stft.shape)\n",
    "for i in range(data.frequencies_matrix.shape[0]):\n",
    "    plt.figure()\n",
    "    plt.title(f'sweep{i}')\n",
    "    plt.scatter(range(data.frequencies_matrix.shape[1]), data.frequencies_matrix[i, :])\n",
    "    plt.xlabel('time idx')\n",
    "    plt.ylabel('chosen frequency [Hz]')\n",
    "    \n",
    "    plt.figure()\n",
    "    plt.plot(data.frequencies_matrix[i, :], np.abs(data.stft[i, 0]))"
   ]
  },
  {
   "cell_type": "code",
   "execution_count": null,
   "metadata": {},
   "outputs": [],
   "source": [
    "from frequency_analysis import get_spectrogram_raw\n",
    "spec, freqs = get_spectrogram_raw(data.frequencies_matrix, data.stft)\n",
    "fig, ax = plt.subplots()\n",
    "for i in range(spec.shape[2]):\n",
    "    ax.scatter(freqs[freqs>0], spec[freqs>0, 0, i], label=f'sweep{i}')\n",
    "    #ax.plot(freqs[freqs>0], spec[freqs>0, 0, i], label=f'sweep{i}')\n",
    "ax.set_yscale('log')\n",
    "ax.legend()\n",
    "#ax.set_ylim(0.3, 10)\n",
    "ax.set_ylim(1e-3, 100)\n",
    "ax.set_xlabel('frequency [Hz]')\n",
    "ax.set_ylabel('amplitude')"
   ]
  },
  {
   "cell_type": "code",
   "execution_count": null,
   "metadata": {},
   "outputs": [],
   "source": [
    "from plotting_tools import pcolorfast_custom, add_colorbar, save_fig\n",
    "fig, ax = plt.subplots()\n",
    "fig.set_size_inches(5, 3)\n",
    "spec = np.abs(spec[freqs>0, 0, :])\n",
    "im = pcolorfast_custom(ax, data.seconds, freqs[freqs>0], np.log10(spec))#, vmin=1e-5)\n",
    "add_colorbar(fig, ax, im)\n",
    "xticks = np.arange(0, max(data.seconds), step=5) \n",
    "ax.set_xticks(xticks)\n",
    "ax.set_xticklabels(xticks)\n",
    "#yticks = [3000, 4000, 5000]\n",
    "#ax.set_ylim(3000, 5000)\n",
    "#ax.set_yticks(yticks)\n",
    "#ax.set_yticklabels(yticks)\n",
    "ax.set_xlabel('time [s]')\n",
    "ax.set_ylabel('frequency [Hz]')\n",
    "#save_fig(fig, f'{fname}_spec.png')"
   ]
  },
  {
   "cell_type": "markdown",
   "metadata": {},
   "source": [
    "## raw df analysis"
   ]
  },
  {
   "cell_type": "code",
   "execution_count": null,
   "metadata": {},
   "outputs": [],
   "source": [
    "from data_collector import DataCollector\n",
    "\n",
    "data_collector = DataCollector(exp_name, mic_type)\n",
    "print(data_collector.params)\n",
    "backup_exists = data_collector.fill_from_backup(\n",
    "    exp_name, mic_type, motors, bin_selection, appendix=\"_raw\"\n",
    ")\n",
    "data_collector.remove_nan_rows(verbose=True)"
   ]
  },
  {
   "cell_type": "code",
   "execution_count": null,
   "metadata": {},
   "outputs": [],
   "source": [
    "from plotting_tools import plot_df_matrix, save_fig\n",
    "\n",
    "print(data_collector.df)\n",
    "print(data_collector.df.frequency.unique())\n",
    "\n",
    "matrix, dists, freqs = data_collector.get_df_matrix()\n",
    "print(matrix.shape, dists.shape, freqs.shape)\n",
    "fig, axs = plt.subplots(1, matrix.shape[0])\n",
    "fig.set_size_inches(5 * matrix.shape[0], 5)\n",
    "for i in range(matrix.shape[0]):\n",
    "    plot_df_matrix(dists, freqs[freqs>0], matrix[i, freqs>0, :], ax=axs[i])\n",
    "    axs[i].set_title(f\"mic{i}\")\n",
    "axs[0].set_ylabel('raw matrix\\n frequency [Hz]')"
   ]
  },
  {
   "cell_type": "code",
   "execution_count": null,
   "metadata": {},
   "outputs": [],
   "source": [
    "data_collector.df\n",
    "for distance, df_chosen in data_collector.df.groupby('distance'):\n",
    "    plt.figure()\n",
    "    for i_mic, df_mic in df_chosen.groupby('mic'):\n",
    "        i_mic = int(i_mic)\n",
    "        df_mic = df_mic.sort_values(by='time')\n",
    "        label=f'mic{i_mic}, N={len(df_mic)}'\n",
    "        plt.scatter(df_mic.time, df_mic.frequency.values, color=f'C{int(i_mic)}', \n",
    "                    label=label)\n",
    "    plt.title(f'distance {distance}')\n",
    "    plt.xlabel('time')\n",
    "    plt.ylabel('peak frequency')\n",
    "    plt.legend(loc='upper left')\n",
    "    break"
   ]
  },
  {
   "cell_type": "code",
   "execution_count": null,
   "metadata": {},
   "outputs": [],
   "source": [
    "import seaborn as sns\n",
    "\n",
    "def plot_current_df():\n",
    "    fig, ax = plt.subplots()\n",
    "    fig.set_size_inches(5, 5)\n",
    "    sns.scatterplot(\n",
    "        data=data_collector.df, x=\"frequency\", y=\"magnitude\", hue=\"mic\", linewidth=0,\n",
    "        cmap='tab10'\n",
    "    )\n",
    "    ax.set_yscale('log')\n",
    "    #min_y = max(data_collector.df.magnitude.min(), 1e-2)\n",
    "    #max_y = min(data_collector.df.magnitude.max(), 200)\n",
    "    #ax.set_ylim(min_y, max_y)\n",
    "    ax.legend(loc='lower center', ncol=1)"
   ]
  },
  {
   "cell_type": "code",
   "execution_count": null,
   "metadata": {},
   "outputs": [],
   "source": [
    "plot_current_df()"
   ]
  },
  {
   "cell_type": "code",
   "execution_count": null,
   "metadata": {},
   "outputs": [],
   "source": [
    "data_collector.remove_bad_measurements(verbose=True)\n",
    "plot_current_df()"
   ]
  },
  {
   "cell_type": "code",
   "execution_count": null,
   "metadata": {},
   "outputs": [],
   "source": [
    "data_collector.remove_bad_freqs(verbose=True)\n",
    "plot_current_df()"
   ]
  },
  {
   "cell_type": "code",
   "execution_count": null,
   "metadata": {},
   "outputs": [],
   "source": [
    "data_collector.merge_close_freqs(verbose=True)\n",
    "plot_current_df()"
   ]
  },
  {
   "cell_type": "code",
   "execution_count": null,
   "metadata": {},
   "outputs": [],
   "source": [
    "#data_collector.remove_outliers(verbose=True)\n",
    "plot_current_df()"
   ]
  },
  {
   "cell_type": "code",
   "execution_count": null,
   "metadata": {},
   "outputs": [],
   "source": [
    "data_collector.remove_spurious_freqs(verbose=True)\n",
    "plot_current_df()"
   ]
  },
  {
   "cell_type": "code",
   "execution_count": null,
   "metadata": {},
   "outputs": [],
   "source": [
    "data_collector.remove_nan_rows(verbose=True)"
   ]
  },
  {
   "cell_type": "code",
   "execution_count": null,
   "metadata": {
    "scrolled": true
   },
   "outputs": [],
   "source": [
    "from data_collector import prune_df_matrix\n",
    "\n",
    "matrix_cleaned, dists_cleaned, freqs_cleaned = data_collector.get_df_matrix()\n",
    "matrix_pruned, freqs_pruned, *_ = prune_df_matrix(matrix_cleaned, freqs_cleaned, ratio_missing_allowed=0.5)\n",
    "\n",
    "def plot_matrices(dists, freqs, matrix):\n",
    "    fig, axs = plt.subplots(1, matrix.shape[0], sharey=True)\n",
    "    fig.set_size_inches(3 * matrix.shape[0], 3)\n",
    "    for i in range(matrix.shape[0]):\n",
    "        plot_df_matrix(dists, freqs[freqs>0], matrix[i, freqs>0], ax=axs[i])\n",
    "        axs[i].set_title(f\"mic{i}\")\n",
    "        axs[i].set_ylim(2500, 4500)\n",
    "    return fig, axs\n",
    "\n",
    "fig, axs = plot_matrices(dists, freqs, matrix)\n",
    "axs[0].set_ylabel('raw matrix\\n frequency [Hz]')\n",
    "save_fig(fig, f'{fname}_raw_matrix.png')\n",
    "\n",
    "fig, axs = plot_matrices(dists_cleaned, freqs_cleaned, matrix_cleaned)\n",
    "axs[0].set_ylabel('cleaned matrix\\n frequency [Hz]')\n",
    "save_fig(fig, f'{fname}_cleaned_matrix.png')\n",
    "\n",
    "fig, axs = plot_matrices(dists_cleaned, freqs_pruned, matrix_pruned)\n",
    "axs[0].set_ylabel('pruned matrix\\n frequency [Hz]')\n",
    "save_fig(fig, f'{fname}_pruned_matrix.png')"
   ]
  },
  {
   "cell_type": "code",
   "execution_count": null,
   "metadata": {
    "deletable": false,
    "editable": false,
    "run_control": {
     "frozen": true
    }
   },
   "outputs": [],
   "source": [
    "import sys\n",
    "import os\n",
    "sys.path.append(os.path.abspath('./../crazyflie-audio/python/'))\n",
    "from bin_selection import generate_sweep, get_frequencies\n",
    "\n",
    "bins, *_ =  generate_sweep(source)\n",
    "freqs_buzzer = get_frequencies()[bins]\n",
    "\n",
    "if source == \"sweep_new\":\n",
    "    freqs = [2999, 3113, 3236, 3370, 3514, 3632, 3757, 3891, 3986, 4137, 4245, 4358, 4477, 4603, 4737, 4878]\n",
    "    print('error between played and frequency bin:', freqs_buzzer - freqs_cleaned)\n",
    "\n",
    "plt.figure()\n",
    "[plt.plot([f, f], [1, 2], color='C0') for f in freqs_buzzer]\n",
    "[plt.plot([f, f], [2, 3], color='C1') for f in freqs_pruned]\n",
    "[plt.plot([f, f], [3, 4], color='C2') for f in freqs]\n",
    "plt.plot([], [], color='C0', label='buzzer') \n",
    "plt.plot([], [], color='C1', label='pruned')\n",
    "plt.plot([], [], color='C2', label='original')\n",
    "plt.legend()\n",
    "pass"
   ]
  }
 ],
 "metadata": {
  "kernelspec": {
   "display_name": "Python 3",
   "language": "python",
   "name": "python3"
  },
  "language_info": {
   "codemirror_mode": {
    "name": "ipython",
    "version": 3
   },
   "file_extension": ".py",
   "mimetype": "text/x-python",
   "name": "python",
   "nbconvert_exporter": "python",
   "pygments_lexer": "ipython3",
   "version": "3.6.9"
  },
  "toc": {
   "base_numbering": 1,
   "nav_menu": {},
   "number_sections": true,
   "sideBar": true,
   "skip_h1_title": false,
   "title_cell": "Table of Contents",
   "title_sidebar": "Contents",
   "toc_cell": false,
   "toc_position": {},
   "toc_section_display": true,
   "toc_window_display": false
  }
 },
 "nbformat": 4,
 "nbformat_minor": 4
}
