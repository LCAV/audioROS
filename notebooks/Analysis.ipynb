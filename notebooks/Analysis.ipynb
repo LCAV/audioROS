{
 "cells": [
  {
   "cell_type": "code",
   "execution_count": null,
   "metadata": {},
   "outputs": [],
   "source": [
    "import math\n",
    "import sys\n",
    "\n",
    "import IPython\n",
    "import IPython.display as ipd\n",
    "import matplotlib.pylab as plt\n",
    "import numpy as np\n",
    "import pandas as pd\n",
    "\n",
    "%reload_ext autoreload\n",
    "%autoreload 2\n",
    "\n",
    "%matplotlib inline\n",
    "#%matplotlib notebook\n",
    "\n",
    "from matplotlib import rcParams\n",
    "rcParams[\"figure.max_open_warning\"] = False"
   ]
  },
  {
   "cell_type": "code",
   "execution_count": null,
   "metadata": {},
   "outputs": [],
   "source": [
    "def custom_save(function=plt.savefig, fname=\"\"):\n",
    "    if not os.path.exists(os.path.dirname(fname)):\n",
    "        os.makedirs(os.path.dirname(fname))\n",
    "        print('created new directory', os.path.dirname(fname))\n",
    "    try:\n",
    "        # to make sure suptitle is not cut off\n",
    "        function(fname, bbox_inches=\"tight\")\n",
    "    except:\n",
    "        function(fname)\n",
    "    print(\"saved as\", fname)\n",
    "\n",
    "def plot_spectrogram(spectrogram, label):\n",
    "    plt.figure()\n",
    "    plt.pcolormesh(np.log(spectrogram))\n",
    "    plt.xlabel('time index [-]')\n",
    "    plt.ylabel('frequency index [-]')\n",
    "    plt.title(label)\n",
    "    \n",
    "def plot_soundlevel(df, label, ax=None):\n",
    "    if ax is None:\n",
    "        fig, ax = plt.subplots()\n",
    "    ax.semilogy(df.timestamp_s, df.sound_level, label=label)\n",
    "    ax.set_xlabel('time [s]')\n",
    "    ax.set_ylabel('sound level')"
   ]
  },
  {
   "cell_type": "code",
   "execution_count": null,
   "metadata": {},
   "outputs": [],
   "source": [
    "from evaluate_data import  CSV_DIRNAME, WAV_DIRNAME, FS \n",
    "from evaluate_data import read_df, get_spectrogram, add_soundlevel"
   ]
  },
  {
   "cell_type": "markdown",
   "metadata": {},
   "source": [
    "## Compare sound levels"
   ]
  },
  {
   "cell_type": "code",
   "execution_count": null,
   "metadata": {},
   "outputs": [],
   "source": [
    "duration = 10 * 1e3 # miliseconds from end\n",
    "degree = 0\n",
    "snr = False\n",
    "props = False\n",
    "\n",
    "df_source = read_df(degree=degree, props=False, snr=snr, motors=False, source=True)\n",
    "df_all = read_df(degree=degree, props=props, snr=snr, motors=True, source=True)\n",
    "df_props = read_df(degree=0, props=False, snr=False, motors=True, source=False)\n",
    "\n",
    "spectrogram_source = get_spectrogram(df_source)\n",
    "spectrogram_all = get_spectrogram(df_all)\n",
    "spectrogram_props = get_spectrogram(df_props)\n",
    "\n",
    "plot_spectrogram(spectrogram_source, label=\"source\")\n",
    "plot_spectrogram(spectrogram_all, label=\"all\")\n",
    "plot_spectrogram(spectrogram_props, label=\"props\")\n",
    "\n",
    "add_soundlevel(df_source, duration=duration)\n",
    "add_soundlevel(df_all, duration=duration)\n",
    "add_soundlevel(df_props, duration=duration)\n",
    "\n",
    "fig, ax = plt.subplots()\n",
    "plot_soundlevel(df_source, \"source\", ax=ax)\n",
    "plot_soundlevel(df_all, \"all\", ax=ax)\n",
    "plot_soundlevel(df_props, \"props\", ax=ax)\n",
    "plt.legend()\n",
    "plt.title('audio deck signals, selected 32 frequencies')"
   ]
  },
  {
   "cell_type": "code",
   "execution_count": null,
   "metadata": {},
   "outputs": [],
   "source": [
    "def read_df_from_wav(fname):\n",
    "    import wavio\n",
    "    from scipy.signal import stft\n",
    "    w = wavio.read(fname)\n",
    "    source_data = w.data\n",
    "    \n",
    "    n_buffer = 1024\n",
    "\n",
    "    f, t, source_stft = stft(source_data, w.rate, nperseg=n_buffer, axis=0)\n",
    "    source_stft = source_stft.transpose([1, 0, 2]) # channels x frequencies x times\n",
    "    source_freq = np.fft.rfftfreq(n=n_buffer, d=1/w.rate)\n",
    "\n",
    "    df = pd.DataFrame(columns=df_source.columns)\n",
    "    for i in range(source_stft.shape[2]):\n",
    "        df.loc[len(df), :] = {\n",
    "            \"index\": i,\n",
    "            \"timestamp\": i * 1024 /w.rate * 1000, # miliseconds\n",
    "            \"n_mics\": 2,\n",
    "            \"topic\": \"measurement_mic\",\n",
    "            \"signals_f\": source_stft[:, :, i], \n",
    "            \"frequencies\": source_freq,\n",
    "            \"n_frequencies\": len(source_freq)\n",
    "        }\n",
    "    return df\n",
    "\n",
    "fname_source = f'{WAV_DIRNAME}/crazyflie_audio_measurements_nomotors_nosnr_noprops_source_45.wav'\n",
    "fname_all =    f'{WAV_DIRNAME}/crazyflie_audio_measurements_motors_nosnr_noprops_source_45.wav'\n",
    "fname_props =  f'{WAV_DIRNAME}/crazyflie_audio_measurements_motors_nosnr_noprops_nosource_45.wav'\n",
    "\n",
    "#df_wav_all = read_df_from_wav(fname_all) \n",
    "#df_wav_source = read_df_from_wav(fname_source) \n",
    "#df_wav_props = read_df_from_wav(fname_props) \n",
    "#df_wav_all.to_pickle(fname_all.replace('.wav', '.pk'))\n",
    "#df_wav_source.to_pickle(fname_source.replace('.wav', '.pk'))\n",
    "#df_wav_props.to_pickle(fname_props.replace('.wav', '.pk'))\n",
    "\n",
    "df_wav_all = pd.read_pickle(fname_all.replace('.wav', '.pk'))\n",
    "df_wav_source = pd.read_pickle(fname_source.replace('.wav', '.pk'))\n",
    "df_wav_props = pd.read_pickle(fname_props.replace('.wav', '.pk'))\n",
    "\n",
    "thresh = 1e2\n",
    "add_soundlevel(df_wav_source, threshold=thresh)\n",
    "add_soundlevel(df_wav_all, threshold=thresh)\n",
    "add_soundlevel(df_wav_props, threshold=thresh)\n",
    "\n",
    "fig, ax = plt.subplots()\n",
    "plot_soundlevel(df_wav_source, label=\"source\", ax=ax)\n",
    "plot_soundlevel(df_wav_all, label=\"all\", ax=ax)\n",
    "plot_soundlevel(df_wav_props, label=\"props\", ax=ax)\n",
    "plt.legend()\n",
    "plt.title('measurement mic signals, all 512 frequencies')"
   ]
  },
  {
   "cell_type": "code",
   "execution_count": null,
   "metadata": {},
   "outputs": [],
   "source": [
    "def select_bins(row):\n",
    "    signals_f = row.signals_f[:, bins_wav_selected]\n",
    "    frequencies = row.frequencies[bins_wav_selected]\n",
    "    row.frequencies = frequencies\n",
    "    row.n_frequencies = len(frequencies)\n",
    "    return row\n",
    "\n",
    "freqs_selected = df_source.loc[0, 'frequencies']\n",
    "freqs_wav = df_wav_source.loc[0, 'frequencies']\n",
    "bins_wav_selected = [np.argmin(np.abs(freq - freqs_wav)) for freq in freqs_selected]\n",
    "\n",
    "df_wav_selected_all = df_wav_all.apply(select_bins, axis=1)\n",
    "df_wav_selected_source = df_wav_source.apply(select_bins, axis=1)\n",
    "df_wav_selected_props = df_wav_props.apply(select_bins, axis=1)\n",
    "\n",
    "print(f\"reduced from {len(df_wav_all.loc[0, 'frequencies'])} to {len(df_wav_selected_all.loc[0, 'frequencies'])}\")\n",
    "\n",
    "thresh = 1e2\n",
    "add_soundlevel(df_wav_selected_source, duration=duration, threshold=thresh)\n",
    "add_soundlevel(df_wav_selected_all, duration=duration, threshold=thresh)\n",
    "add_soundlevel(df_wav_selected_props, duration=duration, threshold=thresh)\n",
    "\n",
    "fig, ax = plt.subplots()\n",
    "plot_soundlevel(df_wav_selected_source, label=\"source\", ax=ax)\n",
    "plot_soundlevel(df_wav_selected_all, label=\"all\", ax=ax)\n",
    "plot_soundlevel(df_wav_selected_props, label=\"props\", ax=ax)\n",
    "plt.legend()\n",
    "plt.title('measurement mic signals, selected 32 frequencies')"
   ]
  },
  {
   "cell_type": "markdown",
   "metadata": {},
   "source": [
    "## Beamforming"
   ]
  },
  {
   "cell_type": "code",
   "execution_count": null,
   "metadata": {},
   "outputs": [],
   "source": [
    "from evaluate_data import evaluate_data\n",
    "\n",
    "fname = 'results/static_spectra.pkl'\n",
    "result_df = evaluate_data(fname)"
   ]
  },
  {
   "cell_type": "code",
   "execution_count": null,
   "metadata": {},
   "outputs": [],
   "source": [
    "plt.figure()\n",
    "plt.pcolormesh(df.timestamp_s, angles, np.log(das_spectrum))\n",
    "plt.axhline(gt_degrees, color='orange')\n",
    "plt.xlabel('time [s]')\n",
    "plt.ylabel('angle [deg]')\n",
    "plt.title(f'DAS {combine}')\n",
    "\n",
    "plt.figure()\n",
    "plt.pcolormesh(df.timestamp_s, angles, np.log(mvdr_spectrum))\n",
    "plt.axhline(gt_degrees, color='orange')\n",
    "plt.xlabel('time [s]')\n",
    "plt.ylabel('angle [deg]')\n",
    "plt.title(f'MVDR {combine}')"
   ]
  },
  {
   "cell_type": "code",
   "execution_count": null,
   "metadata": {},
   "outputs": [],
   "source": [
    "plt.figure()\n",
    "plt.pcolormesh(angles, freqs, np.log(das_spectrum_all))\n",
    "plt.axvline(gt_degrees, color='orange')\n",
    "plt.title('DAS')\n",
    "plt.xlabel('angle [deg]')\n",
    "plt.ylabel('frequency [Hz]')\n",
    "\n",
    "plt.figure()\n",
    "plt.pcolormesh(angles, freqs, np.log(mvdr_spectrum_all))\n",
    "plt.axvline(gt_degrees, color='orange')\n",
    "plt.title('MVDR')\n",
    "plt.xlabel('angle [deg]')\n",
    "plt.ylabel('frequency [Hz]')"
   ]
  },
  {
   "cell_type": "markdown",
   "metadata": {},
   "source": [
    "## Plot results"
   ]
  },
  {
   "cell_type": "code",
   "execution_count": null,
   "metadata": {},
   "outputs": [],
   "source": [
    "fname = 'results/static_spectra.pkl'\n",
    "result_df = pd.read_pickle(fname)\n",
    "angles = np.linspace(0, 360, 181)"
   ]
  },
  {
   "cell_type": "markdown",
   "metadata": {},
   "source": [
    "## A. Ideal case: what is best combination of method+combine+normalize? "
   ]
  },
  {
   "cell_type": "code",
   "execution_count": null,
   "metadata": {
    "scrolled": false
   },
   "outputs": [],
   "source": [
    "import itertools\n",
    "from evaluate_data import degree_list, method_list, combine_list, normalize_list\n",
    "\n",
    "base_dict = dict(\n",
    "    motors=False,\n",
    "    props=False,\n",
    "    snr=False, \n",
    "    degree=None, # will be set later\n",
    "    method=None,\n",
    "    combine=None,\n",
    "    normalize=None\n",
    ")\n",
    "\n",
    "for degree, method, normalize, combine in itertools.product(degree_list, method_list, normalize_list, combine_list):\n",
    "    gt_degree = 180 - degree\n",
    "    \n",
    "    this_dict = base_dict.copy()\n",
    "    this_dict[\"degree\"] = degree\n",
    "    this_dict[\"method\"] = method\n",
    "    this_dict[\"combine\"] = combine\n",
    "    this_dict[\"normalize\"] = normalize\n",
    "    \n",
    "    this_df = result_df.copy()\n",
    "    for key, val in this_dict.items():\n",
    "        if not len(this_df.loc[this_df[key]==val]):\n",
    "            print(f'did not find any {key}=={val} in results. Available: {this_df[key].unique()}')\n",
    "        this_df = this_df.loc[this_df[key]==val]\n",
    "        if not len(this_df):\n",
    "            break\n",
    "            \n",
    "    if not len(this_df):\n",
    "        continue \n",
    "        \n",
    "        \n",
    "    # angles x times\n",
    "    full_spectrum = np.array([*this_df.loc[:, \"spectrum\"]]).T\n",
    "    \n",
    "    fig = plt.figure()\n",
    "    fig.set_size_inches(10, 5)\n",
    "    plt.pcolormesh(range(full_spectrum.shape[1]), angles, np.log(full_spectrum))\n",
    "    plt.colorbar()\n",
    "    plt.axhline(gt_degree, color='orange', ls=':')\n",
    "    plt.xlabel('time idx [-]')\n",
    "    plt.ylabel('angle [deg]')\n",
    "    plt.title(f\"{degree} deg, method:{method}, normalize:{normalize}, combine:{combine}\")"
   ]
  },
  {
   "cell_type": "markdown",
   "metadata": {},
   "source": [
    "## B. no motors: does it help to use high-SNR bins? "
   ]
  },
  {
   "cell_type": "code",
   "execution_count": null,
   "metadata": {},
   "outputs": [],
   "source": [
    "base_dict = dict(\n",
    "    motors=False,\n",
    "    props=False,\n",
    "    snr=None, # will be set later\n",
    "    degrees=None, # will be set later\n",
    "    method='mvdr',\n",
    "    combine='product'\n",
    ")\n",
    "\n",
    "this_dict = base_dict.copy()\n",
    "this_dict[\"degree\"] = degree\n",
    "this_dict[\"snr\"] = snr"
   ]
  },
  {
   "cell_type": "markdown",
   "metadata": {},
   "source": [
    "## C. motors, no filtering: does it help to use high-SNR bins? "
   ]
  },
  {
   "cell_type": "code",
   "execution_count": null,
   "metadata": {},
   "outputs": [],
   "source": []
  }
 ],
 "metadata": {
  "kernelspec": {
   "display_name": "Python 3",
   "language": "python",
   "name": "python3"
  },
  "language_info": {
   "codemirror_mode": {
    "name": "ipython",
    "version": 3
   },
   "file_extension": ".py",
   "mimetype": "text/x-python",
   "name": "python",
   "nbconvert_exporter": "python",
   "pygments_lexer": "ipython3",
   "version": "3.6.9"
  }
 },
 "nbformat": 4,
 "nbformat_minor": 4
}
