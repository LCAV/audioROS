{
 "cells": [
  {
   "cell_type": "code",
   "execution_count": null,
   "metadata": {},
   "outputs": [],
   "source": [
    "import math\n",
    "import sys\n",
    "\n",
    "sys.path.append(\"../\")\n",
    "\n",
    "import IPython\n",
    "import IPython.display as ipd\n",
    "import matplotlib.pylab as plt\n",
    "import numpy as np\n",
    "import pandas as pd\n",
    "\n",
    "%reload_ext autoreload\n",
    "%autoreload 2\n",
    "\n",
    "%matplotlib inline\n",
    "#%matplotlib notebook\n",
    "\n",
    "np.random.seed(1)\n",
    "\n",
    "def custom_save(function=plt.savefig, fname=\"\"):\n",
    "    if not os.path.exists(os.path.dirname(fname)):\n",
    "        os.makedirs(os.path.dirname(fname))\n",
    "        print('created new directory', os.path.dirname(fname))\n",
    "    try:\n",
    "        # to make sure suptitle is not cut off\n",
    "        function(fname, bbox_inches=\"tight\")\n",
    "    except:\n",
    "        function(fname)\n",
    "    print(\"saved as\", fname)\n",
    "\n",
    "from matplotlib import rcParams\n",
    "\n",
    "rcParams[\"figure.max_open_warning\"] = False"
   ]
  },
  {
   "cell_type": "code",
   "execution_count": null,
   "metadata": {},
   "outputs": [],
   "source": [
    "import csv\n",
    "\n",
    "def convert(row):\n",
    "    arrays = [\"signals_real_vect\", \"signals_imag_vect\", \"frequencies\"]\n",
    "    ints = [\"n_mics\", \"n_frequencies\"]\n",
    "    for array_name in arrays:\n",
    "        row[array_name] = np.fromstring(row[array_name].replace('[', '').replace(']',''), sep=' ', dtype=np.float32)\n",
    "    for int_name in ints:\n",
    "        row[int_name] = int(row[int_name])\n",
    "    return row\n",
    "\n",
    "#fname = '../test.csv'\n",
    "fname = '../experiments/nomotors_nosnr_noprops_source.csv'\n",
    "\n",
    "df = pd.read_csv(fname)\n",
    "df = df.apply(convert, axis=1)"
   ]
  },
  {
   "cell_type": "code",
   "execution_count": null,
   "metadata": {},
   "outputs": [],
   "source": [
    "import csv\n",
    "\n",
    "#fname = '../test.csv'\n",
    "fname = '../experiments/nomotors_nosnr_noprops_source.csv'\n",
    "\n",
    "plt.figure()\n",
    "\n",
    "spectrogram = None\n",
    "for i, row in df.iterrows(): \n",
    "    signals_f = row.signals_real_vect + 1j * row.signals_imag_vect\n",
    "    signals_f = signals_f.reshape((row.n_mics, row.n_frequencies))\n",
    "    new_column = np.sum(np.abs(signals_f), axis=0)\n",
    "\n",
    "    #signals_f = signals_f.reshape((int(row[\"n_frequencies\"]), int(row[\"n_mics\"])))\n",
    "    #new_column = np.sum(np.abs(signals_f), axis=1)\n",
    "\n",
    "    if spectrogram is None:\n",
    "        spectrogram = new_column\n",
    "    else:\n",
    "        spectrogram = np.c_[spectrogram, new_column]\n",
    "            \n",
    "plt.pcolormesh(spectrogram)\n",
    "plt.xlabel('time index [-]')\n",
    "plt.ylabel('frequency index [-]')"
   ]
  },
  {
   "cell_type": "code",
   "execution_count": null,
   "metadata": {},
   "outputs": [],
   "source": [
    "# detect the end time and cut fixed time before it"
   ]
  },
  {
   "cell_type": "code",
   "execution_count": null,
   "metadata": {},
   "outputs": [],
   "source": [
    "# create sound level plot over time"
   ]
  },
  {
   "cell_type": "code",
   "execution_count": null,
   "metadata": {},
   "outputs": [],
   "source": [
    "# calculate spatial spectrum using mvdr beamforming method "
   ]
  }
 ],
 "metadata": {
  "kernelspec": {
   "display_name": "Python 3",
   "language": "python",
   "name": "python3"
  },
  "language_info": {
   "codemirror_mode": {
    "name": "ipython",
    "version": 3
   },
   "file_extension": ".py",
   "mimetype": "text/x-python",
   "name": "python",
   "nbconvert_exporter": "python",
   "pygments_lexer": "ipython3",
   "version": "3.6.9"
  }
 },
 "nbformat": 4,
 "nbformat_minor": 4
}
