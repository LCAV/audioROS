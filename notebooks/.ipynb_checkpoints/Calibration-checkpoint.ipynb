{
 "cells": [
  {
   "cell_type": "code",
   "execution_count": 11,
   "metadata": {},
   "outputs": [],
   "source": [
    "import math\n",
    "import sys\n",
    "\n",
    "import IPython\n",
    "import IPython.display as ipd\n",
    "import matplotlib.pylab as plt\n",
    "import numpy as np\n",
    "import pandas as pd\n",
    "\n",
    "sys.path.insert(1, '../src/audio_stack/')\n",
    "sys.path.insert(1, '../src/crazyflie_description/')\n",
    "\n",
    "\n",
    "%reload_ext autoreload\n",
    "%autoreload 2\n",
    "\n",
    "%matplotlib inline\n",
    "#%matplotlib notebook\n",
    "\n",
    "from matplotlib import rcParams\n",
    "rcParams[\"figure.max_open_warning\"] = False"
   ]
  },
  {
   "cell_type": "markdown",
   "metadata": {},
   "source": [
    "# 1. Frequency calibration"
   ]
  },
  {
   "cell_type": "code",
   "execution_count": 5,
   "metadata": {},
   "outputs": [
    {
     "ename": "ModuleNotFoundError",
     "evalue": "No module named 'progressbar'",
     "output_type": "error",
     "traceback": [
      "\u001b[0;31m---------------------------------------------------------------------------\u001b[0m",
      "\u001b[0;31mModuleNotFoundError\u001b[0m                       Traceback (most recent call last)",
      "\u001b[0;32m<ipython-input-5-77c4ad130f92>\u001b[0m in \u001b[0;36m<module>\u001b[0;34m\u001b[0m\n\u001b[0;32m----> 1\u001b[0;31m \u001b[0;32mfrom\u001b[0m \u001b[0mwall_analysis\u001b[0m \u001b[0;32mimport\u001b[0m \u001b[0mparse_calibration_experiments\u001b[0m\u001b[0;34m\u001b[0m\u001b[0;34m\u001b[0m\u001b[0m\n\u001b[0m\u001b[1;32m      2\u001b[0m \u001b[0;34m\u001b[0m\u001b[0m\n\u001b[1;32m      3\u001b[0m \u001b[0mfname\u001b[0m \u001b[0;34m=\u001b[0m \u001b[0;34m'results/calibration.pkl'\u001b[0m\u001b[0;34m\u001b[0m\u001b[0;34m\u001b[0m\u001b[0m\n\u001b[1;32m      4\u001b[0m \u001b[0;34m\u001b[0m\u001b[0m\n\u001b[1;32m      5\u001b[0m \u001b[0;32mtry\u001b[0m\u001b[0;34m:\u001b[0m\u001b[0;34m\u001b[0m\u001b[0;34m\u001b[0m\u001b[0m\n",
      "\u001b[0;32m~/Documents/LCAV_Repo/audioROS/notebooks/wall_analysis.py\u001b[0m in \u001b[0;36m<module>\u001b[0;34m\u001b[0m\n\u001b[1;32m      4\u001b[0m \u001b[0;32mimport\u001b[0m \u001b[0mnumpy\u001b[0m \u001b[0;32mas\u001b[0m \u001b[0mnp\u001b[0m\u001b[0;34m\u001b[0m\u001b[0;34m\u001b[0m\u001b[0m\n\u001b[1;32m      5\u001b[0m \u001b[0;32mimport\u001b[0m \u001b[0mpandas\u001b[0m \u001b[0;32mas\u001b[0m \u001b[0mpd\u001b[0m\u001b[0;34m\u001b[0m\u001b[0;34m\u001b[0m\u001b[0m\n\u001b[0;32m----> 6\u001b[0;31m \u001b[0;32mimport\u001b[0m \u001b[0mprogressbar\u001b[0m\u001b[0;34m\u001b[0m\u001b[0;34m\u001b[0m\u001b[0m\n\u001b[0m\u001b[1;32m      7\u001b[0m \u001b[0;34m\u001b[0m\u001b[0m\n\u001b[1;32m      8\u001b[0m \u001b[0;32mfrom\u001b[0m \u001b[0mcrazyflie_description_py\u001b[0m\u001b[0;34m.\u001b[0m\u001b[0mparameters\u001b[0m \u001b[0;32mimport\u001b[0m \u001b[0mN_BUFFER\u001b[0m\u001b[0;34m,\u001b[0m \u001b[0mFS\u001b[0m\u001b[0;34m\u001b[0m\u001b[0;34m\u001b[0m\u001b[0m\n",
      "\u001b[0;31mModuleNotFoundError\u001b[0m: No module named 'progressbar'"
     ]
    }
   ],
   "source": [
    "from wall_analysis import parse_calibration_experiments\n",
    "\n",
    "fname = 'results/calibration.pkl'\n",
    "\n",
    "try:\n",
    "    raise\n",
    "    df_total = pd.read_pickle(fname)\n",
    "    print('read', fname)\n",
    "except:\n",
    "    print('could not read', fname)\n",
    "    df_total = parse_calibration_experiments()\n",
    "    pd.to_pickle(df_total, fname)\n",
    "    print('saved as', fname)"
   ]
  },
  {
   "cell_type": "code",
   "execution_count": null,
   "metadata": {},
   "outputs": [],
   "source": [
    "from wall_analysis import add_spectrogram\n",
    "df_total = df_total.assign(spectrogram=None)\n",
    "df_total = df_total.apply(add_spectrogram, axis=1)\n",
    "\n",
    "# without this, the snr column becomes int and things break down below.\n",
    "df_total = df_total.astype(object)\n",
    "print(df_total.dtypes)\n",
    "#df_total = df_total.apply(pd.to_numeric, axis=0, errors='ignore', downcast='integer')\n",
    "#print(df_total.dtypes)"
   ]
  },
  {
   "cell_type": "markdown",
   "metadata": {},
   "source": [
    "## without snr-based bin selection"
   ]
  },
  {
   "cell_type": "code",
   "execution_count": null,
   "metadata": {
    "scrolled": true
   },
   "outputs": [],
   "source": [
    "from wall_analysis import filter_by_dicts, extract_linear_psd, add_spectrogram\n",
    "\n",
    "dict_chosen = [{\n",
    "    'snr': 0,\n",
    "    'motors': 0,\n",
    "    'source': 'sweep',\n",
    "}]\n",
    "\n",
    "# found visually from spectrogram: \n",
    "sweep_lines = dict(\n",
    "    slope=4000/280,\n",
    "    offset=400,\n",
    "    delta=20,\n",
    ")\n",
    "\n",
    "df_chosen = filter_by_dicts(df_total, dict_chosen)\n",
    "for j, row in df_chosen.iterrows():\n",
    "    spec_sum = np.sum(row.spectrogram, axis=1) # sum over all mics\n",
    "\n",
    "    fig, axs  = plt.subplots(1, 2)\n",
    "    fig.set_size_inches(10, 5)\n",
    "    fig.suptitle(f'experiment \"{row.appendix}\"')\n",
    "    axs[0].pcolorfast(range(spec_sum.shape[0]), row.frequencies, np.log10(spec_sum.T))\n",
    "    psd = extract_linear_psd(row.signals_f, row.frequencies, ax=axs[0], **sweep_lines)\n",
    "\n",
    "    for i in range(psd.shape[0]):\n",
    "        axs[1].semilogy(row.frequencies, psd[i], label=f'mic{i}')\n",
    "    plt.legend(loc='upper left')"
   ]
  },
  {
   "cell_type": "code",
   "execution_count": null,
   "metadata": {},
   "outputs": [],
   "source": [
    "# test new functions\n",
    "from wall_analysis import extract_psd, extract_psd_dict\n",
    "psd_dict1 = [{0: [], 100:[1, 2, 3], 200:[0, 4, 5]}, {100:[0, 1], 200:[1, 2]}]\n",
    "psd_dict2 = [{100:[1, 2, 5], 250:[1, 4, 5]}, {100:[0, 1], 250:[3, 4]}]\n",
    "psd_dict_list = [psd_dict1, psd_dict2]\n",
    "psd, frequencies, psd_std = extract_psd(psd_dict_list)\n",
    "print(psd.shape)\n",
    "print(psd, frequencies)"
   ]
  },
  {
   "cell_type": "markdown",
   "metadata": {},
   "source": [
    "## with snr-based bin selection"
   ]
  },
  {
   "cell_type": "code",
   "execution_count": null,
   "metadata": {
    "scrolled": false
   },
   "outputs": [],
   "source": [
    "from wall_analysis import filter_by_dicts\n",
    "\n",
    "n_freq = 1\n",
    "\n",
    "dict_chosen = [{\n",
    "    'snr': 1,\n",
    "    'motors': 0,\n",
    "}]\n",
    "\n",
    "kwargs = {\n",
    "    'sweep': {\n",
    "        'min_t': 105,\n",
    "        'max_t': 320,\n",
    "        'n_freq': n_freq\n",
    "    },\n",
    "    'sweep_buzzer': {\n",
    "        'min_t': 430,\n",
    "        'max_t': 1230,\n",
    "        'n_freq': n_freq\n",
    "    }\n",
    "}\n",
    "\n",
    "df_total = df_total.assign(psd_dict=None)\n",
    "\n",
    "df_chosen = filter_by_dicts(df_total, dict_chosen)\n",
    "for (source, motors), df in df_chosen.groupby(['source', 'motors']):\n",
    "    fig, ax  = plt.subplots()\n",
    "    fig.set_size_inches(5, 5)\n",
    "    ax.grid(which='both')\n",
    "    legend = []\n",
    "    for j, row in df.iterrows():\n",
    "        psd_dict = extract_psd_dict(row.signals_f, row.frequencies_matrix, ax=ax, **kwargs[source])\n",
    "        df_total.loc[j, 'psd_dict'] = np.array(psd_dict)\n",
    "        legend.append(row.appendix)"
   ]
  },
  {
   "cell_type": "code",
   "execution_count": null,
   "metadata": {},
   "outputs": [],
   "source": [
    "kwargs_harmonics = {\n",
    "    'sweep': {\n",
    "        'min_t': 40,\n",
    "        'max_t': 95, \n",
    "        'n_freq': n_freq\n",
    "    },\n",
    "    'sweep_buzzer': {\n",
    "        'min_t': 40,\n",
    "        'max_t': 420,\n",
    "        'n_freq': n_freq\n",
    "    }\n",
    "}\n",
    "\n",
    "# need this to assign list to this column\n",
    "df_total = df_total.assign(psd_dict_harmonics=None)\n",
    "\n",
    "df_chosen = filter_by_dicts(df_total, dict_chosen)\n",
    "for source, df in df_chosen.groupby('source'):\n",
    "    fig, ax  = plt.subplots()\n",
    "    fig.set_size_inches(5, 5)\n",
    "    ax.grid(which='both')\n",
    "    for j, row in df.iterrows():\n",
    "        psd_dict_harmonics = extract_psd_dict(row.signals_f, row.frequencies_matrix, ax=ax, **kwargs_harmonics[source])\n",
    "        df_total.loc[j, 'psd_dict_harmonics'] = psd_dict_harmonics"
   ]
  },
  {
   "cell_type": "code",
   "execution_count": null,
   "metadata": {
    "scrolled": false
   },
   "outputs": [],
   "source": [
    "for source, df in df_chosen.groupby('source'):\n",
    "    for j, row in df.iterrows():\n",
    "        n_mics = row.signals_f.shape[1]\n",
    "        \n",
    "        psd, frequencies, psd_std = extract_psd([row.psd_dict], verbose=False) \n",
    "        \n",
    "        fig, ax  = plt.subplots()\n",
    "        fig.set_size_inches(10, 5)\n",
    "        fig.suptitle(f'{source}: experiment \"{row.appendix}\"')\n",
    "        for i in range(n_mics):\n",
    "            mask = psd[i, :] > 0\n",
    "            ax.plot(frequencies[mask], psd[i, mask], color=f'C{i}', label=f'mic{i}', marker='o')\n",
    "        ax.set_yscale('log')\n",
    "        ax.legend(loc='upper left')\n",
    "        \n",
    "        if source == 'sweep_buzzer':\n",
    "            fname = f'plots/calibration{row.appendix}.pdf'\n",
    "            fig.savefig(fname, bbox_inches='tight')\n",
    "            print('saved as', fname)"
   ]
  },
  {
   "cell_type": "markdown",
   "metadata": {},
   "source": [
    "## calculate calibration curves"
   ]
  },
  {
   "cell_type": "code",
   "execution_count": null,
   "metadata": {},
   "outputs": [],
   "source": [
    "#chosen experiments for calibration\n",
    "chosen_experiments = ['_HALL', '_HALL2', '_HALL3']\n",
    "#chosen_experiments = ['_HALL', '_HALL2']\n",
    "\n",
    "df_calib = pd.DataFrame(index=[], columns=['frequencies', 'psd', 'psd_std', 'type', 'source', \n",
    "                                           'method', 'n_freq'])\n",
    "methods = ['median', 'median-reject'] # 'mean', 'mean-reject'\n",
    "\n",
    "df_chosen = filter_by_dicts(df_total, dict_chosen)\n",
    "for source, df in df_chosen.groupby('source'):\n",
    "    for type_ in ['psd_dict', 'psd_dict_harmonics']:\n",
    "        \n",
    "        psd_dict_list = []\n",
    "        for appendix in chosen_experiments:\n",
    "            psd_dict = list(df.loc[df.appendix==appendix, type_].values)\n",
    "            psd_dict_list += psd_dict\n",
    "        \n",
    "        for method in methods:\n",
    "            psd, frequencies, psd_std = extract_psd(psd_dict_list, method=method, verbose=False) \n",
    "            df_calib.loc[len(df_calib), :] = {\n",
    "                'frequencies': frequencies,\n",
    "                'psd': psd, \n",
    "                'psd_std': psd_std, \n",
    "                'type': type_, \n",
    "                'source': source,\n",
    "                'method': method,\n",
    "                'n_freq': n_freq\n",
    "            }\n",
    "    \n",
    "fname = f'results/calibration_results.pkl'\n",
    "pd.to_pickle(df_calib, fname)\n",
    "print(f'saved as {fname}')\n",
    "#df_chosen = df_total.loc[]"
   ]
  },
  {
   "cell_type": "code",
   "execution_count": null,
   "metadata": {
    "scrolled": false
   },
   "outputs": [],
   "source": [
    "psd_all = np.concatenate(df_calib.psd.values, axis=1)\n",
    "freqs_all = np.concatenate(df_calib.frequencies.values)\n",
    "y_min = np.min(psd_all)\n",
    "y_max = np.max(psd_all)\n",
    "x_min = np.min(freqs_all) \n",
    "x_max = np.max(freqs_all) \n",
    "\n",
    "for i, row in df_calib.iterrows():\n",
    "    \n",
    "    fig, ax = plt.subplots()\n",
    "    fig.set_size_inches(5, 5)\n",
    "    title = f'{row.source}{row.type.replace(\"psd_dict\", \"\")}'\n",
    "    ax.set_title(f'{title}, {row.method}')\n",
    "    for i in range(row.psd.shape[0]):\n",
    "        ax.errorbar(x=row.frequencies, y=row.psd[i, :], yerr=row.psd_std[i, :])\n",
    "    ax.set_yscale('log')\n",
    "    ax.set_ylim(y_min, y_max)\n",
    "    ax.set_xlim(x_min, x_max)\n",
    "    ax.set_xlabel('frequency [Hz]')\n",
    "    ax.set_ylabel('PSD')\n",
    "    \n",
    "    if (row.method == 'median') and (row.source == 'sweep_buzzer'):\n",
    "        fig.savefig(f'plots/calibration_{title}.pdf', bbox_inches='tight')"
   ]
  },
  {
   "cell_type": "markdown",
   "metadata": {},
   "source": [
    "## comparison buzzer loudness with motors loudness"
   ]
  },
  {
   "cell_type": "code",
   "execution_count": null,
   "metadata": {},
   "outputs": [],
   "source": [
    "chosen_dict = dict(\n",
    "    appendix='',\n",
    "    motors=0,\n",
    "    snr=0,\n",
    "    source='sweep'\n",
    ")\n",
    "df_chosen = filter_by_dicts(df_total, [chosen_dict])\n",
    "\n",
    "# by visual inspection\n",
    "slope = (5000-1000)/(37-5)\n",
    "offset= 400\n",
    "delta = 1.5\n",
    "\n",
    "for i, row in df_chosen.iterrows():\n",
    "    fig, ax = plt.subplots()\n",
    "    spec = np.mean(row.spectrogram**2, axis=1)\n",
    "    ax.pcolorfast(row.seconds, row.frequencies, np.log10(spec[:-1, :-1].T))\n",
    "    fig.set_size_inches(10, 5)\n",
    "    ax.set_ylabel('frequency [Hz]')\n",
    "    ax.set_xlabel('time [s]')\n",
    "    \n",
    "    psd = extract_linear_psd(row.signals_f, row.frequencies, slope=slope, offset=offset, ax=ax, \n",
    "                             delta=delta, times=row.seconds)\n",
    "    fname = 'plots/sweep_nomotors_spec.pdf'\n",
    "    fig.savefig(fname, bbox_inches='tight')\n",
    "    print('saved as', fname)\n",
    "    \n",
    "    fig, ax = plt.subplots()\n",
    "    fig.set_size_inches(10, 5)\n",
    "    for i_mic in range(psd.shape[0]):\n",
    "        ax.semilogy(row.frequencies, psd[i_mic, :], label=f'mic{i_mic}')\n",
    "    ax.set_xlabel('frequency [Hz]')\n",
    "    ax.set_ylabel('PSD')\n",
    "    ax.legend(loc='upper left')\n",
    "    ax.grid(which='both')\n",
    "    \n",
    "    fname = 'plots/sweep_nomotors_psd.pdf'\n",
    "    fig.savefig(fname, bbox_inches='tight')\n",
    "    print('saved as', fname)"
   ]
  },
  {
   "cell_type": "code",
   "execution_count": null,
   "metadata": {},
   "outputs": [],
   "source": [
    "chosen_dict = dict(\n",
    "    appendix='',\n",
    "    motors='all43000',\n",
    "    snr=0,\n",
    "    source='sweep'\n",
    ")\n",
    "df_chosen = filter_by_dicts(df_total, [chosen_dict])\n",
    "for i, row in df_chosen.iterrows():\n",
    "    fig, ax = plt.subplots()\n",
    "    spec = np.mean(row.spectrogram**2, axis=1)\n",
    "    fig.set_size_inches(10, 5)\n",
    "    ax.set_ylabel('frequency [Hz]')\n",
    "    ax.pcolorfast(row.seconds, row.frequencies, np.log10(spec[:-1, :-1].T))\n",
    "    ax.set_xlabel('time [s]')\n",
    "    \n",
    "    psd = extract_linear_psd(row.signals_f, row.frequencies, slope=slope, offset=offset, ax=ax, \n",
    "                             delta=delta, times=row.seconds)\n",
    "    fname = 'plots/sweep_motors_spec.pdf'\n",
    "    fig.savefig(fname, bbox_inches='tight')\n",
    "    print('saved as', fname)\n",
    "    \n",
    "    fig, ax = plt.subplots()\n",
    "    fig.set_size_inches(10, 5)\n",
    "    for i_mic in range(psd.shape[0]):\n",
    "        ax.semilogy(row.frequencies, psd[i_mic, :], label=f'mic{i_mic}')\n",
    "    ax.set_xlabel('frequency [Hz]')\n",
    "    ax.set_ylabel('PSD')\n",
    "    ax.grid(which='both')\n",
    "    \n",
    "    fname = 'plots/sweep_motors_psd.pdf'\n",
    "    fig.savefig(fname, bbox_inches='tight')\n",
    "    print('saved as', fname)"
   ]
  },
  {
   "cell_type": "code",
   "execution_count": null,
   "metadata": {},
   "outputs": [],
   "source": [
    "from crazyflie_description_py.parameters import N_BUFFER, FS\n",
    "all_frequencies = np.fft.rfftfreq(N_BUFFER, 1/FS)\n",
    "\n",
    "chosen_dict = dict(\n",
    "    appendix='',\n",
    "    snr=1,\n",
    "    source='sweep'\n",
    ")\n",
    "print(chosen_dict)\n",
    "df_chosen = filter_by_dicts(df_total, [chosen_dict])\n",
    "for i, row in df_chosen.iterrows():\n",
    "    fig, ax = plt.subplots()\n",
    "    spec = np.mean(row.spectrogram**2, axis=1).T\n",
    "    plot_spec = np.full(spec.shape, np.nan)\n",
    "    plot_spec[spec>0] = np.log10(spec[spec>0])\n",
    "    ax.set_title(f'motors: {row.motors}')\n",
    "    \n",
    "    fig.set_size_inches(10, 5)\n",
    "    ax.set_ylabel('frequency [Hz]')\n",
    "    #ax.pcolorfast(row.seconds, all_frequencies, plot_spec[:-1, :-1])\n",
    "    ax.pcolorfast(range(len(row.seconds)), all_frequencies, plot_spec[:-1, :-1])#, cmap='inferno')\n",
    "    ax.set_xlabel('time [idx]')\n",
    "    ax.set_ylim(1000, 5000)\n",
    "    \n",
    "    psd_dict = extract_psd_dict(row.signals_f, row.frequencies_matrix, n_freq=1, \n",
    "                                min_t=100, max_t=300)\n",
    "    psd, frequencies, psd_std  = extract_psd([psd_dict])\n",
    "    fig, ax = plt.subplots()\n",
    "    fig.set_size_inches(10, 5)\n",
    "    for i in range(psd.shape[0]):\n",
    "        ax.semilogy(frequencies, psd[i, :])\n",
    "    ax.set_xlabel('frequency [Hz]')\n",
    "    ax.set_ylabel('PSD')\n",
    "    ax.grid(which='both')"
   ]
  },
  {
   "cell_type": "markdown",
   "metadata": {},
   "source": [
    "# 2. Chirp design"
   ]
  },
  {
   "cell_type": "code",
   "execution_count": null,
   "metadata": {},
   "outputs": [],
   "source": [
    "from crazyflie_description_py.parameters import N_BUFFER, FS\n",
    "\n",
    "# motors calibration\n",
    "f_45000 = 671\n",
    "f_55000 = 750\n",
    "a = (f_55000 - f_45000) / (55000 - 45000)\n",
    "\n",
    "thrusts = np.linspace(45000, 55000, 10)\n",
    "#thrusts = np.linspace(50000, 60000, 10)\n",
    "\n",
    "for DELTA in [50, 100, 200]:\n",
    "    MIN_FREQ = 1000\n",
    "    MAX_FREQ = 6000\n",
    "\n",
    "    freqs = np.fft.rfftfreq(N_BUFFER, 1/FS)\n",
    "    freqs = freqs[(freqs < MAX_FREQ) & (freqs > MIN_FREQ)]\n",
    "    freqs_matrix = np.ones((len(thrusts), len(freqs)))\n",
    "\n",
    "    for i, t in enumerate(thrusts):\n",
    "        f = a * (t - 45000) + f_45000\n",
    "        for k in range(30):\n",
    "            freqs_matrix[i, (freqs < (k*f + DELTA)) & (freqs > (k*f - DELTA))] = 0\n",
    "\n",
    "    mask = np.all(freqs_matrix > 0, axis=0)\n",
    "    freqs_matrix[freqs_matrix.shape[0]//2, :] = 2*mask \n",
    "    fig, ax = plt.subplots()\n",
    "    ax.pcolorfast(freqs, thrusts, freqs_matrix)\n",
    "    ax.set_title(f'delta={DELTA}Hz')\n",
    "\n",
    "    print(f'available for delta={DELTA}', freqs[mask])"
   ]
  },
  {
   "cell_type": "code",
   "execution_count": null,
   "metadata": {},
   "outputs": [],
   "source": [
    "from evaluate_data import read_df_from_wav, get_fname, read_df, get_spectrogram\n",
    "from crazyflie_description_py.parameters import N_BUFFER, FS\n",
    "\n",
    "chosen_freqs_approx = np.array([3013, 3120, 3530, 3680, 4150, 4270, 5130, 5212, 6430, 6690, 8000, 8420, 10940, 13140, 14920]) # 4270, \n",
    "\n",
    "frequencies_embed = np.fft.rfftfreq(N_BUFFER, 1/FS)\n",
    "chosen_bins = [np.argmin(np.abs(f - frequencies_embed)) for f in chosen_freqs_approx]\n",
    "chosen_freqs = frequencies_embed[chosen_bins]\n",
    "\n",
    "# harmonics\n",
    "\n",
    "higher_approx = chosen_freqs_approx * 3\n",
    "chosen_bins_higher = [np.argmin(np.abs(f - frequencies_embed)) for f in higher_approx if f < 16000]\n",
    "chosen_freqs_higher = frequencies_embed[chosen_bins_higher]\n",
    "\n",
    "lower_approx = list(chosen_freqs_approx[[2, 3, 4]] / 3) #, 11, 12, 13, 14]] / 3)\n",
    "chosen_bins_lower = [np.argmin(np.abs(f - frequencies_embed)) for f in lower_approx]\n",
    "chosen_freqs_lower = frequencies_embed[chosen_bins_lower]\n",
    "\n",
    "buzzer_freqs = sorted(list(chosen_freqs) + list(chosen_freqs_lower))\n",
    "print('buzzer freqs', len(buzzer_freqs), buzzer_freqs)\n",
    "\n",
    "all_freqs = sorted(list(chosen_freqs) + list(chosen_freqs_higher) + list(chosen_freqs_lower) \n",
    "                   + list(chosen_freqs_lower * 5) + list(chosen_freqs_lower * 7))\n",
    "print('all freqs', len(all_freqs), all_freqs)"
   ]
  },
  {
   "cell_type": "code",
   "execution_count": null,
   "metadata": {},
   "outputs": [],
   "source": [
    "frequencies_embed = np.fft.rfftfreq(N_BUFFER, 1/FS)\n",
    "all_bins = [np.argmin(np.abs(f - frequencies_embed)) for f in all_freqs]\n",
    "print('bins:', all_bins)\n",
    "\n",
    "out_dir = \"../crazyflie-audio/firmware/audio_shield_firmware/Core/Inc\"\n",
    "out_name = \"sweep_hard_bins.h\"\n",
    "fname = f\"{out_dir}/{out_name}\"\n",
    "\n",
    "with open(fname, \"w+\") as f:\n",
    "    f.write(f\"#ifndef __SWEEP_HARD_BINS_H \\n#define __SWEEP_HARD_BINS_H\\n\\n\")\n",
    "\n",
    "    f.write(f\"uint16_t sweep_hard_bins[32] = \" + r\"{\")\n",
    "    [f.write(f\"{s:.0f}, \",) for s in all_bins[:-1]]\n",
    "    [f.write(f\"{s:.0f}\",) for s in all_bins[-1:]]\n",
    "    f.write(r\"};\" + \" \\n\\n\")\n",
    "\n",
    "    f.write(f\"#endif /* __SWEEP_HARD_BINS_H */\")\n",
    "print('wrote as', fname)"
   ]
  },
  {
   "cell_type": "markdown",
   "metadata": {},
   "source": [
    "# motors at hover"
   ]
  },
  {
   "cell_type": "markdown",
   "metadata": {},
   "source": [
    "## measurement mics"
   ]
  },
  {
   "cell_type": "code",
   "execution_count": null,
   "metadata": {},
   "outputs": [],
   "source": [
    "#kwargs = dict(\n",
    "#    degree=0,\n",
    "#    props=False,\n",
    "#    snr=True,\n",
    "#    motors=True,\n",
    "#    source=None,\n",
    "#    distance=0\n",
    "#)\n",
    "#exp_name = '2020_11_30_wall_hover'; \n",
    "\n",
    "#kwargs = dict(\n",
    "#    degree=0,\n",
    "#    props=0,\n",
    "#    snr=2,\n",
    "#    motors=True,\n",
    "#    source=None,\n",
    "#    distance=51\n",
    "#)\n",
    "#exp_name = '2020_12_18_stepper'; \n",
    "\n",
    "kwargs = dict(\n",
    "    degree=0,\n",
    "    props=False,\n",
    "    snr=2,\n",
    "    motors=True,\n",
    "    source=None,\n",
    "    distance=0\n",
    ")\n",
    "exp_name = '2020_12_18_flying'; \n",
    "\n",
    "\n",
    "fname_motors = get_fname(**kwargs)\n",
    "df_motors = read_df_from_wav(f'../experiments/{exp_name}/export/{fname_motors}.wav', n_buffer=N_BUFFER)\n",
    "df_motors.loc[:, 'seconds'] = (df_motors.timestamp.values - df_motors.iloc[0].timestamp) / 1000.0"
   ]
  },
  {
   "cell_type": "code",
   "execution_count": null,
   "metadata": {
    "scrolled": false
   },
   "outputs": [],
   "source": [
    "frequencies_slices = [1750, 2375, 3125, 3875]\n",
    "\n",
    "spec_motors = get_spectrogram(df_motors)\n",
    "\n",
    "#times_motors = np.arange(spec_motors.shape[1]) #\n",
    "times_motors = df_motors.seconds.values\n",
    "frequencies_motors = df_motors.iloc[0].frequencies\n",
    "\n",
    "print(times_motors)\n",
    "mask_times = (times_motors < 20) & (times_motors > 7)\n",
    "\n",
    "avg_motor_psd = np.mean(spec_motors[:, mask_times]**2, axis=1) # time range chosen from plot\n",
    "min_freq_plot = 0 #2500\n",
    "for max_freq_plot in [4000, 16000]:\n",
    "    mask_freq = (frequencies_motors < max_freq_plot) & (frequencies_motors > min_freq_plot)\n",
    "    \n",
    "    spec = spec_motors[mask_freq, :]\n",
    "    #spec = spec[:, mask_times]\n",
    "    print(spec.shape)\n",
    "    \n",
    "    fig, ax = plt.subplots()\n",
    "    fig.set_size_inches(10, 5)\n",
    "    ax.pcolorfast(times_motors, frequencies_motors[mask_freq], np.log(spec))\n",
    "    ax.axvline(times_motors[mask_times][0], color='white')\n",
    "    ax.axvline(times_motors[mask_times][-1], color='white')\n",
    "    [ax.axhline(f, color='red', ls=':') for f in frequencies_slices]\n",
    "    ax.set_xlabel('time [s]')\n",
    "    ax.set_ylabel('frequency [Hz]')\n",
    "    fname = f'plots/{exp_name}_spec_zoom{max_freq_plot}.pdf'\n",
    "    fig.savefig(fname, bbox_inches='tight')\n",
    "    print('saved as', fname)\n",
    "    \n",
    "    fig = plt.figure()\n",
    "    plt.semilogy(frequencies_motors[mask_freq], avg_motor_psd[mask_freq])\n",
    "    [plt.axvline(f, color='red', ls=':') for f in frequencies_slices]\n",
    "    plt.xlabel('frequency [Hz]')\n",
    "    plt.grid(which='both')\n",
    "    plt.ylabel('PSD')\n",
    "    \n",
    "    fname = f'plots/{exp_name}_avg_zoom{max_freq_plot}.pdf'\n",
    "    fig.savefig(fname, bbox_inches='tight')\n",
    "    print('saved as', fname)\n",
    "pass"
   ]
  },
  {
   "cell_type": "markdown",
   "metadata": {},
   "source": [
    "##  drone mics"
   ]
  },
  {
   "cell_type": "code",
   "execution_count": null,
   "metadata": {},
   "outputs": [],
   "source": [
    "df, df_pos = read_df(**kwargs, exp_name=exp_name)"
   ]
  },
  {
   "cell_type": "code",
   "execution_count": null,
   "metadata": {},
   "outputs": [],
   "source": [
    "if kwargs['snr'] != 0:\n",
    "    raise ValueError('need to implement spectrogram estimation for snr>0')\n",
    "    \n",
    "stft = np.array([*df.loc[:, \"signals_f\"]]).transpose(2, 1, 0)\n",
    "print(stft.shape)\n",
    "times = (df.timestamp.values - df.iloc[0].timestamp)/ 1000.0\n",
    "fig, axs = plt.subplots(stft.shape[1], sharex=True, sharey=True)\n",
    "fig.set_size_inches(15, 10)\n",
    "frequencies = df.iloc[0].frequencies\n",
    "for i, ax in enumerate(axs):\n",
    "    ax.pcolormesh(times, frequencies, np.log(np.abs(stft[frequencies < max_freq_plot, i, :])))\n",
    "    ax.set_title(f'mic{i}')"
   ]
  },
  {
   "cell_type": "code",
   "execution_count": null,
   "metadata": {},
   "outputs": [],
   "source": [
    "from evaluate_data import read_df_others\n",
    "\n",
    "df_status, df_commands = read_df_others(**kwargs, exp_name=exp_name)\n",
    "\n",
    "plt.figure()\n",
    "plt.scatter(df.timestamp.values, [0]*len(df), color='C0')\n",
    "plt.scatter(df_pos.timestamp.values, [3]*len(df_pos), color='C0')\n",
    "plt.scatter(df_status.timestamp.values, [1]*len(df_status), color='C0')\n",
    "plt.scatter(df_commands.timestamp.values, [2]*len(df_commands), color='C0')\n",
    "\n",
    "min_time = min([\n",
    "    df.iloc[0].timestamp, \n",
    "    df_pos.iloc[0].timestamp, \n",
    "    df_status.iloc[0].timestamp, \n",
    "    df_commands.iloc[0].timestamp])\n",
    "\n",
    "times_commands = (df_commands.timestamp.values - min_time) / 1000\n",
    "times_status = (df_status.timestamp - min_time) / 1000\n",
    "times_pos = (df_pos.timestamp - min_time) / 1000\n",
    "\n",
    "motors_pwm = np.array([*df_commands.loc[:, \"motors_pwm\"]])\n",
    "max_pwm = 2**16-1\n",
    "fig, ax = plt.subplots()\n",
    "fig.set_size_inches(10, 5)\n",
    "for i in range(motors_pwm.shape[1]):\n",
    "    ax.scatter(times_commands, motors_pwm[:, i], label=f\"motor {i}\")\n",
    "ax.set_ylim(45000, 62000)\n",
    "ax.legend(loc='upper right')\n",
    "ax.set_ylabel(f'thrust command (out of {max_pwm})')\n",
    "ax.set_xlabel('time [s]')\n",
    "fname = 'plots/commands_hover.pdf'\n",
    "fig.savefig(fname, boox_inches='tight')\n",
    "print('saved as', fname)\n",
    "\n",
    "fig, axs = plt.subplots(3, sharex=True)\n",
    "fig.set_size_inches(15, 10)\n",
    "axs[0].plot(times_status, df_status.vbat, label=\"vbat\")\n",
    "axs[1].plot(times_pos, df_pos.dx, label=\"dx\")\n",
    "axs[1].plot(times_pos, df_pos.dy, label=\"dy\")\n",
    "axs[1].set_ylim(-10, 10)\n",
    "\n",
    "axs[2].plot(times_pos, df_pos.yaw_rate_deg, label=\"yaw_rate_deg\")\n",
    "[ax.legend(loc='lower right') for ax in axs]"
   ]
  },
  {
   "cell_type": "markdown",
   "metadata": {},
   "source": [
    "# buzzer chirp"
   ]
  },
  {
   "cell_type": "code",
   "execution_count": null,
   "metadata": {},
   "outputs": [],
   "source": [
    "kwargs = dict(\n",
    "    degree=0,\n",
    "    props=False,\n",
    "    snr=False,\n",
    "    motors=False,\n",
    "    source='sweep_all',\n",
    "    distance=50\n",
    ")\n",
    "exp_name = '2020_12_2_chirp'; \n",
    "n_buffer = N_BUFFER \n",
    "fname_chirp = get_fname(**kwargs)\n",
    "fname = f'results/{exp_name}_{fname_chirp}.pk'\n",
    "try:\n",
    "    df_chirp = pd.read_pickle(fname)\n",
    "    print('read', fname)\n",
    "except:\n",
    "    df_chirp = read_df_from_wav(f'../experiments/{exp_name}/export/{fname_chirp}.wav', n_buffer=n_buffer)\n",
    "    pd.to_pickle(df_chirp, fname)\n",
    "    print('wrote', fname)"
   ]
  },
  {
   "cell_type": "code",
   "execution_count": null,
   "metadata": {},
   "outputs": [],
   "source": [
    "from wall_analysis import extract_linear_psd\n",
    "\n",
    "spec_chirp = get_spectrogram(df_chirp)\n",
    "signals_f = np.array([*df_chirp.loc[:, \"signals_f\"]])\n",
    "frequencies_chirp = np.array(df_chirp.iloc[0].frequencies)\n",
    "seconds = (df_chirp.timestamp.values - df_chirp.iloc[0].timestamp)/ 2048\n",
    "\n",
    "#times_chirp = np.arange(3000, 5000)\n",
    "times_chirp = np.arange(spec_chirp.shape[1])\n",
    "min_freq_plot = 0 #2500\n",
    "max_freq_plot = 16000 #3000\n",
    "mask_freq = (frequencies_chirp < max_freq_plot) & (frequencies_chirp > min_freq_plot)\n",
    "\n",
    "spec_small = spec_chirp[mask_freq, :]\n",
    "spec_small = spec_small[:, times_chirp]\n",
    "\n",
    "fig, ax = plt.subplots()\n",
    "ax.pcolorfast(times_chirp, frequencies_chirp[mask_freq], np.log10(spec_small))"
   ]
  },
  {
   "cell_type": "code",
   "execution_count": null,
   "metadata": {},
   "outputs": [],
   "source": [
    "fig, ax = plt.subplots()\n",
    "fig.set_size_inches(10, 10)\n",
    "\n",
    "slope = 14930 / 21170 \n",
    "offset = 0\n",
    "\n",
    "ax.pcolorfast(range(len(times_chirp)), frequencies_chirp[mask_freq], np.log10(spec_small))\n",
    "ax.set_ylim(min_freq_plot, max_freq_plot)\n",
    "\n",
    "psd = extract_linear_psd(signals_f, frequencies_chirp, slope, offset, delta=500, ax=ax)\n",
    "fig = plt.figure()\n",
    "fig.set_size_inches(10, 10)\n",
    "plt.title('psd of buzzer frequency sweep')\n",
    "plt.semilogy(frequencies_chirp, psd[0, :], color='C0', label='buzzer')\n",
    "plt.xlim(frequencies_chirp[1], 16000)\n",
    "plt.grid(which='both')"
   ]
  },
  {
   "cell_type": "code",
   "execution_count": null,
   "metadata": {},
   "outputs": [],
   "source": [
    "from scipy import signal as sp\n",
    "\n",
    "response = psd[0, :] # only one measurement mic\n",
    "peaks = sp.find_peaks(response, height=0.5e-6)[0]\n",
    "\n",
    "available_freqs = np.fft.rfftfreq(N_BUFFER, 1/FS)[1:]\n",
    "allowed_delta = 10\n",
    "#buzzer_freqs = [f for f in frequencies_chirp[peaks] if np.min(np.abs(f) - available_freqs) < allowed_delta]\n",
    "buzzer_freqs = list(available_freqs[(available_freqs<buzzer_freqs[0]) & (available_freqs >= 1000)]) + buzzer_freqs\n",
    "print('choose frequencies out of: \\n', np.array(buzzer_freqs).round(2))\n",
    "print(f'{len(buzzer_freqs)} possibilities instead of {len(available_freqs)}')\n",
    "\n",
    "fig = plt.figure()\n",
    "fig.set_size_inches(10, 10)\n",
    "plt.title('psd of buzzer frequency sweep')\n",
    "plt.loglog(frequencies_chirp, response, color='C0', label='buzzer')\n",
    "#[plt.axvline(frequencies_chirp[p], color='C1') for p in peaks]\n",
    "#[plt.axvline(f, color='C2') for f in buzzer_freqs] \n",
    "plt.xlim(frequencies_chirp[1], 16000)\n",
    "plt.xlim(1000, 16000)\n",
    "plt.yscale('log')\n",
    "plt.grid(which='both')"
   ]
  },
  {
   "cell_type": "code",
   "execution_count": null,
   "metadata": {},
   "outputs": [],
   "source": [
    "#%matplotlib notebook\n",
    "fig = plt.figure()\n",
    "plt.title('psd of buzzer frequency sweep')\n",
    "fig.set_size_inches(10, 10)\n",
    "plt.semilogy(frequencies_chirp[1:], psd[0, 1:], color='C0', label='buzzer')\n",
    "#[plt.axvline(f, color='C1') for f in chosen_freqs]\n",
    "#[plt.axvline(f, color='C3') for f in chosen_freqs_lower]\n",
    "#[plt.axvline(f, color='C2') for f in chosen_freqs_higher]\n",
    "#plt.axvline(chosen_freqs[0], color='C1', label='buzzer frequency')\n",
    "#plt.axvline(chosen_freqs_lower[0], color='C3', label='buzzer frequency (lower)')\n",
    "#plt.axvline(chosen_freqs_higher[0], color='C2', label='sensing frequency')\n",
    "plt.semilogy(frequencies_motors[1:], avg_motor_psd[1:], label='motors (average during hover)', color='C4')\n",
    "plt.legend(loc='upper right')\n",
    "plt.xlim(frequencies_chirp[1], 16000)\n",
    "plt.grid(which='both')"
   ]
  },
  {
   "cell_type": "markdown",
   "metadata": {},
   "source": [
    "# motors at constant thrust and old frequency sweep"
   ]
  },
  {
   "cell_type": "code",
   "execution_count": null,
   "metadata": {},
   "outputs": [],
   "source": [
    "kwargs = dict(\n",
    "    degree=0,\n",
    "    props=False,\n",
    "    snr=False,\n",
    ")\n",
    "exp_name = '2020_10_14_static_new'; \n",
    "fname_motors = get_fname(motors=True, source=None, distance=0, **kwargs)\n",
    "\n",
    "df_motors = read_df_from_wav(f'../experiments/{exp_name}/export/{fname_motors}.wav')\n",
    "\n",
    "exp_name = '2020_11_26_wall'; \n",
    "fname_nomotors = get_fname(motors=False, source='sweep', distance=49, **kwargs)\n",
    "df_nomotors = read_df_from_wav(f'../experiments/{exp_name}/export/{fname_nomotors}.wav')"
   ]
  },
  {
   "cell_type": "code",
   "execution_count": null,
   "metadata": {
    "scrolled": false
   },
   "outputs": [],
   "source": [
    "from bin_selection import select_frequencies\n",
    "#sys.path.append(f'../experiments/{exp_name}/')\n",
    "#import params as params_buzz\n",
    "from crazyflie_description_py.parameters import SOUND_EFFECTS, N_BUFFER, FS\n",
    "\n",
    "max_time = 65\n",
    "max_freq_plot = 15000\n",
    "\n",
    "#__, (min_freq, max_freq), *_ = SOUND_EFFECTS['sweep']\n",
    "min_freq = 1000; max_freq = 9000\n",
    "bins = select_frequencies(min_freq=min_freq, max_freq=max_freq, n_buffer=N_BUFFER, fs=FS)\n",
    "frequencies_embed = np.fft.rfftfreq(N_BUFFER, 1/FS)\n",
    "print(frequencies_embed[bins])\n",
    "\n",
    "for df in [df_motors, df_nomotors]:\n",
    "    fig = plt.figure()\n",
    "    fig.set_size_inches(15, 10)\n",
    "    times = df.timestamp.values / 1000\n",
    "    frequencies = df.iloc[0].frequencies\n",
    "\n",
    "    spec = get_spectrogram(df)\n",
    "    spec = spec[frequencies < max_freq_plot, :]\n",
    "    spec = spec[:, times < max_time]\n",
    "    plt.pcolormesh(times[times < max_time], frequencies[frequencies < max_freq_plot], \n",
    "                   np.log(spec))\n",
    "    [plt.axhline(frequencies_embed[b], color='white', ls=':') for b in bins]\n",
    "    plt.xlabel('time [s]')\n",
    "    plt.ylabel('frequency [Hz]')"
   ]
  },
  {
   "cell_type": "code",
   "execution_count": null,
   "metadata": {},
   "outputs": [],
   "source": [
    "from evaluate_data import read_df_from_wav\n",
    "df_wav = read_df_from_wav('../experiments/2021_01_07_snr_study/export/motors_nosnr_noprops_mono1750.wav')\n",
    "spec = get_spectrogram(df_wav)"
   ]
  },
  {
   "cell_type": "code",
   "execution_count": null,
   "metadata": {},
   "outputs": [],
   "source": [
    "freqs = df_wav.iloc[0].frequencies\n",
    "fig, ax = plt.subplots()\n",
    "ax.pcolorfast(range(spec.shape[0]), freqs, np.log10(spec))"
   ]
  },
  {
   "cell_type": "markdown",
   "metadata": {},
   "source": [
    "# Buzzer calibration"
   ]
  },
  {
   "cell_type": "code",
   "execution_count": 12,
   "metadata": {},
   "outputs": [
    {
     "ename": "ModuleNotFoundError",
     "evalue": "No module named 'crazyflie_description_py'",
     "output_type": "error",
     "traceback": [
      "\u001b[0;31m---------------------------------------------------------------------------\u001b[0m",
      "\u001b[0;31mModuleNotFoundError\u001b[0m                       Traceback (most recent call last)",
      "\u001b[0;32m<ipython-input-12-0de29b605780>\u001b[0m in \u001b[0;36m<module>\u001b[0;34m\u001b[0m\n\u001b[0;32m----> 1\u001b[0;31m \u001b[0;32mfrom\u001b[0m \u001b[0mevaluate_data\u001b[0m \u001b[0;32mimport\u001b[0m \u001b[0mread_df_from_wav\u001b[0m\u001b[0;34m\u001b[0m\u001b[0;34m\u001b[0m\u001b[0m\n\u001b[0m\u001b[1;32m      2\u001b[0m \u001b[0;32mfrom\u001b[0m \u001b[0mevaluate_data\u001b[0m \u001b[0;32mimport\u001b[0m \u001b[0mget_spectrogram\u001b[0m\u001b[0;34m\u001b[0m\u001b[0;34m\u001b[0m\u001b[0m\n\u001b[1;32m      3\u001b[0m \u001b[0mdf_wav\u001b[0m \u001b[0;34m=\u001b[0m \u001b[0mread_df_from_wav\u001b[0m\u001b[0;34m(\u001b[0m\u001b[0;34m'../experiments/2020_12_2_chirp/export/nomotors_nosnr_noprops_sweep_all_50.wav'\u001b[0m\u001b[0;34m)\u001b[0m\u001b[0;34m\u001b[0m\u001b[0;34m\u001b[0m\u001b[0m\n\u001b[1;32m      4\u001b[0m \u001b[0mspec\u001b[0m \u001b[0;34m=\u001b[0m \u001b[0mget_spectrogram\u001b[0m\u001b[0;34m(\u001b[0m\u001b[0mdf_wav\u001b[0m\u001b[0;34m)\u001b[0m\u001b[0;34m\u001b[0m\u001b[0;34m\u001b[0m\u001b[0m\n",
      "\u001b[0;32m~/Documents/LCAV_Repo/audioROS/notebooks/evaluate_data.py\u001b[0m in \u001b[0;36m<module>\u001b[0;34m\u001b[0m\n\u001b[1;32m      7\u001b[0m \u001b[0;34m\u001b[0m\u001b[0m\n\u001b[1;32m      8\u001b[0m \u001b[0;32mfrom\u001b[0m \u001b[0maudio_stack\u001b[0m\u001b[0;34m.\u001b[0m\u001b[0mbeam_former\u001b[0m \u001b[0;32mimport\u001b[0m \u001b[0mBeamFormer\u001b[0m\u001b[0;34m,\u001b[0m \u001b[0mcombine_rows\u001b[0m\u001b[0;34m,\u001b[0m \u001b[0mnormalize_rows\u001b[0m\u001b[0;34m\u001b[0m\u001b[0;34m\u001b[0m\u001b[0m\n\u001b[0;32m----> 9\u001b[0;31m \u001b[0;32mfrom\u001b[0m \u001b[0mcrazyflie_description_py\u001b[0m\u001b[0;34m.\u001b[0m\u001b[0mparameters\u001b[0m \u001b[0;32mimport\u001b[0m \u001b[0mFS\u001b[0m\u001b[0;34m\u001b[0m\u001b[0;34m\u001b[0m\u001b[0m\n\u001b[0m\u001b[1;32m     10\u001b[0m \u001b[0;34m\u001b[0m\u001b[0m\n\u001b[1;32m     11\u001b[0m \u001b[0;31m#EXP_NAME = \"2020_09_17_white-noise-static\"\u001b[0m\u001b[0;34m\u001b[0m\u001b[0;34m\u001b[0m\u001b[0;34m\u001b[0m\u001b[0m\n",
      "\u001b[0;31mModuleNotFoundError\u001b[0m: No module named 'crazyflie_description_py'"
     ]
    }
   ],
   "source": [
    "from evaluate_data import read_df_from_wav\n",
    "from evaluate_data import get_spectrogram\n",
    "df_wav = read_df_from_wav('../experiments/2020_12_2_chirp/export/nomotors_nosnr_noprops_sweep_all_50.wav')\n",
    "spec = get_spectrogram(df_wav)"
   ]
  },
  {
   "cell_type": "code",
   "execution_count": 10,
   "metadata": {
    "scrolled": false
   },
   "outputs": [
    {
     "ename": "ModuleNotFoundError",
     "evalue": "No module named 'crazyflie_description_py'",
     "output_type": "error",
     "traceback": [
      "\u001b[0;31m---------------------------------------------------------------------------\u001b[0m",
      "\u001b[0;31mModuleNotFoundError\u001b[0m                       Traceback (most recent call last)",
      "\u001b[0;32m<ipython-input-10-37d861268b0d>\u001b[0m in \u001b[0;36m<module>\u001b[0;34m\u001b[0m\n\u001b[0;32m----> 1\u001b[0;31m \u001b[0;32mfrom\u001b[0m \u001b[0mcrazyflie_description_py\u001b[0m\u001b[0;34m.\u001b[0m\u001b[0mparameters\u001b[0m \u001b[0;32mimport\u001b[0m \u001b[0mN_BUFFER\u001b[0m\u001b[0;34m,\u001b[0m \u001b[0mFS\u001b[0m\u001b[0;34m\u001b[0m\u001b[0;34m\u001b[0m\u001b[0m\n\u001b[0m\u001b[1;32m      2\u001b[0m \u001b[0mbuzzer_freqs\u001b[0m \u001b[0;34m=\u001b[0m \u001b[0mnp\u001b[0m\u001b[0;34m.\u001b[0m\u001b[0mfft\u001b[0m\u001b[0;34m.\u001b[0m\u001b[0mrfftfreq\u001b[0m\u001b[0;34m(\u001b[0m\u001b[0mN_BUFFER\u001b[0m\u001b[0;34m,\u001b[0m \u001b[0;36m1\u001b[0m\u001b[0;34m/\u001b[0m\u001b[0mFS\u001b[0m\u001b[0;34m)\u001b[0m\u001b[0;34m\u001b[0m\u001b[0;34m\u001b[0m\u001b[0m\n\u001b[1;32m      3\u001b[0m \u001b[0mfreqs\u001b[0m \u001b[0;34m=\u001b[0m \u001b[0mdf_wav\u001b[0m\u001b[0;34m.\u001b[0m\u001b[0miloc\u001b[0m\u001b[0;34m[\u001b[0m\u001b[0;36m0\u001b[0m\u001b[0;34m]\u001b[0m\u001b[0;34m.\u001b[0m\u001b[0mfrequencies\u001b[0m\u001b[0;34m\u001b[0m\u001b[0;34m\u001b[0m\u001b[0m\n\u001b[1;32m      4\u001b[0m \u001b[0mfig\u001b[0m\u001b[0;34m,\u001b[0m \u001b[0max\u001b[0m \u001b[0;34m=\u001b[0m \u001b[0mplt\u001b[0m\u001b[0;34m.\u001b[0m\u001b[0msubplots\u001b[0m\u001b[0;34m(\u001b[0m\u001b[0;34m)\u001b[0m\u001b[0;34m\u001b[0m\u001b[0;34m\u001b[0m\u001b[0m\n\u001b[1;32m      5\u001b[0m \u001b[0mfig\u001b[0m\u001b[0;34m.\u001b[0m\u001b[0mset_size_inches\u001b[0m\u001b[0;34m(\u001b[0m\u001b[0;36m15\u001b[0m\u001b[0;34m,\u001b[0m \u001b[0;36m15\u001b[0m\u001b[0;34m)\u001b[0m\u001b[0;34m\u001b[0m\u001b[0;34m\u001b[0m\u001b[0m\n",
      "\u001b[0;31mModuleNotFoundError\u001b[0m: No module named 'crazyflie_description_py'"
     ]
    }
   ],
   "source": [
    "from crazyflie_description_py.parameters import N_BUFFER, FS\n",
    "buzzer_freqs = np.fft.rfftfreq(N_BUFFER, 1/FS)\n",
    "freqs = df_wav.iloc[0].frequencies\n",
    "fig, ax = plt.subplots()\n",
    "fig.set_size_inches(15, 15)\n",
    "ax.pcolorfast(range(spec.shape[0]), freqs, np.log10(spec))\n",
    "[ax.axhline(f, color='orange', alpha=0.2) for f in buzzer_freqs[-100:]]\n",
    "pass"
   ]
  },
  {
   "cell_type": "code",
   "execution_count": null,
   "metadata": {},
   "outputs": [],
   "source": [
    "max_freq = 200\n",
    "spec_zoom = spec[:max_freq, :300]\n",
    "fig, ax = plt.subplots()\n",
    "fig.set_size_inches(15, 15)\n",
    "ax.pcolorfast(range(spec_zoom.shape[1]), freqs[:max_freq], np.log10(spec_zoom))"
   ]
  },
  {
   "cell_type": "code",
   "execution_count": null,
   "metadata": {},
   "outputs": [],
   "source": []
  }
 ],
 "metadata": {
  "kernelspec": {
   "display_name": "Python 3",
   "language": "python",
   "name": "python3"
  },
  "language_info": {
   "codemirror_mode": {
    "name": "ipython",
    "version": 3
   },
   "file_extension": ".py",
   "mimetype": "text/x-python",
   "name": "python",
   "nbconvert_exporter": "python",
   "pygments_lexer": "ipython3",
   "version": "3.8.3"
  },
  "toc": {
   "base_numbering": 1,
   "nav_menu": {},
   "number_sections": true,
   "sideBar": true,
   "skip_h1_title": false,
   "title_cell": "Table of Contents",
   "title_sidebar": "Contents",
   "toc_cell": false,
   "toc_position": {},
   "toc_section_display": true,
   "toc_window_display": false
  }
 },
 "nbformat": 4,
 "nbformat_minor": 4
}
