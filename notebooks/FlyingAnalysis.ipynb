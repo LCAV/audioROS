{
 "cells": [
  {
   "cell_type": "code",
   "execution_count": null,
   "metadata": {},
   "outputs": [],
   "source": [
    "import math\n",
    "import sys\n",
    "\n",
    "import IPython\n",
    "import IPython.display as ipd\n",
    "import matplotlib.pylab as plt\n",
    "import numpy as np\n",
    "import pandas as pd\n",
    "\n",
    "%reload_ext autoreload\n",
    "%autoreload 2\n",
    "\n",
    "%matplotlib inline\n",
    "#%matplotlib notebook\n",
    "\n",
    "from matplotlib import rcParams\n",
    "rcParams[\"figure.max_open_warning\"] = False"
   ]
  },
  {
   "cell_type": "code",
   "execution_count": null,
   "metadata": {},
   "outputs": [],
   "source": [
    "from wall_analysis import parse_experiments\n",
    "exp_name = '2020_12_18_flying'; \n",
    "fname = f'results/{exp_name}_real.pkl'\n",
    "\n",
    "try:\n",
    "    df_total = pd.read_pickle(fname)\n",
    "    print('read', fname)\n",
    "except:\n",
    "    answer = input('Run wall_analysis.py to parse experiments? (y/[n])') or 'n'\n",
    "    if answer == 'y':\n",
    "        df_total = parse_experiments(exp_name)\n",
    "        pd.to_pickle(df_total, fname)\n",
    "        print('saved', fname)"
   ]
  },
  {
   "cell_type": "code",
   "execution_count": null,
   "metadata": {},
   "outputs": [],
   "source": [
    "df_total.tail()"
   ]
  },
  {
   "cell_type": "markdown",
   "metadata": {},
   "source": [
    "# Compute distance estimates\n",
    "\n",
    "TODO: this part is hacky and will be improved by getting imu estimates rather than flow dx/dy estimates, which turn out to be very unreliable."
   ]
  },
  {
   "cell_type": "code",
   "execution_count": null,
   "metadata": {},
   "outputs": [],
   "source": [
    "MIN_S = 5 # read from plot\n",
    "MAX_S = 25 # read from plot\n",
    "\n",
    "def add_distance_estimates(df_total, i, ax=None, min_time=MIN_S, max_time=MAX_S, min_z=300):\n",
    "    row = df_total.loc[i]\n",
    "    row.z[np.isnan(row.z)] = 0\n",
    "    start_idx = np.where(row.seconds > min_time)[0][0]\n",
    "    end_idx = np.where(row.seconds < max_time)[0][-1]\n",
    "\n",
    "    assert end_idx > start_idx, f\"{start_idx}<={end_idx}\"\n",
    "    valid_z = row.z[start_idx:end_idx]\n",
    "    max_idx = start_idx + np.argmax(valid_z)\n",
    "    min_idx = start_idx + np.where(valid_z > min_z)[0][-1]\n",
    "    duration = row.seconds[min_idx] - row.seconds[max_idx]\n",
    "\n",
    "    d = np.full(len(row.seconds), np.nan)\n",
    "    times = row.seconds[max_idx:min_idx] - row.seconds[max_idx]\n",
    "    d[max_idx:min_idx] = D_START - times * VELOCITY\n",
    "    df_total.loc[i, 'd_estimate'] = d\n",
    "    \n",
    "    if ax is not None:\n",
    "        ax.axvline(row.seconds[start_idx], color='r')\n",
    "        ax.axvline(row.seconds[max_idx], color='k', label='start (max)')\n",
    "        ax.axvline(row.seconds[min_idx], color='k', label=f'end (above {min_z})')\n",
    "        ax.axvline(row.seconds[end_idx], color='b')\n",
    "        ax.set_xlim(0, 35)\n",
    "        ax.scatter(row.seconds, d * 100, color='k', label='distance')\n",
    "        ax.set_title(f\"duration: {duration:.1f}s\")\n",
    "        ax.legend()"
   ]
  },
  {
   "cell_type": "code",
   "execution_count": null,
   "metadata": {
    "scrolled": true
   },
   "outputs": [],
   "source": [
    "VELOCITY = 0.05 # [m/s], parameter in crazyflie\n",
    "D_START = 0.6 # [m], starting distance \n",
    "\n",
    "df_total = df_total.assign(d_estimate=None) # initialize df_estimate\n",
    "for i, row in df_total.iterrows():\n",
    "    fig, ax = plt.subplots()\n",
    "    ax.plot(row.positions[:, 0], label='x', color='C0')\n",
    "    ax.plot(row.positions[:, 1], label='y', color='C1')\n",
    "    ax.plot(row.positions[:, 2], label='z', color='C2')\n",
    "    #ax.plot(row.dx)\n",
    "    #ax.plot(row.dy)\n",
    "    ax.set_ylim(-10, 50)\n",
    "    #ax.set_xlim(0, 1000)\n",
    "    ax.set_xlabel('position idx [-]')\n",
    "    ax.set_ylabel('x, y [mm]')\n",
    "    ax.legend(loc='lower left')\n",
    "    ax.set_title(\"lateral movement, \" + row.source + row.appendix)\n",
    "    \n",
    "    plt.figure()\n",
    "    #plt.plot(row.yaw_deg)\n",
    "    plt.plot(row.seconds, row.z, color='C2')\n",
    "    plt.xlabel('time [s]')\n",
    "    plt.ylabel('z [mm]')\n",
    "    #plt.ylim(-90, 90)\n",
    "    plt.ylim(0, 600)\n",
    "    #plt.xlim(MIN_S, MAX_S)\n",
    "    \n",
    "    add_distance_estimates(df_total, i, ax=plt.gca())"
   ]
  },
  {
   "cell_type": "markdown",
   "metadata": {},
   "source": [
    "## Investigate spectrogram"
   ]
  },
  {
   "cell_type": "code",
   "execution_count": null,
   "metadata": {},
   "outputs": [],
   "source": [
    "def add_spectrogram(row):\n",
    "    # spectrogram is of shape 1025 x n_times x n_mics\n",
    "    spectrogram = np.zeros((len(all_frequencies), row.signals_f.shape[0], row.signals_f.shape[1]), dtype=float) \n",
    "    for t_idx in range(row.signals_f.shape[0]):\n",
    "        freqs = row.frequencies_matrix[t_idx, :]\n",
    "        for i, f in enumerate(freqs):\n",
    "            f_idx =  np.argmin(np.abs(f - all_frequencies))\n",
    "            if abs(all_frequencies[f_idx] - f) > 1: \n",
    "                print(f'Warning: frequency {f} is far from {all_frequencies}')\n",
    "            if 0: #np.any(spectrogram[f_idx, t_idx, :] > 0):\n",
    "                print('overwriting', t_idx, f_idx, f, freqs[0])\n",
    "                err = np.max(np.abs(np.abs(row.signals_f[t_idx, :, i]) - spectrogram[f_idx, t_idx, :]))\n",
    "                # TODO(FD) find out why there is a difference between the\n",
    "                # first freq. bin (forced) and the one selected by snr scheme. \n",
    "                if err > 0.1:\n",
    "                    print('big error:', err)\n",
    "            spectrogram[f_idx, t_idx, :] = np.abs(row.signals_f[t_idx, :, i])\n",
    "    row.spectrogram = spectrogram\n",
    "    return row"
   ]
  },
  {
   "cell_type": "code",
   "execution_count": null,
   "metadata": {},
   "outputs": [],
   "source": [
    "from crazyflie_description_py.parameters import N_BUFFER, FS\n",
    "all_frequencies = np.round(np.fft.rfftfreq(N_BUFFER, 1/FS), 0)\n",
    "df_total = df_total.assign(spectrogram=None)\n",
    "df_total = df_total.apply(add_spectrogram, axis=1)"
   ]
  },
  {
   "cell_type": "code",
   "execution_count": null,
   "metadata": {},
   "outputs": [],
   "source": [
    "from wall_analysis import filter_by_dicts\n",
    "print('available sources:', df_total.source.unique())\n",
    "filter_dict = {\n",
    "    #'source': 'None',\n",
    "    #'source': 'mono1750',\n",
    "    #'source': 'mono2375',\n",
    "    #'source': 'mono3125',\n",
    "    'source': 'mono3875',\n",
    "    #'source': 'sweep_slow',\n",
    "    #'source': 'sweep_fast',\n",
    "    'appendix': '_new'\n",
    "}\n",
    "rows = filter_by_dicts(df_total, [filter_dict])\n",
    "assert len(rows) == 1\n",
    "row = rows.iloc[0]"
   ]
  },
  {
   "cell_type": "code",
   "execution_count": null,
   "metadata": {},
   "outputs": [],
   "source": [
    "sys.path.append(f'../experiments/{exp_name}/')\n",
    "from params import FREQS\n",
    "min_freq = 100\n",
    "max_freq = 5000\n",
    "plot_freq = (all_frequencies > min_freq) & (all_frequencies < max_freq)\n",
    "plot_times = ~np.isnan(row.d_estimate)\n",
    "print('time window with valid distances:', np.where(plot_times)[0][[0, -1]])\n",
    "\n",
    "n_mics = row.signals_f.shape[1]\n",
    "#for mic_idx in range(n_mics):\n",
    "for mic_idx in range(1):\n",
    "    fig, ax = plt.subplots()\n",
    "    fig.set_size_inches(10, 5)\n",
    "    spec = row.spectrogram[plot_freq, :, mic_idx][:-1, :]\n",
    "    spec = spec[:, plot_times][:, :-1]\n",
    "    \n",
    "    spec[spec > 0] = np.log10(spec[spec > 0])\n",
    "    spec[spec == 0] = np.nan\n",
    "    \n",
    "    ax.pcolorfast(row.seconds[plot_times], all_frequencies[plot_freq], spec)\n",
    "    [ax.axhline(f, label=f'{f}', color=f'C{i}', ls=':') for i, f in enumerate(FREQS)]\n",
    "    ax.set_title(row.source + row.appendix)"
   ]
  },
  {
   "cell_type": "markdown",
   "metadata": {},
   "source": [
    "## frequency bin selection study\n",
    "\n",
    "Investigate \n",
    "- what bins are choesn by forced scheme (black dots below)\n",
    "- when spectrogram at given bin is nonzero \n",
    "\n",
    "Above suggests that even when we do not play the given bins, there is significant propeller noise there (thus they are chosen among the 32 strongest frequency bins). The only exception is bin 2375, which is very clean."
   ]
  },
  {
   "cell_type": "code",
   "execution_count": null,
   "metadata": {},
   "outputs": [],
   "source": [
    "strongest_bin = row.frequencies_matrix[:, 0]\n",
    "fig = plt.figure()\n",
    "fig.set_size_inches(10, 5)\n",
    "plt.scatter(row.seconds, strongest_bin, color='k', label='forced')\n",
    "\n",
    "#mic_indices = [0]\n",
    "mic_indices = range(4)\n",
    "\n",
    "for i, f in enumerate(FREQS):\n",
    "    plt.axhline(f, label=f'{f}', color=f'C{i}')\n",
    "    \n",
    "    # find out where the spectrogram is non-zero for this frequency bin. \n",
    "    f_idx = np.where(f == all_frequencies)[0][0]\n",
    "    \n",
    "    spec_total = np.mean(row.spectrogram[f_idx, :, mic_indices], axis=0)\n",
    "    spec_total -= np.min(spec_total)\n",
    "    spec_total *= 50 #/ np.max(spec_total)\n",
    "    times = row.seconds[spec_total > 0]\n",
    "    plt.scatter(times, f + spec_total[spec_total > 0], color=f'C{i}')\n",
    "    plt.legend()\n",
    "    if len(times) > 0:\n",
    "        plt.xlim(times[0], 18)\n",
    "    #plt.xlim(times[0], times[-1])"
   ]
  },
  {
   "cell_type": "markdown",
   "metadata": {},
   "source": [
    "## interference studies"
   ]
  },
  {
   "cell_type": "code",
   "execution_count": null,
   "metadata": {},
   "outputs": [],
   "source": [
    "appendix = \"_new\"\n",
    "\n",
    "freqs = FREQS\n",
    "\n",
    "fig, axs = plt.subplots(len(freqs), n_mics, sharex=True, sharey=True)\n",
    "fig.set_size_inches(20, 20)\n",
    "for j, f in enumerate(freqs): \n",
    "    f_idx = np.where(f == all_frequencies)[0][0]\n",
    "    \n",
    "    source = f\"mono{f}\"\n",
    "    df_sources = filter_by_dicts(df_total, [{\"source\":source, \"appendix\":appendix}])\n",
    "    assert len(df_sources) == 1\n",
    "    row = df_sources.iloc[0]\n",
    "    \n",
    "    # forced\n",
    "    times_idx = np.where(f == row.frequencies_matrix[:, 0])[0]\n",
    "    # automatic\n",
    "    #times_idx = np.where(np.sum(spectrogram[f_idx, :, :], axis=1) > 0)[0]\n",
    "\n",
    "    for i in range(n_mics):\n",
    "        spec = row.spectrogram[f_idx, times_idx, i]\n",
    "        axs[j, i].plot(row.seconds[times_idx], spec, color=f'C{j}', label=f'{f}')\n",
    "        axs[j, i].legend(loc='upper left')\n",
    "        \n",
    "[axs[0, i].set_title(f'mic{i}') for i in range(n_mics)]\n",
    "[axs[0, i].set_xlim(5, 20) for i in range(n_mics)]\n",
    "pass"
   ]
  },
  {
   "cell_type": "code",
   "execution_count": null,
   "metadata": {
    "scrolled": false
   },
   "outputs": [],
   "source": [
    "freqs = FREQS\n",
    "\n",
    "sources = ['sweep_fast', 'sweep_slow']\n",
    "appendix = \"_new\"\n",
    "for source in sources:\n",
    "    \n",
    "    df_sources = filter_by_dicts(df_total, [{\"source\":source, \"appendix\":appendix}])\n",
    "    for i, row in df_sources.iterrows():\n",
    "        \n",
    "        fig, axs = plt.subplots(len(freqs), n_mics, sharex=True, sharey=True)\n",
    "        fig.set_size_inches(20, 20)\n",
    "        fig.suptitle(row.source + row.appendix, y=0.9)\n",
    "        for j, f in enumerate(freqs): \n",
    "            f_idx = np.where(f == all_frequencies)[0][0]\n",
    "\n",
    "            # forced\n",
    "            times_idx = np.where(f == row.frequencies_matrix[:, 0])[0]\n",
    "            # automatic\n",
    "            #times_idx = np.where(np.sum(spectrogram[f_idx, :, :], axis=1) > 0)[0]\n",
    "\n",
    "            for i in range(n_mics):\n",
    "                spec = row.spectrogram[f_idx, times_idx, i]\n",
    "                axs[j, i].plot(row.seconds[times_idx], spec, color=f'C{j}', label=f'{f}')\n",
    "                axs[j, i].legend(loc='upper left')\n",
    "\n",
    "        [axs[0, i].set_title(f'mic{i}') for i in range(n_mics)]\n",
    "        [axs[0, i].set_xlim(5, 20) for i in range(n_mics)]"
   ]
  },
  {
   "cell_type": "code",
   "execution_count": null,
   "metadata": {},
   "outputs": [],
   "source": []
  },
  {
   "cell_type": "code",
   "execution_count": null,
   "metadata": {},
   "outputs": [],
   "source": []
  },
  {
   "cell_type": "code",
   "execution_count": null,
   "metadata": {},
   "outputs": [],
   "source": []
  }
 ],
 "metadata": {
  "kernelspec": {
   "display_name": "Python 3",
   "language": "python",
   "name": "python3"
  },
  "language_info": {
   "codemirror_mode": {
    "name": "ipython",
    "version": 3
   },
   "file_extension": ".py",
   "mimetype": "text/x-python",
   "name": "python",
   "nbconvert_exporter": "python",
   "pygments_lexer": "ipython3",
   "version": "3.6.9"
  },
  "toc": {
   "base_numbering": 1,
   "nav_menu": {},
   "number_sections": true,
   "sideBar": true,
   "skip_h1_title": false,
   "title_cell": "Table of Contents",
   "title_sidebar": "Contents",
   "toc_cell": false,
   "toc_position": {},
   "toc_section_display": true,
   "toc_window_display": false
  }
 },
 "nbformat": 4,
 "nbformat_minor": 4
}
