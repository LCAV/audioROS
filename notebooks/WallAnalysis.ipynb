{
 "cells": [
  {
   "cell_type": "code",
   "execution_count": null,
   "metadata": {},
   "outputs": [],
   "source": [
    "import math\n",
    "import sys\n",
    "\n",
    "import IPython\n",
    "import IPython.display as ipd\n",
    "import matplotlib.pylab as plt\n",
    "import numpy as np\n",
    "import pandas as pd\n",
    "\n",
    "%reload_ext autoreload\n",
    "%autoreload 2\n",
    "\n",
    "%matplotlib inline\n",
    "#%matplotlib notebook\n",
    "\n",
    "from matplotlib import rcParams\n",
    "rcParams[\"figure.max_open_warning\"] = False"
   ]
  },
  {
   "cell_type": "markdown",
   "metadata": {},
   "source": [
    "# 1. Chirp design"
   ]
  },
  {
   "cell_type": "code",
   "execution_count": null,
   "metadata": {},
   "outputs": [],
   "source": [
    "from evaluate_data import read_df_from_wav, get_fname\n",
    "kwargs = dict(\n",
    "    degree=0,\n",
    "    props=False,\n",
    "    snr=False,\n",
    ")\n",
    "exp_name = '2020_10_14_static_new'; \n",
    "fname_motors = get_fname(motors=True, source=None, **kwargs)\n",
    "df_motors = read_df_from_wav(f'../experiments/{exp_name}/export/{fname_motors}.wav')\n",
    "\n",
    "exp_name = '2020_11_26_wall'; \n",
    "fname_nomotors = get_fname(motors=False, source='sweep', distance=49, **kwargs)\n",
    "df_nomotors = read_df_from_wav(f'../experiments/{exp_name}/export/{fname_nomotors}.wav')"
   ]
  },
  {
   "cell_type": "code",
   "execution_count": null,
   "metadata": {
    "scrolled": false
   },
   "outputs": [],
   "source": [
    "from evaluate_data import get_spectrogram\n",
    "from bin_selection import select_frequencies\n",
    "sys.path.append(f'../experiments/{exp_name}/')\n",
    "from params import global_params\n",
    "from crazyflie_description_py.parameters import SWEEPS, N_BUFFER, FS\n",
    "\n",
    "max_time = 65\n",
    "max_freq_plot = 15000\n",
    "\n",
    "__, (min_freq, max_freq), *_ = SWEEPS['sweep']\n",
    "min_freq = 1000; max_freq = 9000\n",
    "bins = select_frequencies(min_freq=min_freq, max_freq=max_freq, n_buffer=N_BUFFER, fs=FS)\n",
    "frequencies_embed = np.fft.rfftfreq(N_BUFFER, 1/FS)\n",
    "print(frequencies_embed[bins])\n",
    "\n",
    "for df in [df_motors, df_nomotors]:\n",
    "    fig = plt.figure()\n",
    "    fig.set_size_inches(15, 10)\n",
    "    times = df.timestamp.values / 1000\n",
    "    frequencies = df.iloc[0].frequencies\n",
    "\n",
    "    spec = get_spectrogram(df)\n",
    "    spec = spec[frequencies < max_freq_plot, :]\n",
    "    spec = spec[:, times < max_time]\n",
    "    plt.pcolormesh(times[times < max_time], frequencies[frequencies < max_freq_plot], \n",
    "                   np.log(spec))\n",
    "    [plt.axhline(frequencies_embed[b], color='white', ls=':') for b in bins]\n",
    "    plt.xlabel('time [s]')\n",
    "    plt.ylabel('frequency [Hz]')"
   ]
  },
  {
   "cell_type": "code",
   "execution_count": null,
   "metadata": {},
   "outputs": [],
   "source": [
    "from evaluate_data import read_df_from_wav, get_fname, read_df\n",
    "from crazyflie_description_py.parameters import N_BUFFER, FS\n",
    "kwargs = dict(\n",
    "    degree=0,\n",
    "    props=False,\n",
    "    snr=True,\n",
    "    motors=True,\n",
    "    source=None\n",
    ")\n",
    "exp_name = '2020_11_30_wall_hover'; \n",
    "n_buffer = N_BUFFER \n",
    "fname_motors = get_fname(**kwargs)\n",
    "print(fname_motors)\n",
    "df_motors = read_df_from_wav(f'../experiments/{exp_name}/export/{fname_motors}.wav', n_buffer=n_buffer)"
   ]
  },
  {
   "cell_type": "markdown",
   "metadata": {},
   "source": [
    "# measurement mics"
   ]
  },
  {
   "cell_type": "code",
   "execution_count": null,
   "metadata": {},
   "outputs": [],
   "source": [
    "spec = get_spectrogram(df_motors)\n",
    "max_freq_plot = 4000\n",
    "times = df_motors.timestamp.values\n",
    "frequencies = np.fft.rfftfreq(N_BUFFER, 1/44100)\n",
    "fig = plt.figure()\n",
    "fig.set_size_inches(15, 10)\n",
    "plt.pcolormesh(times, frequencies[frequencies < max_freq_plot], np.log(spec[frequencies < max_freq_plot, :]))"
   ]
  },
  {
   "cell_type": "markdown",
   "metadata": {},
   "source": [
    "# drone mics"
   ]
  },
  {
   "cell_type": "code",
   "execution_count": null,
   "metadata": {},
   "outputs": [],
   "source": [
    "df, df_pos = read_df(**kwargs, exp_name=exp_name)"
   ]
  },
  {
   "cell_type": "code",
   "execution_count": null,
   "metadata": {},
   "outputs": [],
   "source": [
    "spec = get_spectrogram(df)\n",
    "stft = np.array([*df.loc[:, \"signals_f\"]]).transpose(2, 1, 0)\n",
    "times = df.timestamp.values / 1000\n",
    "fig, axs = plt.subplots(stft.shape[1], sharex=True)\n",
    "fig.set_size_inches(15, 10)\n",
    "frequencies = df.iloc[0].frequencies\n",
    "for i, ax in enumerate(axs):\n",
    "    ax.pcolormesh(times, frequencies, np.log(np.abs(stft[frequencies < max_freq_plot, i, :])))\n",
    "    ax.set_title(f'mic{i}')"
   ]
  },
  {
   "cell_type": "code",
   "execution_count": null,
   "metadata": {},
   "outputs": [],
   "source": [
    "from evaluate_data import read_df_others\n",
    "df_status, df_motors = read_df_others(**kwargs, exp_name=exp_name)\n",
    "\n",
    "motors_pwm = np.array([*df_motors.loc[:, \"motors_pwm\"]])\n",
    "print(motors_pwm.shape)\n",
    "\n",
    "fig, axs = plt.subplots(4)\n",
    "fig.set_size_inches(15, 10)\n",
    "axs[0].plot(df_status.timestamp / 1000, df_status.vbat, label=\"vbat\")\n",
    "for i in range(motors_pwm.shape[1]):\n",
    "    axs[1].plot(df_motors.timestamp / 1000, motors_pwm[:, i], label=f\"motor {i}\")\n",
    "axs[2].plot(df_pos.timestamp / 1000, df_pos.dx, label=\"dx\")\n",
    "axs[2].plot(df_pos.timestamp / 1000, df_pos.dy, label=\"dy\")\n",
    "axs[2].set_ylim(-10, 10)\n",
    "axs[3].plot(df_pos.timestamp / 1000, df_pos.yaw_rate_deg, label=\"yaw_rate_deg\")\n",
    "[ax.legend(loc='best') for ax in axs]"
   ]
  },
  {
   "cell_type": "markdown",
   "metadata": {},
   "source": [
    "# Full pipeline "
   ]
  },
  {
   "cell_type": "code",
   "execution_count": null,
   "metadata": {
    "scrolled": true
   },
   "outputs": [],
   "source": [
    "from evaluate_data import read_df, integrate_yaw\n",
    "from dynamic_analysis import add_pose_to_df\n",
    "from wall_analysis import get_psd\n",
    "\n",
    "#exp_name = '2020_11_23_wall2'; distances = np.arange(100, step=10)\n",
    "exp_name = '2020_11_26_wall'; distances = np.arange(50)\n",
    "\n",
    "#fname = f'results/{exp_name}_simulated.pkl'\n",
    "fname = f'results/{exp_name}_real.pkl'\n",
    "\n",
    "SOURCE_LIST = ['mono4125', 'mono3500', None, 'sweep', 'sweep_low', 'sweep_high'] # \n",
    "DEGREE_LIST = [0, 27, 54, 81, 360]\n",
    "\n",
    "try:\n",
    "    raise\n",
    "    df_total = pd.read_pickle(fname)\n",
    "    frequencies = df_total.iloc[0].frequencies\n",
    "    print('read', fname)\n",
    "except:\n",
    "    print('could not read', fname)\n",
    "    df_total = pd.DataFrame(columns=['signals_f', 'degree', 'yaw', 'distance', 'source', 'psd', 'spec', 'frequencies'])\n",
    "\n",
    "    params = dict(\n",
    "      props = False,\n",
    "      snr = False,\n",
    "      motors = False,\n",
    "      exp_name = exp_name\n",
    "    )\n",
    "    \n",
    "    for degree in DEGREE_LIST:\n",
    "        for distance in distances:\n",
    "            for source in SOURCE_LIST:\n",
    "                try:\n",
    "                    params['degree'] = degree\n",
    "                    params['distance'] = distance\n",
    "                    params['source'] = source\n",
    "                    params['appendix'] = \"\"\n",
    "                    if (exp_name == '2020_11_23_wall2') and (distance in [10, 30, 50]):\n",
    "                        params['appendix'] = \"_new\"\n",
    "                    df, df_pos = read_df(**params)\n",
    "                except Exception as e:\n",
    "                    continue \n",
    "\n",
    "                # detect index decrease (happens when two csv files are concatenated)\n",
    "                sign = np.sign(df['index'].values[1:] - df['index'].values[:-1])\n",
    "                if np.any(sign < 0):\n",
    "                    index = np.where(sign<0)[0][-1]\n",
    "                    print('Warning: found multiple start indices, start at', index)\n",
    "                    df = df.iloc[index:]\n",
    "                    index_start = df.iloc[0]['index']\n",
    "                    df_pos = df_pos.loc[df_pos.index >= index_start]\n",
    "\n",
    "                signals_f = np.array([*df.signals_f.values]) # n_times x n_mics x n_freqs\n",
    "                frequencies_matrix = np.array([*df.loc[:,'frequencies']])\n",
    "                frequencies = frequencies_matrix[0, :]\n",
    "                assert not np.any(np.any(frequencies_matrix - frequencies[None, :], axis=0))\n",
    "\n",
    "                if degree == 360:\n",
    "                    add_pose_to_df(df, df_pos, max_allowed_lag_ms=50)\n",
    "                    yaw = integrate_yaw(df.timestamp.values, df.yaw_rate_deg.values)\n",
    "                else:\n",
    "                    yaw = np.full(len(df), -degree)\n",
    "\n",
    "                spec = np.sum(np.abs(signals_f), axis=1)\n",
    "                psd = get_psd(signals_f, frequencies, fname='real')\n",
    "\n",
    "                df_total.loc[len(df_total), :] = dict(\n",
    "                    degree=degree,\n",
    "                    yaw=yaw,\n",
    "                    distance=distance,\n",
    "                    source=str(source),\n",
    "                    signals_f=signals_f,\n",
    "                    frequencies=frequencies,\n",
    "                    spec=spec,\n",
    "                    psd=psd\n",
    "                )\n",
    "\n",
    "    fname = f'results/{exp_name}_real.pkl'\n",
    "    pd.to_pickle(df_total, fname)\n",
    "    print('saved as', fname)"
   ]
  },
  {
   "cell_type": "code",
   "execution_count": null,
   "metadata": {},
   "outputs": [],
   "source": [
    "#for deg in [0, 27, 54, 81]:\n",
    "    #df_total.loc[df_total.degree==deg, 'source'] = 'sweep'"
   ]
  },
  {
   "cell_type": "code",
   "execution_count": null,
   "metadata": {},
   "outputs": [],
   "source": [
    "df_matrix_mics = np.empty((n_mics, len(frequencies), len(distances)))\n",
    "n_mics = df_total.iloc[0].signals_f.shape[1]\n",
    "normalize = False\n",
    "\n",
    "if normalize:\n",
    "    psd_ref = df_total[df_total.distance==distances[-1]].iloc[0].psd\n",
    "\n",
    "for j, distance_cm in enumerate(distances):\n",
    "    row = df_total[df_total.distance==distance_cm].iloc[0]\n",
    "    for i in range(n_mics):\n",
    "        if normalize:\n",
    "            df_matrix_mics[i, :, j] = row.psd[i] / psd_ref[i]\n",
    "        else:\n",
    "            df_matrix_mics[i, :, j] = row.psd[i]"
   ]
  },
  {
   "cell_type": "code",
   "execution_count": null,
   "metadata": {},
   "outputs": [],
   "source": [
    "fig, axs = plt.subplots(1, n_mics)\n",
    "fig.set_size_inches(10, 5)\n",
    "for i in range(n_mics):\n",
    "    axs[i].pcolormesh(distances, frequencies, df_matrix_mics[i])"
   ]
  },
  {
   "cell_type": "code",
   "execution_count": null,
   "metadata": {
    "scrolled": false
   },
   "outputs": [],
   "source": [
    "from constants import SPEED_OF_SOUND\n",
    "mic_idx = 0\n",
    "for f_idx, slice_f in enumerate(np.arange(32)):\n",
    "    \n",
    "    fig, axs = plt.subplots(2, n_mics)\n",
    "    fig.set_size_inches(15, 5)\n",
    "    \n",
    "    f = frequencies[slice_f]\n",
    "    expected_period = SPEED_OF_SOUND / f * 1e2 / 2\n",
    "    \n",
    "    for mic_idx in range(n_mics):\n",
    "        distance_response = df_matrix_mics[mic_idx, slice_f, :]\n",
    "        axs[0, mic_idx].semilogy(distances, distance_response, label=f'{f:.0f}Hz')\n",
    "        axs[0, mic_idx].set_xlabel('distance [cm]')\n",
    "        axs[0, mic_idx].set_title(f'mic{mic_idx}')\n",
    "        axs[0, mic_idx].legend(loc='lower left')\n",
    "\n",
    "        distance_fft = np.fft.rfft(distance_response)[1:]\n",
    "        distance_freq = 1 / np.fft.rfftfreq(len(distances), 1)[1:] # cm \n",
    "        axs[1, mic_idx].loglog(distance_freq, np.abs(distance_fft))\n",
    "        axs[1, mic_idx].axvline(expected_period, ls=\":\")\n",
    "        axs[1, mic_idx].set_xlabel('period [cm]')\n",
    "    \n",
    "    axs[0, 0].set_ylabel('PSD')"
   ]
  },
  {
   "cell_type": "markdown",
   "metadata": {},
   "source": [
    "# Fixed angle analysis"
   ]
  },
  {
   "cell_type": "code",
   "execution_count": null,
   "metadata": {},
   "outputs": [],
   "source": [
    "try:\n",
    "    row = df_total[(df_total.distance==40) & (df_total.degree==0) & (df_total.source=='sweep')].iloc[0]\n",
    "    spec = np.sum(np.abs(row.signals_f), axis=1)\n",
    "\n",
    "    plt.figure()\n",
    "    times = np.arange(spec.shape[0])\n",
    "    plt.pcolormesh(times, frequencies, np.log10(spec.T))\n",
    "\n",
    "    psd = get_psd(row.signals_f, frequencies, ax=plt.gca(), fname='real')\n",
    "\n",
    "    plt.figure()\n",
    "    for i_mic in range(psd.shape[0]):\n",
    "        plt.semilogy(frequencies, np.abs(psd[i_mic, :]), label=f\"mic{i_mic}\")\n",
    "    plt.xlabel('frequency [Hz]')\n",
    "    plt.ylabel('PSD')\n",
    "    plt.title(f'degree {degree}, distance {distance}')\n",
    "except ValueError:\n",
    "    raise\n",
    "except:\n",
    "    print('did not find 90, 81, sweep in')\n",
    "    print(df_total.distance.unique())\n",
    "    print(df_total.degree.unique())\n",
    "    print(df_total.source.unique())"
   ]
  },
  {
   "cell_type": "code",
   "execution_count": null,
   "metadata": {
    "scrolled": false
   },
   "outputs": [],
   "source": [
    "degrees = [d for d in df_total.degree.unique() if d != 360][:2]\n",
    "distances = df_total.distance.unique()[:3]\n",
    "source = 'sweep'\n",
    "\n",
    "fig, axs = plt.subplots(len(distances), len(degrees), sharex=True, sharey=True)\n",
    "fig.set_size_inches(10, 10*axs.shape[0]/axs.shape[1])\n",
    "\n",
    "fig_psd, axs_psd = plt.subplots(len(distances), len(degrees), sharex=True, sharey=True)\n",
    "fig_psd.set_size_inches(10, 10*axs.shape[0]/axs.shape[1])\n",
    "for i, distance in enumerate(distances):\n",
    "    for j, degree in enumerate(degrees):\n",
    "        df_this = df_total.loc[(df_total.distance == distance)\n",
    "                               & (df_total.degree == degree)\n",
    "                               & (df_total.source == source)]\n",
    "        row = df_this.iloc[0]\n",
    "        spec = row.spec\n",
    "        psd = row.psd\n",
    "        if psd is None:\n",
    "            psd = get_psd(row.signals_f)\n",
    "        \n",
    "        axs[i, j].pcolormesh(range(spec.shape[0]), frequencies, np.log10(spec.T))\n",
    "        for i_mic in range(psd.shape[0]):\n",
    "            axs_psd[i, j].semilogy(frequencies, np.abs(psd[i_mic, :]), label=f\"mic{i_mic}\")\n",
    "        axs[0, j].set_title(f'{degree} deg')\n",
    "        axs_psd[0, j].set_title(f'{degree} deg')\n",
    "    axs[i, 0].set_ylabel(f'{distance} cm')\n",
    "    axs_psd[i, 0].set_ylabel(f'{distance} cm')\n",
    "    \n",
    "[axs[-1, j].set_xlabel(f'time idx') for j in range(len(degrees))]\n",
    "[axs_psd[-1, j].set_xlabel(f'frequency [Hz]') for j in range(len(degrees))]"
   ]
  },
  {
   "cell_type": "code",
   "execution_count": null,
   "metadata": {},
   "outputs": [],
   "source": [
    "from constants import SPEED_OF_SOUND\n",
    "\n",
    "distance_ref = 90\n",
    "distances = df_total.distance.unique()[:3]\n",
    "source = 'sweep'\n",
    "n_mics = df_ref.iloc[0].signals_f.shape[1]\n",
    "print('n_mics:', n_mics)\n",
    "    \n",
    "for degree in [0, 27, 54, 81][:2]:\n",
    "    \n",
    "    df_ref = df_total.loc[(df_total.distance == distance_ref)\n",
    "                           & (df_total.degree == degree)\n",
    "                           & (df_total.source == source)]\n",
    "\n",
    "    fig, axs = plt.subplots(1, n_mics, sharex=True, sharey=True)\n",
    "    fig.set_size_inches(15, 5)\n",
    "    \n",
    "    for mic in range(n_mics):\n",
    "        psd_ref = df_ref.iloc[0].psd[mic] \n",
    "        for i, distance in enumerate(distances):\n",
    "            df_this = df_total.loc[(df_total.distance == distance)\n",
    "                                   & (df_total.degree == degree)\n",
    "                                   & (df_total.source == source)]\n",
    "            axs[mic].semilogy(frequencies, df_this.iloc[0].psd[mic], label=distance, color=f\"C{i}\")\n",
    "            #axs[mic].semilogy(frequencies, df_this.iloc[0].psd[mic] / psd_ref, label=distance, color=f\"C{i}\")\n",
    "            #axs[mic].plot(frequencies, df_this.iloc[0].psd[mic] - psd_ref, label=distance, color=f\"C{i}\")\n",
    "\n",
    "        #axs[mic].set_xlim(min(frequencies), max(frequencies))\n",
    "        axs[mic].set_xlim(2000,  max(frequencies))\n",
    "        axs[mic].set_title(f\"mic{mic}\")\n",
    "    \n",
    "    fig.suptitle(degree)\n",
    "    axs[mic].legend()"
   ]
  },
  {
   "cell_type": "code",
   "execution_count": null,
   "metadata": {},
   "outputs": [],
   "source": [
    "#chosen_frequencies = frequencies[[10, 20, 30]]\n",
    "chosen_frequencies = frequencies[[30]]\n",
    "print(chosen_frequencies)\n",
    "\n",
    "distance_ref = 90\n",
    "mic = 0\n",
    "\n",
    "for degree in [0, 27, 54, 81][:2]:\n",
    "    distances = df_total.distance.unique()\n",
    "    source = 'sweep'\n",
    "\n",
    "    fig, ax = plt.subplots()\n",
    "    fig.set_size_inches(15, 5)\n",
    "    for i, distance in enumerate(distances):\n",
    "        df_this = df_total.loc[(df_total.distance == distance)\n",
    "                               & (df_total.degree == degree)\n",
    "                               & (df_total.source == source)]\n",
    "        row = df_this.iloc[0]\n",
    "        for f, freq in enumerate(chosen_frequencies):\n",
    "            chosen_idx = np.where(frequencies == freq)[0][0]\n",
    "            ax.scatter(distance, row.psd[mic, chosen_idx], color=f\"C{f}\")\n",
    "    ax.set_title(degree)\n",
    "    #ax.set_yscale('log')\n",
    "    ax.legend(chosen_frequencies)\n",
    "    ax.set_xlabel('distance [cm]')"
   ]
  },
  {
   "cell_type": "markdown",
   "metadata": {},
   "source": [
    "# Moving analysis"
   ]
  },
  {
   "cell_type": "code",
   "execution_count": null,
   "metadata": {
    "scrolled": false
   },
   "outputs": [],
   "source": [
    "#freq = 4125\n",
    "#source = 'None'\n",
    "source = 'mono4125'\n",
    "degree = 360\n",
    "\n",
    "distances = df_total.distance.unique()[:3]\n",
    "chosen_idx = np.where(frequencies == freq)[0][0]\n",
    "\n",
    "averages = []\n",
    "for i, distance in enumerate(distances):\n",
    "    fig, axs = plt.subplots(2)\n",
    "    fig.set_size_inches(15, 5)\n",
    "    \n",
    "    ax = axs[0]\n",
    "    df_this = df_total.loc[(df_total.distance == distance)\n",
    "                           & (df_total.degree == degree)]\n",
    "    df_this = df_this.loc[df_this.source == source]\n",
    "                           \n",
    "    signals_f = df_this.iloc[0].signals_f\n",
    "    yaw =  df_this.iloc[0].yaw\n",
    "    spec = df_this.iloc[0].spec\n",
    "\n",
    "    for j in range(signals_f.shape[1]):\n",
    "        ax.semilogy(range(signals_f.shape[0]), np.abs(signals_f[:, j, chosen_idx]), color=f\"C{j}\", label=f\"mic{j}\")\n",
    "\n",
    "    yaw[np.isnan(yaw)] = 0\n",
    "    axs[1].plot(range(signals_f.shape[0]), yaw)\n",
    "    for deg in -np.arange(1, 5)*90:\n",
    "        index = np.nanargmin(np.abs(yaw-deg))\n",
    "        axs[1].axvline(x=index, color='C1')\n",
    "        ax.axvline(x=index, color='C1')\n",
    "        \n",
    "    min_avg = 200\n",
    "    max_avg = 300\n",
    "    averages.append(np.sum(spec[min_avg:max_avg, chosen_idx], axis=0))\n",
    "        \n",
    "    ax.set_title(distance)\n",
    "    ax.set_ylim(0.05, 10)\n",
    "    ax.legend()\n",
    "    [ax.grid() for ax in axs]"
   ]
  },
  {
   "cell_type": "code",
   "execution_count": null,
   "metadata": {},
   "outputs": [],
   "source": [
    "plt.figure()\n",
    "plt.scatter(distances, averages)\n",
    "plt.xlabel('distance [cm]')\n",
    "plt.title(f'average PSD at {freq} Hz')"
   ]
  },
  {
   "cell_type": "code",
   "execution_count": null,
   "metadata": {},
   "outputs": [],
   "source": []
  }
 ],
 "metadata": {
  "kernelspec": {
   "display_name": "Python 3",
   "language": "python",
   "name": "python3"
  },
  "language_info": {
   "codemirror_mode": {
    "name": "ipython",
    "version": 3
   },
   "file_extension": ".py",
   "mimetype": "text/x-python",
   "name": "python",
   "nbconvert_exporter": "python",
   "pygments_lexer": "ipython3",
   "version": "3.6.9"
  }
 },
 "nbformat": 4,
 "nbformat_minor": 4
}
