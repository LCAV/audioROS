{
 "cells": [
  {
   "cell_type": "code",
   "execution_count": null,
   "metadata": {},
   "outputs": [],
   "source": [
    "import math\n",
    "import sys\n",
    "\n",
    "import IPython\n",
    "import IPython.display as ipd\n",
    "import matplotlib.pylab as plt\n",
    "import numpy as np\n",
    "import pandas as pd\n",
    "\n",
    "%reload_ext autoreload\n",
    "%autoreload 2\n",
    "\n",
    "%matplotlib inline\n",
    "#%matplotlib notebook\n",
    "\n",
    "from matplotlib import rcParams\n",
    "rcParams[\"figure.max_open_warning\"] = False"
   ]
  },
  {
   "cell_type": "markdown",
   "metadata": {},
   "source": [
    "# Experimental distance-frequency matrix"
   ]
  },
  {
   "cell_type": "markdown",
   "metadata": {},
   "source": [
    "## Old experiments"
   ]
  },
  {
   "cell_type": "code",
   "execution_count": null,
   "metadata": {
    "deletable": false,
    "editable": false,
    "run_control": {
     "frozen": true
    },
    "scrolled": true
   },
   "outputs": [],
   "source": [
    "from evaluate_data import read_df, integrate_yaw\n",
    "from dynamic_analysis import add_pose_to_df\n",
    "from wall_analysis import get_psd\n",
    "\n",
    "exp_name = '2020_11_23_wall2'; DISTANCE_LIST = np.arange(100, step=10)\n",
    "#exp_name = '2020_11_26_wall'; DISTANCE_LIST = np.arange(50)\n",
    "\n",
    "#fname = f'results/{exp_name}_simulated.pkl'\n",
    "fname = f'results/{exp_name}_real.pkl'\n",
    "\n",
    "SOURCE_LIST = ['mono4125', 'mono3500', None, 'sweep', 'sweep_low', 'sweep_high'] # \n",
    "DEGREE_LIST = [0, 27, 54, 81, 360]\n",
    "\n",
    "try:\n",
    "    df_total = pd.read_pickle(fname)\n",
    "    frequencies = df_total.iloc[0].frequencies\n",
    "    print('read', fname)\n",
    "except:\n",
    "    print('could not read', fname)\n",
    "    df_total = pd.DataFrame(columns=['signals_f', 'degree', 'yaw', 'distance', 'source', 'psd', 'spec', \n",
    "                                     'frequencies'])\n",
    "\n",
    "    params = dict(\n",
    "      props = False,\n",
    "      snr = False,\n",
    "      motors = False,\n",
    "      exp_name = exp_name\n",
    "    )\n",
    "    \n",
    "    for degree in DEGREE_LIST:\n",
    "        for distance in DISTANCE_LIST:\n",
    "            for source in SOURCE_LIST:\n",
    "                try:\n",
    "                    params['degree'] = degree\n",
    "                    params['distance'] = distance\n",
    "                    params['source'] = source\n",
    "                    params['appendix'] = \"\"\n",
    "                    if (exp_name == '2020_11_23_wall2') and (distance in [10, 30, 50]):\n",
    "                        params['appendix'] = \"_new\"\n",
    "                    df, df_pos = read_df(**params)\n",
    "                except Exception as e:\n",
    "                    continue \n",
    "\n",
    "                # detect index decrease (happens when two csv files are concatenated)\n",
    "                sign = np.sign(df['index'].values[1:] - df['index'].values[:-1])\n",
    "                if np.any(sign < 0):\n",
    "                    index = np.where(sign<0)[0][-1]\n",
    "                    print('Warning: found multiple start indices, start at', index)\n",
    "                    df = df.iloc[index:]\n",
    "                    index_start = df.iloc[0]['index']\n",
    "                    df_pos = df_pos.loc[df_pos.index >= index_start]\n",
    "\n",
    "                signals_f = np.array([*df.signals_f.values]) # n_times x n_mics x n_freqs\n",
    "                frequencies_matrix = np.array([*df.loc[:,'frequencies']])\n",
    "                frequencies = frequencies_matrix[0, :]\n",
    "                assert not np.any(np.any(frequencies_matrix - frequencies[None, :], axis=0))\n",
    "\n",
    "                if degree == 360:\n",
    "                    add_pose_to_df(df, df_pos, max_allowed_lag_ms=50)\n",
    "                    yaw = integrate_yaw(df.timestamp.values, df.yaw_rate_deg.values)\n",
    "                else:\n",
    "                    yaw = np.full(len(df), -degree)\n",
    "\n",
    "                spec = np.sum(np.abs(signals_f), axis=1)\n",
    "                psd = get_psd(signals_f, frequencies, fname='real')\n",
    "\n",
    "                df_total.loc[len(df_total), :] = dict(\n",
    "                    degree=degree,\n",
    "                    yaw=yaw,\n",
    "                    distance=distance,\n",
    "                    source=str(source),\n",
    "                    signals_f=signals_f,\n",
    "                    frequencies=frequencies,\n",
    "                    spec=spec,\n",
    "                    psd=psd\n",
    "                )\n",
    "\n",
    "    fname = f'results/{exp_name}_real.pkl'\n",
    "    pd.to_pickle(df_total, fname)\n",
    "    print('saved as', fname)"
   ]
  },
  {
   "cell_type": "markdown",
   "metadata": {},
   "source": [
    "## New experiments"
   ]
  },
  {
   "cell_type": "code",
   "execution_count": null,
   "metadata": {
    "scrolled": false
   },
   "outputs": [],
   "source": [
    "#exp_name = '2020_12_7_moving'; \n",
    "exp_name = '2020_12_9_rotating'; \n",
    "fname = f'results/{exp_name}_real.pkl'\n",
    "\n",
    "try:\n",
    "    df_total = pd.read_pickle(fname)\n",
    "    print('read', fname)\n",
    "except:\n",
    "    print('Error: run wall_analysis.py to parse experiments.')"
   ]
  },
  {
   "cell_type": "code",
   "execution_count": null,
   "metadata": {},
   "outputs": [],
   "source": [
    "df_total.tail()"
   ]
  },
  {
   "cell_type": "markdown",
   "metadata": {},
   "source": [
    "## sanity checks"
   ]
  },
  {
   "cell_type": "code",
   "execution_count": null,
   "metadata": {},
   "outputs": [],
   "source": [
    "row_wav = df_total.loc[df_total.mic_type=='measurement', :].iloc[0]\n",
    "fig, ax = plt.subplots()\n",
    "fig.set_size_inches(5, 5)\n",
    "ax.pcolorfast(row_wav.seconds, row_wav.frequencies, np.log(row_wav.spec.T))"
   ]
  },
  {
   "cell_type": "code",
   "execution_count": null,
   "metadata": {},
   "outputs": [],
   "source": [
    "for i, row in df_total.iterrows():\n",
    "    plt.plot(row.seconds, row.seconds + i * 10, label=f'row {i}')\n",
    "#plt.legend(bbox_to_anchor=(1.0, 0), loc='lower left')"
   ]
  },
  {
   "cell_type": "code",
   "execution_count": null,
   "metadata": {
    "scrolled": true
   },
   "outputs": [],
   "source": [
    "df_meas = df_total.loc[df_total.mic_type == 'audio_deck', :]\n",
    "for chosen_source, df_this in df_meas.groupby('source'):\n",
    "    for tuple_params, df_app in df_this.groupby(['appendix', 'snr', 'distance', 'degree']):\n",
    "        \n",
    "        fig, axs = plt.subplots(1, 2)\n",
    "        fig.set_size_inches(15, 5)\n",
    "        fig.suptitle(f'{chosen_source}, {str(tuple_params)}')\n",
    "\n",
    "        for j, (motors, df_motors) in enumerate(df_app.groupby('motors')):\n",
    "            assert len(df_motors) <= 1, f\"{len(df_motors)} findings for {tuple_params, motors, chosen_source}: {df_motors}\"\n",
    "            \n",
    "            row = df_motors.iloc[0]\n",
    "            frequencies = row.frequencies\n",
    "            \n",
    "            signals_f = row.signals_f\n",
    "            if motors != 'all43000':\n",
    "                signals_f = signals_f[::-1, :, :]\n",
    "            \n",
    "            if not chosen_source in ('None', None):\n",
    "                try:\n",
    "                    freq = int(chosen_source.strip('mono'))\n",
    "                    bin_ = np.argmin(abs(frequencies - freq))\n",
    "                    assert int(frequencies[bin_]) == freq\n",
    "                except: \n",
    "                    bin_ = 15\n",
    "            else: \n",
    "                bin_ = np.argmax(np.sum(np.abs(signals_f), axis=(0, 1))) \n",
    "                print('max frequency without source:', frequencies[bin_])\n",
    "                \n",
    "            seconds = row.seconds\n",
    "\n",
    "            for mic_idx in range(4):\n",
    "                spec = np.abs(signals_f[:, mic_idx, :]) # times x frequencies\n",
    "                axs[j].plot(seconds, spec[:, bin_], label=f'mic{mic_idx}')\n",
    "                axs[j].set_title(f'motors {motors}')\n",
    "            \n",
    "            axs[j].legend(loc='upper right')\n",
    "            #axs[j].set_ylim(0, 2)\n",
    "            axs[j].set_xlim(0, 180)"
   ]
  },
  {
   "cell_type": "code",
   "execution_count": null,
   "metadata": {},
   "outputs": [],
   "source": [
    "from wall_analysis import filter_by_dicts\n",
    "if exp_name == \"2020_12_7_moving\":\n",
    "    motors = \"all43000\"\n",
    "    chosen_dicts = [\n",
    "        {\"source\": \"mono3125\", \"motors\": 0, \"appendix\":\"\"},\n",
    "        {\"source\": \"mono3125\", \"motors\": motors, \"appendix\":\"_new\"},\n",
    "        {\"source\": \"mono4156\", \"motors\": 0, \"appendix\":\"\"},\n",
    "        {\"source\": \"mono4156\", \"motors\": motors, \"appendix\":\"_new\"},\n",
    "        {\"source\": \"mono8000\", \"motors\": 0, \"appendix\":\"_new\"},\n",
    "        {\"source\": \"mono8000\", \"motors\": motors, \"appendix\":\"\"},\n",
    "        {\"source\": \"None\", \"motors\": motors, \"appendix\":\"_new\"},\n",
    "    ]\n",
    "elif exp_name == \"2020_12_9_rotating\":\n",
    "    snr = 0\n",
    "    appendix = \"\"\n",
    "    chosen_dicts = []\n",
    "    for d in df_total.distance.unique():\n",
    "        for deg in df_total.degree.unique():\n",
    "            if deg == 0:\n",
    "                motors = [\"all43000\", 0]\n",
    "            else:\n",
    "                motors = [0]\n",
    "                \n",
    "            for m in motors:\n",
    "                chosen_dicts += [\n",
    "                    {\"motors\":m, \"appendix\":appendix, \"snr\":snr, \"distance\":d, \"degree\":deg}\n",
    "                ]\n",
    "    \n",
    "df_chosen = filter_by_dicts(df_total, chosen_dicts)\n",
    "assert len(df_chosen) == 2*len(chosen_dicts), len(df_chosen)# times 2 because of mic_type\n",
    "df_chosen.tail()"
   ]
  },
  {
   "cell_type": "markdown",
   "metadata": {},
   "source": [
    "## spectrograms"
   ]
  },
  {
   "cell_type": "code",
   "execution_count": null,
   "metadata": {
    "scrolled": false
   },
   "outputs": [],
   "source": [
    "mic_type = 'measurement'\n",
    "cut_x = 500\n",
    "cut_y = range(100, 400)\n",
    "\n",
    "filters = ['source', 'degree', 'distance']\n",
    "for chosen_tuple, df_source in df_chosen[df_chosen.mic_type==mic_type].groupby(filters):\n",
    "    fig, axs = plt.subplots(1, 3, squeeze=False)\n",
    "    fig.set_size_inches(15, 5)\n",
    "    fig.suptitle(dict(zip(filters, chosen_tuple)))\n",
    "\n",
    "    for j, motors in enumerate([0, \"all43000\"]):\n",
    "        df_this = df_source[df_source.motors==motors]\n",
    "        if len(df_this) != 1:\n",
    "            print(len(df_this))\n",
    "            continue\n",
    "\n",
    "        row = df_this.iloc[0]\n",
    "        axs[0, j].pcolorfast(row.seconds, row.frequencies, np.log(row.spec.T))\n",
    "        axs[0, j].set_title(f'motors {motors}')\n",
    "\n",
    "    axs[0, 1].plot([row.seconds[0], row.seconds[cut_x]], [row.frequencies[cut_y[0]], row.frequencies[cut_y[0]]], color='red', linewidth=1)\n",
    "    axs[0, 1].plot([row.seconds[0], row.seconds[0]], [row.frequencies[cut_y[0]], row.frequencies[cut_y[-1]]], color='red', linewidth=1)\n",
    "    axs[0, 1].plot([row.seconds[cut_x], row.seconds[cut_x]], [row.frequencies[cut_y[0]], row.frequencies[cut_y[-1]]], color='red', linewidth=1)\n",
    "    axs[0, 1].plot([row.seconds[0], row.seconds[cut_x]], [row.frequencies[cut_y[-1]], row.frequencies[cut_y[-1]]], color='red', linewidth=1)\n",
    "    axs[0, 2].pcolorfast(row.seconds[:cut_x], row.frequencies[cut_y], np.log(row.spec.T[cut_y, :cut_x]))\n",
    "    fig.savefig(f'/home/duembgen/Desktop/spec-{chosen_source}.png', bbox_inches='tight')"
   ]
  },
  {
   "cell_type": "markdown",
   "metadata": {},
   "source": [
    "## frequency selection for propeller noise"
   ]
  },
  {
   "cell_type": "code",
   "execution_count": null,
   "metadata": {},
   "outputs": [],
   "source": [
    "df_source = df_chosen.loc[df_chosen.source==\"None\"]\n",
    "df_mic = df_source.loc[df_source.mic_type == \"audio_deck\"]\n",
    "assert len(df_mic) == 1\n",
    "row = df_mic.iloc[0]\n",
    "f_matrix = row.frequencies_matrix\n",
    "print(f_matrix.shape)\n",
    "fig, ax = plt.subplots()\n",
    "fig.set_size_inches(10, 5)\n",
    "for i, row in enumerate(f_matrix):\n",
    "    plt.scatter([i]*len(row), row, color='C0', s=1)"
   ]
  },
  {
   "cell_type": "code",
   "execution_count": null,
   "metadata": {},
   "outputs": [],
   "source": [
    "#levels = list(range(2))\n",
    "levels = list(range(5))\n",
    "num_levels = len(levels)\n",
    "#times = range(f_matrix.shape[0]) # range(100, 300)\n",
    "times = range(10, 800)\n",
    "f_matrix_reduced = f_matrix[times, :]\n",
    "f_matrix_reduced = f_matrix_reduced[:, levels]\n",
    "fig, axs = plt.subplots(num_levels, sharey=False, sharex=True, squeeze=False)\n",
    "fig.set_size_inches(10, 10)\n",
    "for j, level in enumerate(levels):\n",
    "    axs[j, 0].plot(times, f_matrix_reduced[:, j], color=f\"C{j}\", marker='o')\n",
    "    freq = np.median(f_matrix_reduced[:, j])\n",
    "    axs[j, 0].set_title(f'level {level}: {freq}Hz')"
   ]
  },
  {
   "cell_type": "code",
   "execution_count": null,
   "metadata": {},
   "outputs": [],
   "source": [
    "all_freqs = np.sort(f_matrix[times,:10].flatten())\n",
    "count, bins = np.histogram(all_freqs, bins=np.unique(all_freqs))\n",
    "plt.plot(bins[:-1], count)\n",
    "plt.title('histogram strongest 10 frequency bins')\n",
    "print(bins[np.argsort(count)[::-1]])"
   ]
  },
  {
   "cell_type": "code",
   "execution_count": null,
   "metadata": {},
   "outputs": [],
   "source": [
    "all_freqs = np.sort(f_matrix[times,0].flatten())\n",
    "count, bins = np.histogram(all_freqs, bins=np.unique(all_freqs))\n",
    "plt.plot(bins[:-1], count)\n",
    "plt.title('histogram strongest frequency bin')\n",
    "print(bins[np.argsort(count)[::-1]])"
   ]
  },
  {
   "cell_type": "markdown",
   "metadata": {},
   "source": [
    "## distance-slices"
   ]
  },
  {
   "cell_type": "code",
   "execution_count": null,
   "metadata": {
    "scrolled": false
   },
   "outputs": [],
   "source": [
    "if exp_name != '2020_12_7_moving':\n",
    "    raise ValueError('cannot do distance slices on this dataset')\n",
    "#mic_indices = range(4)\n",
    "from constants import SPEED_OF_SOUND\n",
    "CHOSEN_MICS = [0, 1, 2, 3] #[3]\n",
    "CUT_LAST = 3\n",
    "CUT_FIRST = 3\n",
    "X_LIM = 20\n",
    "#CHOSEN_PROP_FREQ = 781 #\n",
    "#CHOSEN_PROP_FREQ = 671 #\n",
    "#CHOSEN_PROP_FREQ = 734 #\n",
    "#CHOSEN_PROP_FREQ = 2187 #1\n",
    "CHOSEN_PROP_FREQ = 1453 \n",
    "\n",
    "for chosen_source, df_source in df_chosen.groupby('source'):\n",
    "    for mic_type, df_this in df_source.groupby('mic_type'):\n",
    "            \n",
    "        if mic_type == 'audio_deck':\n",
    "            mic_indices = CHOSEN_MICS\n",
    "        else:\n",
    "            mic_indices = [0]\n",
    "            \n",
    "        fig, axs = plt.subplots(2, 2, squeeze=False)\n",
    "        fig.set_size_inches(15, 5)\n",
    "        fig.suptitle(chosen_source)\n",
    "\n",
    "        for j, motors in enumerate([0, 'all43000']):\n",
    "            \n",
    "            df_motors = df_this.loc[df_this.motors==motors]\n",
    "            \n",
    "            if len(df_motors) != 1: \n",
    "                print(f\"{len(df_motors)} findings for {motors, chosen_source}\")\n",
    "                continue\n",
    "\n",
    "            row = df_motors.iloc[0]\n",
    "\n",
    "            signals_f = row.signals_f\n",
    "            if motors != 'all43000':\n",
    "                signals_f = signals_f[::-1, :, :]\n",
    "\n",
    "            if (chosen_source == \"None\") and (mic_type == \"audio_deck\"):\n",
    "                freq = CHOSEN_PROP_FREQ\n",
    "                bin_ = np.argmin(np.abs(row.frequencies_matrix - freq), axis=1)\n",
    "            elif chosen_source != \"None\":\n",
    "                freq = int(chosen_source.strip('mono'))\n",
    "                bin_ = np.argmin(abs(row.frequencies - freq))\n",
    "                error = abs(row.frequencies[bin_] - freq)\n",
    "                if error > 10:\n",
    "                    print(f'Warning: big diff between {freq} and {row.frequencies[bin_]}')\n",
    "            else:\n",
    "                freq = CHOSEN_PROP_FREQ\n",
    "                bin_ = np.argmin(abs(row.frequencies - freq))\n",
    "                error = abs(row.frequencies[bin_] - freq)\n",
    "                if error > 10:\n",
    "                    print(f'Warning: big diff between {freq} and {row.frequencies[bin_]}')\n",
    "\n",
    "            seconds = row.seconds[CUT_FIRST:-CUT_LAST]\n",
    "            distances = seconds * 50 / 165.0\n",
    "            mean_d = np.median(distances[5:]-distances[4:-1])\n",
    "            print(mean_d)\n",
    "            expected_period = SPEED_OF_SOUND / freq * 100 / 2 #\n",
    "\n",
    "            for mic_idx in mic_indices:\n",
    "                spec = np.abs(signals_f[range(signals_f.shape[0]), mic_idx, bin_])[CUT_FIRST:-CUT_LAST] # times x frequencies\n",
    "                axs[0, j].plot(distances, spec, label=f'mic{mic_idx}', color=f'C{mic_idx}')\n",
    "                axs[0, j].set_title(f'motors {motors}')\n",
    "                \n",
    "                spec_fft = np.fft.rfft(spec)[1:]\n",
    "                freqs = np.fft.rfftfreq(len(spec), mean_d)[1:]\n",
    "                period = 1/freqs\n",
    "                axs[1, j].semilogx(period, np.abs(spec_fft), color=f'C{mic_idx}')\n",
    "                axs[1, j].axvline(expected_period, color=f'C{mic_idx}', ls=\":\") # cm\n",
    "\n",
    "            axs[0, j].legend(loc='upper right')\n",
    "            axs[0, j].set_xlim(0,50)\n",
    "            axs[1, j].set_xlim(1e-1,50)\n",
    "            #axs[0, j].set_ylim(min(spec), max(spec))"
   ]
  },
  {
   "cell_type": "markdown",
   "metadata": {},
   "source": [
    "## frequency slices"
   ]
  },
  {
   "cell_type": "code",
   "execution_count": null,
   "metadata": {
    "scrolled": false
   },
   "outputs": [],
   "source": [
    "if exp_name != '2020_12_9_rotating':\n",
    "    raise ValueError('cannot do frequency slices')\n",
    "    \n",
    "from bin_selection import select_frequencies\n",
    "from constants import SPEED_OF_SOUND\n",
    "    \n",
    "sys.path.append(f'../experiments/{exp_name}/')\n",
    "from params import MIN_FREQ, MAX_FREQ\n",
    "    \n",
    "CHOSEN_MICS = [0, 1, 2, 3] #[3]\n",
    "\n",
    "for (distance,mic_type,motors), df_this in df_chosen.groupby(['distance', 'mic_type', 'motors']):\n",
    "    if mic_type == 'audio_deck':\n",
    "        mic_indices = CHOSEN_MICS\n",
    "        bins_ = range(32)\n",
    "    else:\n",
    "        mic_indices = [0]\n",
    "        bins_ = select_frequencies(N_BUFFER, 44100, min_freq=MIN_FREQ, max_freq=MAX_FREQ)\n",
    "\n",
    "    fig, axs = plt.subplots(2, len(mic_indices), squeeze=False)\n",
    "    fig.set_size_inches(15, 5)\n",
    "    fig.suptitle(f'{distance}cm, {mic_type} mic, motors:{motors}')\n",
    "\n",
    "    if len(df_this) != 1: \n",
    "        print(f\"{len(df_this)} findings for {motors, chosen_source}\")\n",
    "        continue\n",
    "\n",
    "    row = df_this.iloc[0]\n",
    "    signals_f = row.signals_f # times x n_mics x frequencies\n",
    "    frequencies = row.frequencies\n",
    "    \n",
    "    mean_f = frequencies[bins_[1]] - frequencies[bins_[0]] \n",
    "    expected_period = SPEED_OF_SOUND / (2 * distance * 1e-2) # m/s / m = Hz\n",
    "\n",
    "    for mic_idx in mic_indices:\n",
    "        spec = np.sum(np.abs(signals_f[:, mic_idx, bins_]), axis=0) # times x frequencies\n",
    "        axs[0, mic_idx].plot(frequencies[bins_], spec, label=f'mic{mic_idx}', color=f'C{mic_idx}')\n",
    "        axs[0, mic_idx].set_title(f'm{mic_idx}')\n",
    "\n",
    "        spec_fft = np.fft.rfft(spec)[1:]\n",
    "        freqs = np.fft.rfftfreq(len(spec), mean_f)[1:] # \"seconds\"\n",
    "        axs[1, mic_idx].plot(1/freqs, np.abs(spec_fft), color=f'C{mic_idx}')\n",
    "        axs[1, mic_idx].axvline(expected_period, color=f'C{mic_idx}', ls=\":\") # cm\n",
    "\n",
    "    #axs[0, mic_idx].legend(loc='upper right')\n",
    "    #axs[0, mic_idx].set_xlim(0,50)\n",
    "    #axs[1, mic_idx].set_xlim(1e-1,50)\n",
    "    #axs[0, j].set_ylim(min(spec), max(spec))"
   ]
  },
  {
   "cell_type": "markdown",
   "metadata": {},
   "source": [
    "## Old analysis"
   ]
  },
  {
   "cell_type": "code",
   "execution_count": null,
   "metadata": {},
   "outputs": [],
   "source": [
    "#for deg in [0, 27, 54, 81]:\n",
    "    #df_total.loc[df_total.degree==deg, 'source'] = 'sweep'"
   ]
  },
  {
   "cell_type": "code",
   "execution_count": null,
   "metadata": {},
   "outputs": [],
   "source": [
    "n_mics = df_total.iloc[0].signals_f.shape[1]\n",
    "df_matrix_mics = np.empty((n_mics, len(frequencies), len(distances)))\n",
    "normalize = False\n",
    "\n",
    "if normalize:\n",
    "    psd_ref = df_total[df_total.distance==distances[-1]].iloc[0].psd\n",
    "\n",
    "for j, distance_cm in enumerate(distances):\n",
    "    row = df_total[df_total.distance==distance_cm].iloc[0]\n",
    "    for i in range(n_mics):\n",
    "        if normalize:\n",
    "            df_matrix_mics[i, :, j] = row.psd[i] / psd_ref[i]\n",
    "        else:\n",
    "            df_matrix_mics[i, :, j] = row.psd[i]"
   ]
  },
  {
   "cell_type": "code",
   "execution_count": null,
   "metadata": {},
   "outputs": [],
   "source": [
    "fig, axs = plt.subplots(1, n_mics)\n",
    "fig.set_size_inches(10, 5)\n",
    "for i in range(n_mics):\n",
    "    axs[i].pcolormesh(distances, frequencies, df_matrix_mics[i])"
   ]
  },
  {
   "cell_type": "code",
   "execution_count": null,
   "metadata": {
    "scrolled": false
   },
   "outputs": [],
   "source": [
    "from constants import SPEED_OF_SOUND\n",
    "mic_idx = 0\n",
    "for f_idx, slice_f in enumerate(np.arange(32)):\n",
    "    \n",
    "    fig, axs = plt.subplots(2, n_mics)\n",
    "    fig.set_size_inches(15, 5)\n",
    "    \n",
    "    f = frequencies[slice_f]\n",
    "    expected_period = SPEED_OF_SOUND / f * 1e2 / 2\n",
    "    \n",
    "    for mic_idx in range(n_mics):\n",
    "        distance_response = df_matrix_mics[mic_idx, slice_f, :]\n",
    "        axs[0, mic_idx].semilogy(distances, distance_response, label=f'{f:.0f}Hz')\n",
    "        axs[0, mic_idx].set_xlabel('distance [cm]')\n",
    "        axs[0, mic_idx].set_title(f'mic{mic_idx}')\n",
    "        axs[0, mic_idx].legend(loc='lower left')\n",
    "\n",
    "        distance_fft = np.fft.rfft(distance_response)[1:]\n",
    "        distance_freq = 1 / np.fft.rfftfreq(len(distances), 1)[1:] # cm \n",
    "        axs[1, mic_idx].loglog(distance_freq, np.abs(distance_fft))\n",
    "        axs[1, mic_idx].axvline(expected_period, ls=\":\")\n",
    "        axs[1, mic_idx].set_xlabel('period [cm]')\n",
    "    \n",
    "    axs[0, 0].set_ylabel('PSD')"
   ]
  },
  {
   "cell_type": "markdown",
   "metadata": {},
   "source": [
    "# Fixed angle analysis"
   ]
  },
  {
   "cell_type": "code",
   "execution_count": null,
   "metadata": {},
   "outputs": [],
   "source": [
    "try:\n",
    "    row = df_total[(df_total.distance==40) & (df_total.degree==0) & (df_total.source=='sweep')].iloc[0]\n",
    "    spec = np.sum(np.abs(row.signals_f), axis=1)\n",
    "\n",
    "    plt.figure()\n",
    "    times = np.arange(spec.shape[0])\n",
    "    plt.pcolormesh(times, frequencies, np.log10(spec.T))\n",
    "\n",
    "    psd = get_psd(row.signals_f, frequencies, ax=plt.gca(), fname='real')\n",
    "\n",
    "    plt.figure()\n",
    "    for i_mic in range(psd.shape[0]):\n",
    "        plt.semilogy(frequencies, np.abs(psd[i_mic, :]), label=f\"mic{i_mic}\")\n",
    "    plt.xlabel('frequency [Hz]')\n",
    "    plt.ylabel('PSD')\n",
    "    plt.title(f'degree {degree}, distance {distance}')\n",
    "except ValueError:\n",
    "    raise\n",
    "except:\n",
    "    print('did not find 90, 81, sweep in')\n",
    "    print(df_total.distance.unique())\n",
    "    print(df_total.degree.unique())\n",
    "    print(df_total.source.unique())"
   ]
  },
  {
   "cell_type": "code",
   "execution_count": null,
   "metadata": {
    "scrolled": false
   },
   "outputs": [],
   "source": [
    "degrees = [d for d in df_total.degree.unique() if d != 360][:2]\n",
    "distances = df_total.distance.unique()[:3]\n",
    "source = 'sweep'\n",
    "\n",
    "fig, axs = plt.subplots(len(distances), len(degrees), sharex=True, sharey=True)\n",
    "fig.set_size_inches(10, 10*axs.shape[0]/axs.shape[1])\n",
    "\n",
    "fig_psd, axs_psd = plt.subplots(len(distances), len(degrees), sharex=True, sharey=True)\n",
    "fig_psd.set_size_inches(10, 10*axs.shape[0]/axs.shape[1])\n",
    "for i, distance in enumerate(distances):\n",
    "    for j, degree in enumerate(degrees):\n",
    "        df_this = df_total.loc[(df_total.distance == distance)\n",
    "                               & (df_total.degree == degree)\n",
    "                               & (df_total.source == source)]\n",
    "        row = df_this.iloc[0]\n",
    "        spec = row.spec\n",
    "        psd = row.psd\n",
    "        if psd is None:\n",
    "            psd = get_psd(row.signals_f)\n",
    "        \n",
    "        axs[i, j].pcolormesh(range(spec.shape[0]), frequencies, np.log10(spec.T))\n",
    "        for i_mic in range(psd.shape[0]):\n",
    "            axs_psd[i, j].semilogy(frequencies, np.abs(psd[i_mic, :]), label=f\"mic{i_mic}\")\n",
    "        axs[0, j].set_title(f'{degree} deg')\n",
    "        axs_psd[0, j].set_title(f'{degree} deg')\n",
    "    axs[i, 0].set_ylabel(f'{distance} cm')\n",
    "    axs_psd[i, 0].set_ylabel(f'{distance} cm')\n",
    "    \n",
    "[axs[-1, j].set_xlabel(f'time idx') for j in range(len(degrees))]\n",
    "[axs_psd[-1, j].set_xlabel(f'frequency [Hz]') for j in range(len(degrees))]"
   ]
  },
  {
   "cell_type": "code",
   "execution_count": null,
   "metadata": {},
   "outputs": [],
   "source": [
    "from constants import SPEED_OF_SOUND\n",
    "\n",
    "distance_ref = 90\n",
    "distances = df_total.distance.unique()[:3]\n",
    "source = 'sweep'\n",
    "n_mics = df_ref.iloc[0].signals_f.shape[1]\n",
    "print('n_mics:', n_mics)\n",
    "    \n",
    "for degree in [0, 27, 54, 81][:2]:\n",
    "    \n",
    "    df_ref = df_total.loc[(df_total.distance == distance_ref)\n",
    "                           & (df_total.degree == degree)\n",
    "                           & (df_total.source == source)]\n",
    "\n",
    "    fig, axs = plt.subplots(1, n_mics, sharex=True, sharey=True)\n",
    "    fig.set_size_inches(15, 5)\n",
    "    \n",
    "    for mic in range(n_mics):\n",
    "        psd_ref = df_ref.iloc[0].psd[mic] \n",
    "        for i, distance in enumerate(distances):\n",
    "            df_this = df_total.loc[(df_total.distance == distance)\n",
    "                                   & (df_total.degree == degree)\n",
    "                                   & (df_total.source == source)]\n",
    "            axs[mic].semilogy(frequencies, df_this.iloc[0].psd[mic], label=distance, color=f\"C{i}\")\n",
    "            #axs[mic].semilogy(frequencies, df_this.iloc[0].psd[mic] / psd_ref, label=distance, color=f\"C{i}\")\n",
    "            #axs[mic].plot(frequencies, df_this.iloc[0].psd[mic] - psd_ref, label=distance, color=f\"C{i}\")\n",
    "\n",
    "        #axs[mic].set_xlim(min(frequencies), max(frequencies))\n",
    "        axs[mic].set_xlim(2000,  max(frequencies))\n",
    "        axs[mic].set_title(f\"mic{mic}\")\n",
    "    \n",
    "    fig.suptitle(degree)\n",
    "    axs[mic].legend()"
   ]
  },
  {
   "cell_type": "code",
   "execution_count": null,
   "metadata": {},
   "outputs": [],
   "source": [
    "#chosen_frequencies = frequencies[[10, 20, 30]]\n",
    "chosen_frequencies = frequencies[[30]]\n",
    "print(chosen_frequencies)\n",
    "\n",
    "distance_ref = 90\n",
    "mic = 0\n",
    "\n",
    "for degree in [0, 27, 54, 81][:2]:\n",
    "    distances = df_total.distance.unique()\n",
    "    source = 'sweep'\n",
    "\n",
    "    fig, ax = plt.subplots()\n",
    "    fig.set_size_inches(15, 5)\n",
    "    for i, distance in enumerate(distances):\n",
    "        df_this = df_total.loc[(df_total.distance == distance)\n",
    "                               & (df_total.degree == degree)\n",
    "                               & (df_total.source == source)]\n",
    "        row = df_this.iloc[0]\n",
    "        for f, freq in enumerate(chosen_frequencies):\n",
    "            chosen_idx = np.where(frequencies == freq)[0][0]\n",
    "            ax.scatter(distance, row.psd[mic, chosen_idx], color=f\"C{f}\")\n",
    "    ax.set_title(degree)\n",
    "    #ax.set_yscale('log')\n",
    "    ax.legend(chosen_frequencies)\n",
    "    ax.set_xlabel('distance [cm]')"
   ]
  },
  {
   "cell_type": "markdown",
   "metadata": {},
   "source": [
    "# Moving analysis"
   ]
  },
  {
   "cell_type": "code",
   "execution_count": null,
   "metadata": {
    "scrolled": false
   },
   "outputs": [],
   "source": [
    "#freq = 4125\n",
    "#source = 'None'\n",
    "source = 'mono4125'\n",
    "degree = 360\n",
    "\n",
    "distances = df_total.distance.unique()[:3]\n",
    "chosen_idx = np.where(frequencies == freq)[0][0]\n",
    "\n",
    "averages = []\n",
    "for i, distance in enumerate(distances):\n",
    "    fig, axs = plt.subplots(2)\n",
    "    fig.set_size_inches(15, 5)\n",
    "    \n",
    "    ax = axs[0]\n",
    "    df_this = df_total.loc[(df_total.distance == distance)\n",
    "                           & (df_total.degree == degree)]\n",
    "    df_this = df_this.loc[df_this.source == source]\n",
    "                           \n",
    "    signals_f = df_this.iloc[0].signals_f\n",
    "    yaw =  df_this.iloc[0].yaw\n",
    "    spec = df_this.iloc[0].spec\n",
    "\n",
    "    for j in range(signals_f.shape[1]):\n",
    "        ax.semilogy(range(signals_f.shape[0]), np.abs(signals_f[:, j, chosen_idx]), color=f\"C{j}\", label=f\"mic{j}\")\n",
    "\n",
    "    yaw[np.isnan(yaw)] = 0\n",
    "    axs[1].plot(range(signals_f.shape[0]), yaw)\n",
    "    for deg in -np.arange(1, 5)*90:\n",
    "        index = np.nanargmin(np.abs(yaw-deg))\n",
    "        axs[1].axvline(x=index, color='C1')\n",
    "        ax.axvline(x=index, color='C1')\n",
    "        \n",
    "    min_avg = 200\n",
    "    max_avg = 300\n",
    "    averages.append(np.sum(spec[min_avg:max_avg, chosen_idx], axis=0))\n",
    "        \n",
    "    ax.set_title(distance)\n",
    "    ax.set_ylim(0.05, 10)\n",
    "    ax.legend()\n",
    "    [ax.grid() for ax in axs]"
   ]
  },
  {
   "cell_type": "code",
   "execution_count": null,
   "metadata": {},
   "outputs": [],
   "source": [
    "plt.figure()\n",
    "plt.scatter(distances, averages)\n",
    "plt.xlabel('distance [cm]')\n",
    "plt.title(f'average PSD at {freq} Hz')"
   ]
  },
  {
   "cell_type": "code",
   "execution_count": null,
   "metadata": {},
   "outputs": [],
   "source": []
  }
 ],
 "metadata": {
  "kernelspec": {
   "display_name": "Python 3",
   "language": "python",
   "name": "python3"
  },
  "language_info": {
   "codemirror_mode": {
    "name": "ipython",
    "version": 3
   },
   "file_extension": ".py",
   "mimetype": "text/x-python",
   "name": "python",
   "nbconvert_exporter": "python",
   "pygments_lexer": "ipython3",
   "version": "3.6.9"
  },
  "toc": {
   "base_numbering": 1,
   "nav_menu": {},
   "number_sections": false,
   "sideBar": true,
   "skip_h1_title": false,
   "title_cell": "Table of Contents",
   "title_sidebar": "Contents",
   "toc_cell": false,
   "toc_position": {
    "height": "calc(100% - 180px)",
    "left": "10px",
    "top": "150px",
    "width": "282.883px"
   },
   "toc_section_display": true,
   "toc_window_display": false
  }
 },
 "nbformat": 4,
 "nbformat_minor": 4
}
