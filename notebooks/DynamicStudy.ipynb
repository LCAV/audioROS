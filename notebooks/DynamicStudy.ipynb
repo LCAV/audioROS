{
 "cells": [
  {
   "cell_type": "code",
   "execution_count": null,
   "metadata": {},
   "outputs": [],
   "source": [
    "from copy import deepcopy\n",
    "import math\n",
    "import sys\n",
    "\n",
    "import matplotlib.pylab as plt\n",
    "import numpy as np\n",
    "\n",
    "%reload_ext autoreload\n",
    "%autoreload 2\n",
    "\n",
    "%matplotlib inline\n",
    "#%matplotlib notebook\n",
    "\n",
    "sys.path.append('../crazyflie-audio/python/')"
   ]
  },
  {
   "cell_type": "code",
   "execution_count": null,
   "metadata": {},
   "outputs": [],
   "source": [
    "from generate_results import *\n",
    "\n",
    "def plot_spectrum(spectrum, degree=0):\n",
    "    plt.figure()\n",
    "    if spectrum.shape[0] == 1:\n",
    "        plt.plot(angles, np.log10(spectrum[0]))\n",
    "        plt.ylabel('spectrum [-]')\n",
    "    else:\n",
    "        plt.pcolormesh(angles, frequencies, np.log10(spectrum))\n",
    "        plt.ylabel('frequency [Hz]')\n",
    "    plt.axvline(degree, color='red')\n",
    "    plt.xlabel('angle [deg]')"
   ]
  },
  {
   "cell_type": "markdown",
   "metadata": {},
   "source": [
    "# 1. Geometrical setup"
   ]
  },
  {
   "cell_type": "code",
   "execution_count": null,
   "metadata": {},
   "outputs": [],
   "source": [
    "from mic_array import get_square_array, get_uniform_array\n",
    "\n",
    "baseline = 0.108  # meters, square side of mic array\n",
    "gt_distance = 10  # meters, distance of source\n",
    "gt_angle_deg = 90 # angle of ground truth\n",
    "\n",
    "#mics_drone = get_square_array(baseline=baseline, delta=0) # 4 x 2\n",
    "mics_drone = get_uniform_array(2, baseline=baseline) # 4 x 2\n",
    "mics_drone -= np.mean(mics_drone, axis=0) # center the drone\n",
    "\n",
    "gt_angle_rad = gt_angle_deg * np.pi / 180.0\n",
    "source = gt_distance * np.array([np.cos(gt_angle_rad), np.sin(gt_angle_rad)])\n",
    "\n",
    "plt.figure()\n",
    "plt.scatter(*mics_drone.T)\n",
    "plt.scatter(*source)\n",
    "plt.axis('equal')\n",
    "\n",
    "plt.figure()\n",
    "plt.scatter(*mics_drone.T)\n",
    "plt.axis('equal')\n",
    "pass"
   ]
  },
  {
   "cell_type": "code",
   "execution_count": null,
   "metadata": {},
   "outputs": [],
   "source": [
    "### parameters\n",
    "n_buffer = 2048\n",
    "angular_velocity_deg = 20 # deg/sec, velocity of drone\n",
    "time_index = 1000 # idx where signal is non-zero for all positions, found heuristically\n",
    "degrees = np.array([0, 20, 45], dtype=np.float) # orientations\n",
    "frequency_desired = 600 # Hz\n",
    "\n",
    "signal_noise = 1e-3  # noise added to signals\n",
    "mics_noise = 1e-3  # noise added to mic positions (rigid)\n",
    "degree_noise = 5 # noise added to each degree position, in degrees\n",
    "time_quantization = 6 # number of decimal places to keep\n",
    "time_noise = 1e-6 # noise added to recording times"
   ]
  },
  {
   "cell_type": "markdown",
   "metadata": {},
   "source": [
    "# 2. Simulate signals at mics"
   ]
  },
  {
   "cell_type": "code",
   "execution_count": null,
   "metadata": {},
   "outputs": [],
   "source": [
    "from audio_stack.beam_former import rotate_mics\n",
    "\n",
    "np.random.seed(1)\n",
    "\n",
    "frequencies = np.fft.rfftfreq(n_buffer, 1/FS)\n",
    "indices = [np.argmin(np.abs(frequencies - frequency_desired))]\n",
    "frequency_hz = frequencies[indices]\n",
    "#signal_type = \"random\"; frequency_hz = None; \n",
    "print('chosen frequency:', frequency_hz)\n",
    "\n",
    "if angular_velocity_deg != 0:\n",
    "    times_list = (degrees-degrees[0])/angular_velocity_deg \n",
    "else:\n",
    "    times_list = np.zeros(len(degrees))\n",
    "print('recording times in seconds:', times_list)\n",
    "\n",
    "assert DURATION > max(times_list)\n",
    "\n",
    "# create noisy versions\n",
    "mics_drone_noisy = deepcopy(mics_drone)\n",
    "times_list_noisy = deepcopy(times_list)\n",
    "degrees_noisy = deepcopy(degrees)\n",
    "if mics_noise > 0:\n",
    "    mics_drone_noisy += np.random.normal(scale=mics_noise, size=mics_drone.shape)\n",
    "if time_noise > 0:\n",
    "    times_list_noisy += np.random.normal(scale=time_noise, size=times_list.shape)\n",
    "if time_quantization > 0:\n",
    "    times_list_noisy = np.round(times_list_noisy, time_quantization)\n",
    "if degree_noise > 0:\n",
    "    degrees_noisy += np.random.normal(scale=degree_noise, size=degrees.shape)\n",
    "\n",
    "# we think we move to \"degrees\" position but we actually move to degrees_noisy.\n",
    "mics_list = [rotate_mics(mics_drone_noisy, orientation_deg=degree) for degree in degrees_noisy]\n",
    "\n",
    "plt.figure()\n",
    "counter = 0\n",
    "for degree, mics in zip(degrees, mics_list):\n",
    "    for j in range(mics.shape[0]):\n",
    "        plt.scatter(*mics[j], label=f'real {degree:.0f}, mic{j}', color=f\"C{counter}\")\n",
    "        counter += 1\n",
    "        \n",
    "counter = 0\n",
    "mics_clean = [rotate_mics(mics_drone, orientation_deg=degree) for degree in degrees]\n",
    "for degree, mics in zip(degrees, mics_clean):\n",
    "    for j in range(mics.shape[0]):\n",
    "        plt.scatter(*mics[j], label=f'theo {degree:.0f}, mic{j}', color=f\"C{counter}\", marker=\"x\")\n",
    "        counter += 1\n",
    "plt.axis('equal')\n",
    "plt.legend(bbox_to_anchor=[1, 1], loc='upper left')\n",
    "pass"
   ]
  },
  {
   "cell_type": "markdown",
   "metadata": {},
   "source": [
    "# sanity check of signal creation"
   ]
  },
  {
   "cell_type": "code",
   "execution_count": null,
   "metadata": {
    "scrolled": false
   },
   "outputs": [],
   "source": [
    "from signals import generate_signal, amplify_signal\n",
    "source_signal = generate_signal(FS, \n",
    "                                signal_type=\"mono\", \n",
    "                                duration_sec=DURATION, \n",
    "                                frequency_hz=frequency_hz, \n",
    "                                noise=signal_noise)\n",
    "source_signal = amplify_signal(source_signal, target_dB=0)\n",
    "\n",
    "fig, ax = plt.subplots()\n",
    "for mic in mics_drone:\n",
    "    ax.scatter(*mic)\n",
    "ax.scatter(*source)\n",
    "ax.axis('equal')\n",
    "    \n",
    "fig, ax = plt.subplots()\n",
    "generate_signals_pyroom(source, source_signal, mics_list[-1].T, time=1.0, noise=0, ax=ax)\n",
    "ax.set_title('pyroom')\n",
    "ax.set_xlim(800, 2000)\n",
    "\n",
    "fig, ax = plt.subplots()\n",
    "generate_signals(source, gt_angle_rad, mics_list[-1], frequency_hz, time=1.0, noise=0, ax=ax)\n",
    "ax.set_title('ours')\n",
    "ax.set_xlim(800, 2000)"
   ]
  },
  {
   "cell_type": "markdown",
   "metadata": {},
   "source": [
    "# generate signals"
   ]
  },
  {
   "cell_type": "code",
   "execution_count": null,
   "metadata": {
    "scrolled": false
   },
   "outputs": [],
   "source": [
    "signals_list = []\n",
    "\n",
    "for mics, time in zip(mics_list, times_list):\n",
    "    fig, ax = plt.subplots()\n",
    "    signals_received =  generate_signals(source, gt_angle_rad, mics, frequency_hz, time, noise=signal_noise, ax=ax) \n",
    "    #signals_received = generate_signals_pyroom(source, source_signal, mics.T, time, noise=signal_noise, ax=ax)\n",
    "    ax.set_xlim(800, 1400)\n",
    "    ax.legend([f\"mic{i}\" for i in range(mics.shape[0])])\n",
    "    ax.set_title(f'signals at time {time:.3f}')\n",
    "    \n",
    "    signals_list.append(signals_received)\n",
    "buffers = [signals_this[:, time_index:time_index + n_buffer] for signals_this in signals_list] "
   ]
  },
  {
   "cell_type": "markdown",
   "metadata": {},
   "source": [
    "# 3. Create \"real\" multi-mic array"
   ]
  },
  {
   "cell_type": "code",
   "execution_count": null,
   "metadata": {},
   "outputs": [],
   "source": [
    "mics_array = np.concatenate([*mics_list])\n",
    "signals_multimic = generate_signals(source, gt_angle_rad, mics_array, frequency_hz, time=0, noise=signal_noise)\n",
    "#signals_multimic = generate_signals_pyroom(source, source_signal, mics_array.T, time=0, noise=signal_noise)\n",
    "buffer_multimic = signals_multimic[:, time_index:time_index + n_buffer]\n",
    "\n",
    "fig, axs = plt.subplots(buffer_multimic.shape[0], sharex=True)\n",
    "for i in range(buffer_multimic.shape[0]): # n_mics\n",
    "    label=f\"mic{i}\"\n",
    "    axs[i].plot(np.arange(buffer_multimic.shape[1])/FS, buffer_multimic[i], label=label)\n",
    "    axs[i].set_title(label)\n",
    "    axs[i].set_xlim(0, 0.002)\n",
    "plt.suptitle('multi-mic signals')"
   ]
  },
  {
   "cell_type": "code",
   "execution_count": null,
   "metadata": {},
   "outputs": [],
   "source": [
    "fig, axs = plt.subplots(buffer_multimic.shape[0], sharex=True)\n",
    "counter = 0\n",
    "for j, (degree, buffer, time) in enumerate(zip(degrees, buffers, times_list_noisy)):\n",
    "    for i in range(buffer.shape[0]): # n_mics\n",
    "        phase_shift = from_0_to_2pi(- 2 * np.pi * time * frequency_hz) * 180 / np.pi\n",
    "        time_shift = phase_shift / (360 * frequency_hz)\n",
    "        print(\"phase shift in degrees\", phase_shift)\n",
    "        print(\"phase shift in time\", time_shift)\n",
    "        label = f\"rot {degree} time {time:.3f} mic{i}\"\n",
    "        axs[counter].axvline(time_shift)\n",
    "        axs[counter].plot(np.arange(buffer.shape[1])/FS, buffer[i], label=label)\n",
    "        axs[counter].set_title(label)\n",
    "        axs[counter].set_xlim(0, 0.002)\n",
    "        counter += 1\n",
    "plt.suptitle('recorded signals without delay correction')"
   ]
  },
  {
   "cell_type": "markdown",
   "metadata": {},
   "source": [
    "# 4. DOA estimation"
   ]
  },
  {
   "cell_type": "markdown",
   "metadata": {},
   "source": [
    "# \"real\" spectrum"
   ]
  },
  {
   "cell_type": "code",
   "execution_count": null,
   "metadata": {},
   "outputs": [],
   "source": [
    "from audio_stack.beam_former import BeamFormer\n",
    "\n",
    "mics_array_theoretical = np.concatenate([*mics_clean])\n",
    "beam_former = BeamFormer(mic_positions=mics_array_theoretical)\n",
    "print(mics_drone)\n",
    "angles = beam_former.theta_scan * 180 / np.pi\n",
    "\n",
    "signals_f_multimic = (np.fft.rfft(buffer_multimic).T)[indices, :]\n",
    "\n",
    "if len(frequencies) > len(indices):\n",
    "    frequencies = frequencies[indices]\n",
    "\n",
    "R_multimic = beam_former.get_correlation(signals_f_multimic)\n",
    "spectrum_multimic = beam_former.get_mvdr_spectrum(R_multimic, frequencies)\n",
    "plot_spectrum(spectrum_multimic, degree=gt_angle_deg)"
   ]
  },
  {
   "cell_type": "markdown",
   "metadata": {},
   "source": [
    "# combine spectra"
   ]
  },
  {
   "cell_type": "code",
   "execution_count": null,
   "metadata": {},
   "outputs": [],
   "source": [
    "beam_former = BeamFormer(mic_positions=mics_drone)\n",
    "\n",
    "# calculate individual spectra for each pose\n",
    "signals_f_list = [np.fft.rfft(buffer).T for buffer in buffers] # n_frequences x 4\n",
    "signals_f_list = [sig_f[indices, :] for sig_f in signals_f_list]\n",
    "    \n",
    "Rs = [beam_former.get_correlation(sig_f) for sig_f in signals_f_list]\n",
    "#spectra = [beam_former.get_das_spectrum(R, frequencies) for R in Rs]\n",
    "spectra = [beam_former.get_mvdr_spectrum(R, frequencies) for R in Rs]\n",
    "\n",
    "# combine the individual spectra, accounting for the orientation of the drone\n",
    "#COMBINATION_METHOD = \"sum\"\n",
    "NORMALIZATION_METHOD = \"none\"\n",
    "#NORMALIZATION_METHOD = \"sum_to_one\"\n",
    "#NORMALIZATION_METHOD = \"zero_to_one\"\n",
    "COMBINATION_METHOD = \"product\"\n",
    "beam_former.init_dynamic_estimate(combination_n=len(degrees), \n",
    "                                  combination_method=COMBINATION_METHOD, \n",
    "                                  normalization_method=NORMALIZATION_METHOD)\n",
    "for spectrum, degree in zip(spectra, degrees):\n",
    "    print(degree)\n",
    "    beam_former.add_to_dynamic_estimates(spectrum, degree)\n",
    "\n",
    "spectrum_combined = beam_former.get_dynamic_estimate()"
   ]
  },
  {
   "cell_type": "code",
   "execution_count": null,
   "metadata": {},
   "outputs": [],
   "source": [
    "for spectrum, degree in zip(spectra, degrees):\n",
    "    plot_spectrum(spectrum, from_0_to_360(gt_angle_deg - degree))\n",
    "    plt.title(f'rot {degree}')\n",
    "\n",
    "plot_spectrum(spectrum_combined, gt_angle_deg)\n",
    "plt.title(f'combined spectra')\n",
    "pass"
   ]
  },
  {
   "cell_type": "code",
   "execution_count": null,
   "metadata": {},
   "outputs": [],
   "source": [
    "# signals with delay correction\n",
    "\n",
    "beam_former = BeamFormer(mic_positions=mics_drone)\n",
    "beam_former.init_multi_estimate(frequencies)\n",
    "\n",
    "signals_f_list_delayed = []\n",
    "for i, (sig_f, time) in enumerate(zip(signals_f_list, times_list_noisy)):\n",
    "    exp_factor = np.exp(1j * 2 * np.pi * frequencies * time)\n",
    "    print('phase difference in degrees:', from_0_to_2pi(np.angle(exp_factor))*180/np.pi)\n",
    "    signals_f_delayed = np.multiply(sig_f, exp_factor[:, np.newaxis])  # frequencies x n_mics\n",
    "    signals_f_list_delayed.append(signals_f_delayed)\n",
    "    \n",
    "    beam_former.add_to_multi_estimate(sig_f, frequencies, time, degrees[i])\n",
    "    \n",
    "for sig_f, signals_f_delayed, time in zip(signals_f_list, signals_f_list_delayed, times_list):\n",
    "    print(f'original phases (time={time:.3f}):', from_0_to_2pi(np.angle(sig_f)))\n",
    "    print(f'corrected phases(time={time:.3f}):', from_0_to_2pi(np.angle(signals_f_delayed)))\n",
    "    \n",
    "print('multi-mic:', from_0_to_2pi(np.angle(signals_f_multimic)))"
   ]
  },
  {
   "cell_type": "markdown",
   "metadata": {},
   "source": [
    "# combine raw signals"
   ]
  },
  {
   "cell_type": "code",
   "execution_count": null,
   "metadata": {},
   "outputs": [],
   "source": [
    "from algos_basics import get_mic_delays\n",
    "\n",
    "beam_former_test = BeamFormer(mic_positions=mics_array_theoretical)\n",
    "\n",
    "signals_f_tot_delay = np.empty((len(frequencies), 0))\n",
    "signals_f_tot_zero = np.empty((len(frequencies), 0))\n",
    "\n",
    "for i, (sig_f, signals_f_delayed) in enumerate(zip(signals_f_list, signals_f_list_delayed)):\n",
    "    signals_f_tot_delay = np.c_[signals_f_tot_delay, signals_f_delayed]\n",
    "    # for testing purposes, we also look at the spectra without compensating\n",
    "    # for the delays.\n",
    "    signals_f_tot_zero = np.c_[signals_f_tot_zero, sig_f]\n",
    "    \n",
    "Rtot_zero = beam_former_test.get_correlation(signals_f_tot_zero)\n",
    "spectrum_raw_zero = beam_former_test.get_mvdr_spectrum(Rtot_zero, frequencies)\n",
    "\n",
    "Rtot_delay = beam_former_test.get_correlation(signals_f_tot_delay)\n",
    "\n",
    "spectrum_raw = beam_former_test.get_mvdr_spectrum(Rtot_delay, frequencies)\n",
    "\n",
    "spectrum_raw_bf = beam_former.get_multi_estimate()\n",
    "\n",
    "np.testing.assert_allclose(spectrum_raw_bf, spectrum_raw)\n",
    "\n",
    "plot_spectrum(spectrum_raw_bf, degree=gt_angle_deg)\n",
    "plt.title('combined raw with correct delay')\n",
    "\n",
    "plot_spectrum(spectrum_raw, degree=gt_angle_deg)\n",
    "plt.title('testing: combined raw with correct delay')\n",
    "\n",
    "plot_spectrum(spectrum_raw_zero, degree=gt_angle_deg)\n",
    "plt.title('testing: combined raw with zero delay')\n",
    "pass"
   ]
  },
  {
   "cell_type": "markdown",
   "metadata": {},
   "source": [
    "# compare results"
   ]
  },
  {
   "cell_type": "code",
   "execution_count": null,
   "metadata": {},
   "outputs": [],
   "source": [
    "for i, freq in enumerate(frequencies):\n",
    "    plt.figure()\n",
    "    plt.semilogy(angles, spectrum_combined[i], label='combined')\n",
    "    plt.semilogy(angles, spectrum_raw[i], label='correct delay')\n",
    "    plt.semilogy(angles, spectrum_raw_zero[i], label='zero delay', ls=':')\n",
    "    plt.semilogy(angles, spectrum_multimic[i], label='multi-mic', ls=':')\n",
    "    plt.axvline(gt_angle_deg, color='black', ls=':')\n",
    "    plt.legend(loc='lower right')\n",
    "    plt.title(f'frequency {freq:.2f}Hz')\n",
    "    plt.xlabel('angle [deg]')\n",
    "    plt.ylabel('spectrum [-]')"
   ]
  },
  {
   "cell_type": "markdown",
   "metadata": {},
   "source": [
    "# Full pipeline"
   ]
  },
  {
   "cell_type": "code",
   "execution_count": null,
   "metadata": {
    "scrolled": false
   },
   "outputs": [],
   "source": [
    "import pandas as pd\n",
    "\n",
    "#fname = 'first_test.pkl' # linear array\n",
    "fname = 'square_test.pkl' # square array\n",
    "df = pd.read_pickle(fname)\n",
    "freq_i = 0\n",
    "\n",
    "label_list = ['spectrum_combined', 'spectrum_raw', 'spectrum_multimic']\n",
    "\n",
    "n_degree_noise = len(df.degree_noise.unique())\n",
    "n_it = len(df.it.unique())\n",
    "boxplot_mat = np.empty((len(label_list), n_it, n_degree_noise)) # each slice will be one boxplot\n",
    "\n",
    "for d, (degree_noise, df_degree_noise) in enumerate(df.groupby('degree_noise')):\n",
    "    fig, axs = plt.subplots(1, len(label_list), sharey=True, sharex=True)\n",
    "    fig.set_size_inches(10, 3)\n",
    "    for counter, (__, row) in enumerate(df_degree_noise.iterrows()):\n",
    "        for l, label in enumerate(label_list):\n",
    "            if counter <= 3:\n",
    "                axs[l].semilogy(angles, row[label][freq_i])\n",
    "                \n",
    "            unwrap_angles = np.array([angles[np.argmax(row[label][freq_i])], gt_angle_deg]) / 180 * np.pi\n",
    "            unwrap_angles = np.unwrap(unwrap_angles)\n",
    "            error = abs(unwrap_angles[1] - unwrap_angles[0])*180/np.pi\n",
    "            \n",
    "            boxplot_mat[l, counter, d] = error\n",
    "        \n",
    "    for label, ax in zip(label_list, axs):\n",
    "        ax.axvline(gt_angle_deg, color='black', ls=':')\n",
    "        ax.set_title(f'degree noise {degree_noise}')\n",
    "        ax.set_xlabel('angle [deg]')\n",
    "        ax.set_ylabel('spectrum [-]')\n",
    "        ax.set_title(label)"
   ]
  },
  {
   "cell_type": "code",
   "execution_count": null,
   "metadata": {},
   "outputs": [],
   "source": [
    "fig_box, ax_box = plt.subplots(1, len(label_list), sharex=True, sharey=True)\n",
    "fig_box.set_size_inches(10, 5)\n",
    "for l, label in enumerate(label_list):\n",
    "    ax_box[l].boxplot(boxplot_mat[l], positions=df.degree_noise.unique(), widths=1.0)\n",
    "    ax_box[l].set_title(label)"
   ]
  },
  {
   "cell_type": "code",
   "execution_count": null,
   "metadata": {},
   "outputs": [],
   "source": []
  }
 ],
 "metadata": {
  "kernelspec": {
   "display_name": "Python 3",
   "language": "python",
   "name": "python3"
  },
  "language_info": {
   "codemirror_mode": {
    "name": "ipython",
    "version": 3
   },
   "file_extension": ".py",
   "mimetype": "text/x-python",
   "name": "python",
   "nbconvert_exporter": "python",
   "pygments_lexer": "ipython3",
   "version": "3.6.9"
  }
 },
 "nbformat": 4,
 "nbformat_minor": 4
}
