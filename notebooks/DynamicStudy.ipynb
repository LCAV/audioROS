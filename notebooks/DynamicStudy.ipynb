{
 "cells": [
  {
   "cell_type": "code",
   "execution_count": null,
   "metadata": {},
   "outputs": [],
   "source": [
    "from copy import deepcopy\n",
    "import math\n",
    "import sys\n",
    "\n",
    "import matplotlib.pylab as plt\n",
    "import numpy as np\n",
    "\n",
    "%reload_ext autoreload\n",
    "%autoreload 2\n",
    "\n",
    "%matplotlib inline\n",
    "#%matplotlib notebook\n",
    "\n",
    "sys.path.append('../crazyflie-audio/python/')"
   ]
  },
  {
   "cell_type": "code",
   "execution_count": null,
   "metadata": {},
   "outputs": [],
   "source": [
    "from generate_results import *\n",
    "\n",
    "def plot_spectrum(spectrum, degree=0):\n",
    "    plt.figure()\n",
    "    if spectrum.shape[0] == 1:\n",
    "        plt.plot(angles, np.log10(spectrum[0]))\n",
    "        plt.ylabel('spectrum [-]')\n",
    "    else:\n",
    "        plt.pcolormesh(angles, frequencies, np.log10(spectrum))\n",
    "        plt.ylabel('frequency [Hz]')\n",
    "    plt.axvline(degree, color='red')\n",
    "    plt.xlabel('angle [deg]')"
   ]
  },
  {
   "cell_type": "markdown",
   "metadata": {},
   "source": [
    "# 1. Geometrical setup"
   ]
  },
  {
   "cell_type": "code",
   "execution_count": null,
   "metadata": {},
   "outputs": [],
   "source": [
    "from mic_array import get_square_array, get_uniform_array\n",
    "\n",
    "baseline = 0.108  # meters, square side of mic array\n",
    "gt_distance = 10  # meters, distance of source\n",
    "gt_angle_deg = 50 # angle of ground truth\n",
    "\n",
    "#mics_drone = get_square_array(baseline=baseline, delta=0) # 4 x 2\n",
    "mics_drone = get_uniform_array(2, baseline=baseline) # 4 x 2\n",
    "mics_drone -= np.mean(mics_drone, axis=0) # center the drone\n",
    "\n",
    "gt_angle_rad = gt_angle_deg * np.pi / 180.0\n",
    "source = gt_distance * np.array([np.cos(gt_angle_rad), np.sin(gt_angle_rad)])\n",
    "\n",
    "plt.figure()\n",
    "plt.scatter(*mics_drone.T)\n",
    "plt.scatter(*source)\n",
    "plt.axis('equal')\n",
    "pass"
   ]
  },
  {
   "cell_type": "code",
   "execution_count": null,
   "metadata": {},
   "outputs": [],
   "source": [
    "### parameters\n",
    "n_buffer = 2048\n",
    "time_index = 2000 # idx where signal is non-zero for all positions, found heuristically\n",
    "angular_velocity_deg = 20 # deg/sec, velocity of drone\n",
    "times_list = np.array([0, 1, 1.5], dtype=np.float) # in seconds\n",
    "frequency_hz = 4134.375 # Hz\n",
    "\n",
    "# make sure times are not a multiple of period.\n",
    "period = 1/frequency_hz\n",
    "times_list[1:] += period/2\n",
    "\n",
    "signal_noise = 1e-3  # noise added to signals\n",
    "mics_noise = 0 #1e-3  # noise added to mic positions (rigid)\n",
    "degree_noise = 0 #5 # noise added to each degree position, in degrees\n",
    "time_quantization = 10 #6 # number of decimal places to keep\n",
    "time_noise = 0 #1e-6 # noise added to recording times\n",
    "\n",
    "frequencies = np.fft.rfftfreq(n_buffer, 1/FS)\n",
    "if frequency_hz not in frequencies:\n",
    "    raise ValueError(f'frequency_hz not in available frequency bins: {list(frequencies)}')"
   ]
  },
  {
   "cell_type": "markdown",
   "metadata": {},
   "source": [
    "# 2. Simulate signals at mics"
   ]
  },
  {
   "cell_type": "code",
   "execution_count": null,
   "metadata": {},
   "outputs": [],
   "source": [
    "from audio_stack.beam_former import rotate_mics\n",
    "\n",
    "np.random.seed(1)\n",
    "\n",
    "degrees = times_list * angular_velocity_deg\n",
    "print('degrees:', degrees)\n",
    "print('recording times in seconds:', times_list)\n",
    "\n",
    "assert DURATION > max(times_list)\n",
    "\n",
    "# create noisy versions\n",
    "mics_drone_noisy = deepcopy(mics_drone)\n",
    "times_list_noisy = deepcopy(times_list)\n",
    "degrees_noisy = deepcopy(degrees)\n",
    "if mics_noise > 0:\n",
    "    mics_drone_noisy += np.random.normal(scale=mics_noise, size=mics_drone.shape)\n",
    "if time_noise > 0:\n",
    "    times_list_noisy += np.random.normal(scale=time_noise, size=times_list.shape)\n",
    "if time_quantization > 0:\n",
    "    times_list_noisy = np.round(times_list_noisy, time_quantization)\n",
    "if degree_noise > 0:\n",
    "    degrees_noisy += np.random.normal(scale=degree_noise, size=degrees.shape)\n",
    "\n",
    "# we think we move to \"degrees\" position but we actually move to degrees_noisy.\n",
    "mics_list = [rotate_mics(mics_drone_noisy, orientation_deg=degree) for degree in degrees_noisy]\n",
    "\n",
    "plt.figure()\n",
    "counter = 0\n",
    "for degree, mics in zip(degrees, mics_list):\n",
    "    for j in range(mics.shape[0]):\n",
    "        plt.scatter(*mics[j], label=f'real {degree:.0f}, mic{j}', color=f\"C{counter}\")\n",
    "        counter += 1\n",
    "        \n",
    "counter = 0\n",
    "mics_clean = [rotate_mics(mics_drone, orientation_deg=degree) for degree in degrees]\n",
    "for degree, mics in zip(degrees, mics_clean):\n",
    "    for j in range(mics.shape[0]):\n",
    "        plt.scatter(*mics[j], label=f'theo {degree:.0f}, mic{j}', color=f\"C{counter}\", marker=\"x\")\n",
    "        counter += 1\n",
    "plt.axis('equal')\n",
    "plt.legend(bbox_to_anchor=[1, 1], loc='upper left')\n",
    "pass"
   ]
  },
  {
   "cell_type": "markdown",
   "metadata": {},
   "source": [
    "# generate signals"
   ]
  },
  {
   "cell_type": "code",
   "execution_count": null,
   "metadata": {
    "scrolled": false
   },
   "outputs": [],
   "source": [
    "from generate_results import generate_signals_analytical\n",
    "\n",
    "buffer_list = []\n",
    "for mics, time in zip(mics_list, times_list):\n",
    "    fig, ax = plt.subplots()\n",
    "    signals_received =  generate_signals_analytical(\n",
    "        source, gt_angle_rad, mics, frequency_hz, time, noise=signal_noise, ax=ax) \n",
    "    ax.set_xlim(1300, 1400) \n",
    "    ax.legend([f\"mic{i}\" for i in range(mics.shape[0])])\n",
    "    ax.set_title(f'signals at time {time:.3f}')\n",
    "    \n",
    "    buffers = signals_received[:, time_index:time_index + n_buffer]\n",
    "    buffer_list.append(buffers)\n",
    "    fig, axs = plt.subplots(signals_received.shape[0])\n",
    "    n_plot = 50\n",
    "    fig.suptitle(f'first {n_plot} samples of received buffers')\n",
    "    for i, ax in enumerate(axs):\n",
    "        ax.plot(buffers[i, :n_plot], color=f'C{i}')"
   ]
  },
  {
   "cell_type": "code",
   "execution_count": null,
   "metadata": {},
   "outputs": [],
   "source": [
    "from audio_stack.beam_former import BeamFormer\n",
    "\n",
    "indices = np.where(frequencies == frequency_hz)[0]\n",
    "for buffer, mics in zip(buffer_list, mics_list) :\n",
    "    beam_former = BeamFormer(mic_positions=mics)\n",
    "    \n",
    "    buffer_f = (np.fft.rfft(buffer).T)[indices, :]\n",
    "    \n",
    "    R = beam_former.get_correlation(buffer_f)\n",
    "    spectrum = beam_former.get_das_spectrum(R, np.array([frequency_hz]))\n",
    "    #spectrum = beam_former.get_mvdr_spectrum(R, np.array([frequency_hz]))\n",
    "    \n",
    "    plt.figure()\n",
    "    plt.matshow(np.angle(R[0]))\n",
    "    plt.colorbar()\n",
    "    \n",
    "    #plt.figure()\n",
    "    #plt.plot(BeamFormer.theta_scan_deg, spectrum[0, :])\n",
    "    \n",
    "    plt.figure()\n",
    "    plt.polar(BeamFormer.theta_scan, spectrum[0, :])"
   ]
  },
  {
   "cell_type": "markdown",
   "metadata": {},
   "source": [
    "# 3. Create \"real\" multi-mic array"
   ]
  },
  {
   "cell_type": "code",
   "execution_count": null,
   "metadata": {
    "scrolled": false
   },
   "outputs": [],
   "source": [
    "mics_array = np.concatenate([*mics_list])\n",
    "signals_multimic = generate_signals_analytical(source, gt_angle_rad, mics_array, frequency_hz, time=0, noise=signal_noise)\n",
    "#signals_multimic = generate_signals_pyroom(source, source_signal, mics_array.T, time=0, noise=signal_noise)\n",
    "buffer_multimic = signals_multimic[:, time_index:time_index + n_buffer]\n",
    "\n",
    "times = np.arange(n_plot) / FS\n",
    "\n",
    "fig, axs = plt.subplots(buffer_multimic.shape[0], 2, sharex=True)\n",
    "fig.set_size_inches(10, 10)\n",
    "for i in range(buffer_multimic.shape[0]): # n_mics\n",
    "    label=f\"mic{i}\"\n",
    "    axs[i, 0].plot(times, buffer_multimic[i, :n_plot], label=label, color=f\"C{i}\")\n",
    "    axs[i, 0].set_title(label)\n",
    "    \n",
    "buffer_f_multimic = np.fft.rfft(buffer_multimic)[:, indices]\n",
    "beam_former = BeamFormer(mics_array)\n",
    "R_multimic = beam_former.get_correlation(buffer_f_multimic.T)\n",
    "spectrum_multimic = beam_former.get_das_spectrum(R_multimic, [frequency_hz])\n",
    "\n",
    "plt.figure()\n",
    "plt.polar(BeamFormer.theta_scan, spectrum_multimic[0, :])\n",
    "\n",
    "plt.figure()\n",
    "plt.matshow(np.angle(R_multimic[0]))\n",
    "    \n",
    "counter = 0\n",
    "period = 1.0/frequency_hz\n",
    "delta_t =  times_list[1] - times_list[0]\n",
    "print(f'period of signal {period:.2e}')\n",
    "print('time shift:', delta_t)\n",
    "print(f'delta_t % period: {delta_t % period :.2e}')\n",
    "\n",
    "buffer_f_list = []\n",
    "buffer_f_delayed = np.zeros(buffer_f_multimic.shape, dtype=np.complex)\n",
    "for j, (degree, buffer, time) in enumerate(zip(degrees, buffer_list, times_list_noisy)):\n",
    "    \n",
    "    buffer_f = np.empty((buffer.shape[0], 1), dtype=np.complex)\n",
    "    \n",
    "    for i in range(buffer.shape[0]): # n_mics\n",
    "        label=f\"mic{counter}\"\n",
    "        phase_shift_deg = from_0_to_2pi(-2 * np.pi * time * frequency_hz) * 180 / np.pi\n",
    "        time_shift = period * phase_shift_deg / 360\n",
    "        \n",
    "        axs[counter, 1].axvline(time_shift)\n",
    "        axs[counter, 1].plot(times, buffer[i, :n_plot], color=f\"C{counter}\")\n",
    "        axs[counter, 1].set_title(label)\n",
    "        \n",
    "        buffer_f[i, :] = np.fft.rfft(buffer[i])[indices]\n",
    "        exp_delay = np.exp(-2j * np.pi * time * frequency_hz)\n",
    "        buffer_f_delayed[counter] = exp_delay * buffer_f[i, :]\n",
    "        counter += 1\n",
    "        \n",
    "    buffer_f_list.append(buffer_f)\n",
    "        \n",
    "beam_former = BeamFormer(mics_array)\n",
    "R_delayed = beam_former.get_correlation(buffer_f_delayed.T)\n",
    "spectrum_delayed = beam_former.get_das_spectrum(R_delayed, [frequency_hz])\n",
    "\n",
    "plt.figure()\n",
    "plt.polar(BeamFormer.theta_scan, spectrum_delayed[0, :])\n",
    "\n",
    "plt.figure()\n",
    "plt.matshow(np.angle(R_delayed[0]))"
   ]
  },
  {
   "cell_type": "markdown",
   "metadata": {},
   "source": [
    "# 4. DOA estimation"
   ]
  },
  {
   "cell_type": "code",
   "execution_count": null,
   "metadata": {},
   "outputs": [],
   "source": [
    "# signals with delay correction\n",
    "\n",
    "frequencies = np.array([frequency_hz])\n",
    "\n",
    "beam_former = BeamFormer(mic_positions=mics_drone)\n",
    "beam_former.init_multi_estimate(frequencies, combination_n=len(degrees))\n",
    "beam_former.init_dynamic_estimate(frequencies, combination_n=len(degrees), \n",
    "                                  combination_method='product', normalization_method='none')\n",
    "\n",
    "signals_f_list_delayed = []\n",
    "\n",
    "plt.figure()\n",
    "for i, (sig_f, time) in enumerate(zip(buffer_f_list, times_list_noisy)):\n",
    "    beam_former.add_to_multi_estimate(sig_f.T, frequencies, time, degrees[i])\n",
    "    \n",
    "    spec = beam_former.add_signals_to_dynamic_estimates(sig_f.T, frequencies, degrees[i])\n",
    "    \n",
    "    plt.polar(BeamFormer.theta_scan, spec[0, :])\n",
    "    \n",
    "plt.title('shifted spectra')\n",
    "\n",
    "spectrum_multi = beam_former.get_multi_estimate(method='das')\n",
    "spectrum_dynamic = beam_former.get_dynamic_estimate()\n",
    "\n",
    "plt.figure()\n",
    "plt.polar(BeamFormer.theta_scan, spectrum_multi[0, :])\n",
    "plt.title('spectrum_multi')\n",
    "\n",
    "plt.figure()\n",
    "plt.polar(BeamFormer.theta_scan, spectrum_dynamic[0, :])\n",
    "plt.title('spectrum_dynamic')"
   ]
  },
  {
   "cell_type": "markdown",
   "metadata": {},
   "source": [
    "# Full pipeline"
   ]
  },
  {
   "cell_type": "code",
   "execution_count": null,
   "metadata": {
    "scrolled": false
   },
   "outputs": [],
   "source": [
    "import pandas as pd\n",
    "\n",
    "#fname = 'first_test.pkl' # linear array\n",
    "fname = 'square_test.pkl' # square array\n",
    "df = pd.read_pickle(fname)\n",
    "freq_i = 0\n",
    "\n",
    "label_list = ['spectrum_combined', 'spectrum_raw', 'spectrum_multimic']\n",
    "\n",
    "n_degree_noise = len(df.degree_noise.unique())\n",
    "n_it = len(df.it.unique())\n",
    "boxplot_mat = np.empty((len(label_list), n_it, n_degree_noise)) # each slice will be one boxplot\n",
    "\n",
    "for d, (degree_noise, df_degree_noise) in enumerate(df.groupby('degree_noise')):\n",
    "    fig, axs = plt.subplots(1, len(label_list), sharey=True, sharex=True)\n",
    "    fig.set_size_inches(10, 3)\n",
    "    for counter, (__, row) in enumerate(df_degree_noise.iterrows()):\n",
    "        for l, label in enumerate(label_list):\n",
    "            if counter <= 3:\n",
    "                axs[l].semilogy(angles, row[label][freq_i])\n",
    "                \n",
    "            unwrap_angles = np.array([angles[np.argmax(row[label][freq_i])], gt_angle_deg]) / 180 * np.pi\n",
    "            unwrap_angles = np.unwrap(unwrap_angles)\n",
    "            error = abs(unwrap_angles[1] - unwrap_angles[0])*180/np.pi\n",
    "            \n",
    "            boxplot_mat[l, counter, d] = error\n",
    "        \n",
    "    for label, ax in zip(label_list, axs):\n",
    "        ax.axvline(gt_angle_deg, color='black', ls=':')\n",
    "        ax.set_title(f'degree noise {degree_noise}')\n",
    "        ax.set_xlabel('angle [deg]')\n",
    "        ax.set_ylabel('spectrum [-]')\n",
    "        ax.set_title(label)"
   ]
  },
  {
   "cell_type": "code",
   "execution_count": null,
   "metadata": {},
   "outputs": [],
   "source": [
    "fig_box, ax_box = plt.subplots(1, len(label_list), sharex=True, sharey=True)\n",
    "fig_box.set_size_inches(10, 5)\n",
    "for l, label in enumerate(label_list):\n",
    "    ax_box[l].boxplot(boxplot_mat[l], positions=df.degree_noise.unique(), widths=1.0)\n",
    "    ax_box[l].set_title(label)"
   ]
  },
  {
   "cell_type": "code",
   "execution_count": null,
   "metadata": {},
   "outputs": [],
   "source": []
  }
 ],
 "metadata": {
  "kernelspec": {
   "display_name": "Python 3",
   "language": "python",
   "name": "python3"
  },
  "language_info": {
   "codemirror_mode": {
    "name": "ipython",
    "version": 3
   },
   "file_extension": ".py",
   "mimetype": "text/x-python",
   "name": "python",
   "nbconvert_exporter": "python",
   "pygments_lexer": "ipython3",
   "version": "3.6.9"
  }
 },
 "nbformat": 4,
 "nbformat_minor": 4
}
