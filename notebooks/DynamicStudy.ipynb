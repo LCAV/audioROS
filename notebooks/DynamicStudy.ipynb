{
 "cells": [
  {
   "cell_type": "code",
   "execution_count": null,
   "metadata": {},
   "outputs": [],
   "source": [
    "from copy import deepcopy\n",
    "import math\n",
    "import sys\n",
    "\n",
    "import matplotlib.pylab as plt\n",
    "import numpy as np\n",
    "\n",
    "%reload_ext autoreload\n",
    "%autoreload 2\n",
    "\n",
    "#%matplotlib inline\n",
    "%matplotlib notebook\n",
    "\n",
    "sys.path.append('../crazyflie-audio/python/')"
   ]
  },
  {
   "cell_type": "code",
   "execution_count": null,
   "metadata": {},
   "outputs": [],
   "source": [
    "from bin_selection import select_frequencies\n",
    "from signals import generate_signal, amplify_signal\n",
    "from scipy.spatial.transform import Rotation\n",
    "\n",
    "def rotate_mics(mics, orientation_deg=0):\n",
    "    \"\"\"\n",
    "    :param mics: mic positions (n_mics, 2)\n",
    "    :return mics_rotated: (n_mics, 2)\n",
    "    \"\"\"\n",
    "    rot = Rotation.from_euler('z', orientation_deg, degrees=True)\n",
    "    R = rot.as_matrix() # 3x3\n",
    "    mics_aug = np.c_[mics, np.ones(mics.shape[0])].T # 3 x 4\n",
    "    mics_rotated = R.dot(mics_aug)[:2, :] # 2 x 4\n",
    "    return mics_rotated.T\n",
    "\n",
    "def plot_spectrum(spectrum, degree=0):\n",
    "    plt.figure()\n",
    "    if spectrum.shape[0] == 1:\n",
    "        plt.plot(angles, np.log10(spectrum[0]))\n",
    "    else:\n",
    "        plt.pcolormesh(angles, frequencies, np.log10(spectrum))\n",
    "    plt.axvline(degree, color='red')\n",
    "    plt.xlabel('angle [deg]')\n",
    "    plt.ylabel('frequency [Hz]')\n",
    "    \n",
    "def from_0_to_2pi(angle):\n",
    "    angle = (angle + np.pi) % (2 * np.pi) - np.pi # -pi to pi\n",
    "    if (type(angle) == float) or (angle.ndim == 0):\n",
    "        angle = angle + 2 * np.pi if angle < 0 else angle\n",
    "    else:\n",
    "        angle[angle < 0] += 2 * np.pi\n",
    "    return angle\n",
    "\n",
    "def from_0_to_360(angle_deg):\n",
    "    return 180 / np.pi * from_0_to_2pi(angle_deg / 180 * np.pi)"
   ]
  },
  {
   "cell_type": "code",
   "execution_count": null,
   "metadata": {},
   "outputs": [],
   "source": [
    "def generate_signals_pyroom(source_signal, mics_rotated, time, noise=0, ax=None):\n",
    "    import pyroomacoustics as pra\n",
    "    room = pra.AnechoicRoom(fs=Fs, dim=2)\n",
    "    room.add_source(source, signal=source_signal, name=f\"source\")\n",
    "\n",
    "    beam_former = pra.Beamformer(mics_rotated, Fs)\n",
    "    room.add_microphone_array(beam_former)\n",
    "    room.simulate()\n",
    "    \n",
    "    time_idx = int(round(time * Fs))\n",
    "    print(time, Fs, time_idx)\n",
    "    print('error:', time_idx / Fs, time, (time_idx / Fs) - time)\n",
    "    \n",
    "    signals = deepcopy(room.mic_array.signals)\n",
    "    if noise > 0:\n",
    "        signals += np.random.normal(scale=noise, size=signals.shape)\n",
    "    print('shifted signals by', time_idx, signals.shape)\n",
    "    \n",
    "    if ax is not None:\n",
    "        for i in range(signals.shape[0]):\n",
    "            ax.plot(signals[i])\n",
    "        ax.axvline(x=time_idx)\n",
    "    return signals[:, time_idx:]\n",
    "\n",
    "def generate_signals(source_signal, mics_rotated, time, noise=0, ax=None):\n",
    "    from algos_beamforming import get_mic_delays\n",
    "    from constants import SPEED_OF_SOUND\n",
    "\n",
    "    n_mics = mics_rotated.shape[0]\n",
    "    print(mics_rotated.shape)\n",
    "    print('mic 0:', mics_rotated[0])\n",
    "    print('mic 1:', mics_rotated[1])\n",
    "\n",
    "    delays_relative = get_mic_delays(mics_rotated, gt_angle_rad)\n",
    "    delays = np.linalg.norm(mics_rotated[0] - source)/SPEED_OF_SOUND + delays_relative\n",
    "\n",
    "    times = np.arange(0, duration, step=1/Fs) # n_times\n",
    "    signals = np.sin(2*np.pi*frequency_hz*(times[None, :] - delays[:, None] - time)) # n_mics x n_times\n",
    "    signals[times[None, :] < delays[:, None]] = 0.0\n",
    "\n",
    "    if noise > 0:\n",
    "        signals += np.random.normal(scale=noise, size=signals.shape)\n",
    "\n",
    "    if ax is not None:\n",
    "        for i in range(signals.shape[0]):\n",
    "            ax.plot(signals[i])\n",
    "        #ax.set_xlim(0, 100)\n",
    "    return signals"
   ]
  },
  {
   "cell_type": "markdown",
   "metadata": {},
   "source": [
    "# 1. Geometrical setup"
   ]
  },
  {
   "cell_type": "code",
   "execution_count": null,
   "metadata": {},
   "outputs": [],
   "source": [
    "from mic_array import get_square_array, get_uniform_array\n",
    "\n",
    "baseline = 0.108  # meters, square side of mic array\n",
    "gt_distance = 10  # meters, distance of source\n",
    "add_noise_mics_positions = 1e-3  # noise added to mic positions\n",
    "add_noise_times = 1e-6 # noise added to recording times\n",
    "\n",
    "#mics_drone = get_square_array(baseline=baseline, delta=0) # 4 x 2\n",
    "mics_drone = get_uniform_array(2, baseline=baseline) # 4 x 2\n",
    "\n",
    "gt_angle_deg = 90\n",
    "gt_angle_rad = gt_angle_deg * np.pi / 180.0\n",
    "source = gt_distance * np.array([np.cos(gt_angle_rad), np.sin(gt_angle_rad)])\n",
    "\n",
    "plt.figure()\n",
    "plt.scatter(*mics_drone.T)\n",
    "plt.scatter(*source)\n",
    "plt.axis('equal')\n",
    "\n",
    "plt.figure()\n",
    "plt.scatter(*mics_drone.T)\n",
    "plt.axis('equal')"
   ]
  },
  {
   "cell_type": "markdown",
   "metadata": {},
   "source": [
    "# 2. Simulate signals at mics"
   ]
  },
  {
   "cell_type": "code",
   "execution_count": null,
   "metadata": {},
   "outputs": [],
   "source": [
    "Fs = 44100  # Hz, sampling frequency\n",
    "n_buffer = 2048\n",
    "duration = 100  # seconds, should be long enough to acocunt for delays and full movement\n",
    "np.random.seed(1)\n",
    "noise = 0.0\n",
    "\n",
    "frequencies = np.fft.rfftfreq(n_buffer, 1/Fs)\n",
    "\n",
    "signal_type = \"mono\"; \n",
    "frequency_desired = 600\n",
    "indices = [np.argmin(np.abs(frequencies - frequency_desired))]\n",
    "print(indices)\n",
    "frequency_hz = frequencies[indices]\n",
    "\n",
    "print(frequency_hz)\n",
    "\n",
    "source_signal = generate_signal(Fs, \n",
    "                                signal_type=signal_type, \n",
    "                                duration_sec=duration, \n",
    "                                frequency_hz=frequency_hz, \n",
    "                                noise=noise)\n",
    "source_signal = amplify_signal(source_signal, target_dB=-10)"
   ]
  },
  {
   "cell_type": "code",
   "execution_count": null,
   "metadata": {},
   "outputs": [],
   "source": [
    "# create one long source signal\n",
    "angular_velocity_deg = 20 # deg/sec, velocity of drone\n",
    "time_index = 1000 # idx where signal is non-zero for all positions, found heuristically\n",
    "\n",
    "#degrees = [0, 0]\n",
    "#degrees = range(10)\n",
    "#degrees = np.arange(0, 360, 45)\n",
    "#degrees = [0, 85] #, -40] \n",
    "degrees = [0, 20, 45]\n",
    "\n",
    "if angular_velocity_deg != 0:\n",
    "    times_list = [(d-degrees[0])/angular_velocity_deg for d in degrees] # seconds\n",
    "else:\n",
    "    times_list = [0] * len(degrees)\n",
    "print('recording times in seconds:', times_list)\n",
    "\n",
    "assert duration > max(times_list)\n",
    "\n",
    "np.random.seed(1)\n",
    "mics_list = [rotate_mics(mics_drone, orientation_deg=degree) for degree in degrees]\n",
    "\n",
    "plt.figure()\n",
    "for degree, mics in zip(degrees, mics_list):\n",
    "    for j in range(mics.shape[0]):\n",
    "        plt.scatter(*mics[j], label=f'rot {degree}, mic{j}')\n",
    "plt.axis('equal')\n",
    "plt.legend(bbox_to_anchor=[1, 1], loc='upper left')\n",
    "pass"
   ]
  },
  {
   "cell_type": "code",
   "execution_count": null,
   "metadata": {},
   "outputs": [],
   "source": [
    "signals_list = []\n",
    "\n",
    "%matplotlib notebook\n",
    "for mics, time in zip(mics_list, times_list):\n",
    "    \n",
    "    fig, ax = plt.subplots()\n",
    "    signals_received =  generate_signals(source_signal, mics, time, noise=noise, ax=ax) \n",
    "    ax.set_xlim(800, 1400)\n",
    "    ax.legend([f\"mic{i}\" for i in range(mics.shape[0])])\n",
    "    ax.set_title(f'signals at time {time:.3f}')\n",
    "    \n",
    "    signals_list.append(signals_received)\n",
    "buffers = [signals_this[:, time_index:time_index + n_buffer] for signals_this in signals_list] \n",
    "\n",
    "if add_noise_mics_positions > 0:\n",
    "    mics_drone += np.random.normal(scale=add_noise_mics_positions, size=mics_drone.shape)\n",
    "if add_noise_times > 0:\n",
    "    times_list = [t + np.random.normal(scale=add_noise_times) for t in times_list]"
   ]
  },
  {
   "cell_type": "markdown",
   "metadata": {},
   "source": [
    "# sanity check of signal creation"
   ]
  },
  {
   "cell_type": "code",
   "execution_count": null,
   "metadata": {
    "scrolled": false
   },
   "outputs": [],
   "source": [
    "fig, ax = plt.subplots()\n",
    "for mic in mics_drone:\n",
    "    ax.scatter(*mic)\n",
    "ax.scatter(*source)\n",
    "ax.axis('equal')\n",
    "    \n",
    "fig, ax = plt.subplots()\n",
    "generate_signals_pyroom(source_signal, mics_list[-1].T, time=1.0, noise=0, ax=ax)\n",
    "ax.set_title('pyroom')\n",
    "ax.set_xlim(800, 1000)\n",
    "\n",
    "fig, ax = plt.subplots()\n",
    "generate_signals(source_signal, mics_list[-1], time=1.0, noise=0, ax=ax)\n",
    "ax.set_title('ours')\n",
    "ax.set_xlim(800, 1000)"
   ]
  },
  {
   "cell_type": "markdown",
   "metadata": {},
   "source": [
    "# 3. Create \"real\" multi-mic array"
   ]
  },
  {
   "cell_type": "code",
   "execution_count": null,
   "metadata": {},
   "outputs": [],
   "source": [
    "mics_array = np.concatenate([*mics_list])\n",
    "signals_multimic = generate_signals(source_signal, mics_array, time=0)\n",
    "buffer_multimic = signals_multimic[:, time_index:time_index + n_buffer]\n",
    "\n",
    "fig, axs = plt.subplots(buffer_multimic.shape[0], sharex=True)\n",
    "for i in range(buffer_multimic.shape[0]): # n_mics\n",
    "    label=f\"mic{i}\"\n",
    "    axs[i].plot(np.arange(buffer_multimic.shape[1])/Fs, buffer_multimic[i], label=label)\n",
    "    axs[i].set_title(label)\n",
    "    axs[i].set_xlim(0, 0.002)\n",
    "plt.suptitle('multi-mic signals')"
   ]
  },
  {
   "cell_type": "code",
   "execution_count": null,
   "metadata": {},
   "outputs": [],
   "source": [
    "fig, axs = plt.subplots(buffer_multimic.shape[0], sharex=True)\n",
    "counter = 0\n",
    "for j, (degree, buffer, time) in enumerate(zip(degrees, buffers, times_list)):\n",
    "    for i in range(buffer.shape[0]): # n_mics\n",
    "        phase_shift = from_0_to_2pi(- 2 * np.pi * time * frequency_hz) * 180 / np.pi\n",
    "        time_shift = phase_shift / (360 * frequency_hz)\n",
    "        print(\"phase shift in degrees\", phase_shift)\n",
    "        print(\"phase shift in time\", time_shift)\n",
    "        label = f\"rot {degree} time {time:.3f} mic{i}\"\n",
    "        axs[counter].axvline(time_shift)\n",
    "        axs[counter].plot(np.arange(buffer.shape[1])/Fs, buffer[i], label=label)\n",
    "        axs[counter].set_title(label)\n",
    "        axs[counter].set_xlim(0, 0.002)\n",
    "        counter += 1\n",
    "plt.suptitle('recorded signals without delay correction')"
   ]
  },
  {
   "cell_type": "markdown",
   "metadata": {},
   "source": [
    "# 4. DOA estimation"
   ]
  },
  {
   "cell_type": "markdown",
   "metadata": {},
   "source": [
    "# \"real\" spectrum"
   ]
  },
  {
   "cell_type": "code",
   "execution_count": null,
   "metadata": {},
   "outputs": [],
   "source": [
    "from audio_stack.beam_former import BeamFormer\n",
    "\n",
    "beam_former = BeamFormer(mic_positions=mics_array)\n",
    "angles = beam_former.theta_scan * 180 / np.pi\n",
    "\n",
    "signals_f_multimic = np.fft.rfft(buffer_multimic).T\n",
    "\n",
    "signals_f_multimic = signals_f_multimic[indices, :]\n",
    "frequencies = frequencies[indices]\n",
    "\n",
    "R_multimic = beam_former.get_correlation(signals_f_multimic)\n",
    "print(np.angle(R_multimic))\n",
    "spectrum_multimic = beam_former.get_mvdr_spectrum(R_multimic, frequencies)\n",
    "plot_spectrum(spectrum_multimic, degree=gt_angle_deg)"
   ]
  },
  {
   "cell_type": "markdown",
   "metadata": {},
   "source": [
    "# combine spectra"
   ]
  },
  {
   "cell_type": "code",
   "execution_count": null,
   "metadata": {},
   "outputs": [],
   "source": [
    "beam_former = BeamFormer(mic_positions=mics_drone)\n",
    "\n",
    "# calculate individual spectra for each pose\n",
    "signals_f_list = [np.fft.rfft(buffer).T for buffer in buffers] # n_frequences x 4\n",
    "signals_f_list = [sig_f[indices, :] for sig_f in signals_f_list]\n",
    "    \n",
    "Rs = [beam_former.get_correlation(sig_f) for sig_f in signals_f_list]\n",
    "#spectra = [beam_former.get_das_spectrum(R, frequencies) for R in Rs]\n",
    "spectra = [beam_former.get_mvdr_spectrum(R, frequencies) for R in Rs]\n",
    "\n",
    "# combine the individual spectra, accounting for the orientation of the drone\n",
    "combination_method = \"sum\"\n",
    "normalization_method = \"none\"\n",
    "#normalization_method = \"sum_to_one\"\n",
    "#normalization_method = \"zero_to_one\"\n",
    "#combination_method = \"product\"\n",
    "beam_former.init_dynamic_estimate(combination_n=len(degrees), \n",
    "                                  combination_method=combination_method, \n",
    "                                  normalization_method=normalization_method)\n",
    "for spectrum, degree in zip(spectra, degrees):\n",
    "    beam_former.add_to_dynamic_estimates(spectrum, -degree)\n",
    "\n",
    "combined_spectra = beam_former.get_dynamic_estimate()"
   ]
  },
  {
   "cell_type": "code",
   "execution_count": null,
   "metadata": {},
   "outputs": [],
   "source": [
    "for spectrum, degree in zip(spectra, degrees):\n",
    "    plot_spectrum(spectrum, from_0_to_360(gt_angle_deg - degree))\n",
    "    plt.title(f'rot {degree}')\n",
    "\n",
    "plot_spectrum(combined_spectra, from_0_to_360(gt_angle_deg - degrees[-1]))\n",
    "plt.title(f'combined spectra')\n",
    "pass"
   ]
  },
  {
   "cell_type": "code",
   "execution_count": null,
   "metadata": {},
   "outputs": [],
   "source": [
    "# signals with delay correction\n",
    "\n",
    "signals_f_list_delayed = []\n",
    "for i, (sig_f, time) in enumerate(zip(signals_f_list, times_list)):\n",
    "    exp_factor = np.exp(1j * 2 * np.pi * frequencies * time)\n",
    "    print('phase difference in degrees:', from_0_to_2pi(np.angle(exp_factor))*180/np.pi)\n",
    "    signals_f_delayed = np.multiply(sig_f, exp_factor[:, np.newaxis])  # frequencies x n_mics\n",
    "    signals_f_list_delayed.append(signals_f_delayed)\n",
    "    \n",
    "for sig_f, signals_f_delayed, time in zip(signals_f_list, signals_f_list_delayed, times_list):\n",
    "    print(f'original phases (time={time:.3f}):', from_0_to_2pi(np.angle(sig_f)))\n",
    "    print(f'corrected phases(time={time:.3f}):', from_0_to_2pi(np.angle(signals_f_delayed)))\n",
    "    \n",
    "print('multi-mic:', from_0_to_2pi(np.angle(signals_f_multimic)))"
   ]
  },
  {
   "cell_type": "markdown",
   "metadata": {},
   "source": [
    "# combine raw signals"
   ]
  },
  {
   "cell_type": "code",
   "execution_count": null,
   "metadata": {},
   "outputs": [],
   "source": [
    "from algos_basics import get_mic_delays\n",
    "\n",
    "beam_former = BeamFormer(mic_positions=mics_array)\n",
    "\n",
    "signals_f_tot_delay = np.empty((len(frequencies), 0))\n",
    "signals_f_tot_zero = np.empty((len(frequencies), 0))\n",
    "\n",
    "for i, (sig_f, signals_f_delayed) in enumerate(zip(signals_f_list, signals_f_list_delayed)):\n",
    "    signals_f_tot_delay = np.c_[signals_f_tot_delay, signals_f_delayed]\n",
    "    # for testing purposes, we also look at the spectra without compensating\n",
    "    # for the delays.\n",
    "    signals_f_tot_zero = np.c_[signals_f_tot_zero, sig_f]\n",
    "\n",
    "Rtot_zero = beam_former.get_correlation(signals_f_tot_zero)\n",
    "combined_raw_zero = beam_former.get_mvdr_spectrum(Rtot_zero, frequencies)\n",
    "\n",
    "Rtot_delay = beam_former.get_correlation(signals_f_tot_delay)\n",
    "print(np.angle(Rtot_delay))\n",
    "combined_raw_delay = beam_former.get_mvdr_spectrum(Rtot_delay, frequencies)\n",
    "\n",
    "plot_spectrum(combined_raw_delay, degree=gt_angle_deg)\n",
    "plt.title('combined raw with correct delay')\n",
    "\n",
    "plot_spectrum(combined_raw_zero, degree=gt_angle_deg)\n",
    "plt.title('combined raw with zero delay')\n",
    "pass"
   ]
  },
  {
   "cell_type": "markdown",
   "metadata": {},
   "source": [
    "# compare results"
   ]
  },
  {
   "cell_type": "code",
   "execution_count": null,
   "metadata": {},
   "outputs": [],
   "source": [
    "chosen_idx = np.argmin(np.abs(frequencies - frequency_hz))\n",
    "print(chosen_idx)\n",
    "plt.figure()\n",
    "plt.semilogy(angles, combined_spectra[chosen_idx], label='combined spectra')\n",
    "plt.semilogy(angles, combined_raw_delay[chosen_idx], label='raw delay')\n",
    "plt.semilogy(angles, combined_raw_zero[chosen_idx], label='raw zero', ls=':')\n",
    "plt.semilogy(angles, spectrum_multimic[chosen_idx], label='multi-mic', ls=':')\n",
    "plt.axvline(gt_angle_deg, color='C3', ls=':')\n",
    "plt.axvline(from_0_to_360(gt_angle_deg - degrees[-1]), color='C0', ls=':')\n",
    "plt.legend()"
   ]
  },
  {
   "cell_type": "markdown",
   "metadata": {},
   "source": [
    "# Full pipeline"
   ]
  }
 ],
 "metadata": {
  "kernelspec": {
   "display_name": "Python 3",
   "language": "python",
   "name": "python3"
  },
  "language_info": {
   "codemirror_mode": {
    "name": "ipython",
    "version": 3
   },
   "file_extension": ".py",
   "mimetype": "text/x-python",
   "name": "python",
   "nbconvert_exporter": "python",
   "pygments_lexer": "ipython3",
   "version": "3.6.9"
  }
 },
 "nbformat": 4,
 "nbformat_minor": 4
}
