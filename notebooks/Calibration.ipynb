{
 "cells": [
  {
   "cell_type": "code",
   "execution_count": null,
   "metadata": {},
   "outputs": [],
   "source": [
    "import math\n",
    "import sys\n",
    "\n",
    "import IPython\n",
    "import IPython.display as ipd\n",
    "import matplotlib.pylab as plt\n",
    "import numpy as np\n",
    "import pandas as pd\n",
    "\n",
    "%reload_ext autoreload\n",
    "%autoreload 2\n",
    "\n",
    "%matplotlib inline\n",
    "#%matplotlib notebook\n",
    "\n",
    "from matplotlib import rcParams\n",
    "rcParams[\"figure.max_open_warning\"] = False"
   ]
  },
  {
   "cell_type": "code",
   "execution_count": null,
   "metadata": {},
   "outputs": [],
   "source": [
    "from wall_analysis import parse_calibration_experiments\n",
    "\n",
    "fname = 'results/calibration.pkl'\n",
    "\n",
    "try:\n",
    "    df_total = pd.read_pickle(fname)\n",
    "    print('read', fname)\n",
    "except:\n",
    "    print('could not read', fname)\n",
    "    df_total = parse_calibration_experiments()\n",
    "    pd.to_pickle(df_total, fname)\n",
    "    print('saved as', fname)"
   ]
  },
  {
   "cell_type": "code",
   "execution_count": null,
   "metadata": {},
   "outputs": [],
   "source": [
    "df_total.tail()"
   ]
  },
  {
   "cell_type": "code",
   "execution_count": null,
   "metadata": {},
   "outputs": [],
   "source": [
    "# calculate psd for sweep without snr selection\n",
    "from wall_analysis import filter_by_dicts, extract_linear_psd\n",
    "\n",
    "dict_chosen = [{\n",
    "    'snr': 0,\n",
    "    'motors': 0,\n",
    "    'source': 'sweep',\n",
    "}]\n",
    "\n",
    "\n",
    "# found manually\n",
    "sweep_lines = {\n",
    "    'sweep': dict(\n",
    "        slope=4000 / 280,\n",
    "        offset=400,\n",
    "        delta=20,\n",
    "    )\n",
    "}\n",
    "\n",
    "df_chosen = filter_by_dicts(df_total, dict_chosen)\n",
    "for source, df in df_chosen.groupby('source'):\n",
    "    for j, row in df.iterrows():\n",
    "        spec = np.sum(np.abs(row.signals_f), axis=1) # sum over all mics\n",
    "\n",
    "        fig, axs  = plt.subplots(1, 2)\n",
    "        fig.set_size_inches(10, 5)\n",
    "        fig.suptitle(f'experiment \"{row.appendix}\"')\n",
    "        axs[0].pcolorfast(range(spec.shape[0]), row.frequencies, np.log10(spec.T))\n",
    "        psd = extract_linear_psd(row.signals_f, row.frequencies, ax=axs[0], **sweep_lines[source])\n",
    "\n",
    "        for i in range(psd.shape[0]):\n",
    "            axs[1].semilogy(row.frequencies, psd[i], label=f'mic{i}')\n",
    "        plt.legend(loc='upper left')"
   ]
  },
  {
   "cell_type": "code",
   "execution_count": null,
   "metadata": {},
   "outputs": [],
   "source": [
    "def extract_snr_psd(signals_f, frequencies_matrix, min_t=0, max_t=None, n_freq=1, ax=None):\n",
    "    n_mics = signals_f.shape[1]\n",
    "    all_frequencies = np.unique(frequencies_matrix.flatten())\n",
    "\n",
    "    psd_dict = [{f:[] for f in all_frequencies} for i in range(n_mics)]\n",
    "\n",
    "\n",
    "    if max_t is None:\n",
    "        max_t = frequencies_matrix.shape[0]\n",
    "        \n",
    "    if ax is not None:\n",
    "        ax.plot(frequencies_matrix[:, 0])\n",
    "        ax.axvline(min_t, color='k')\n",
    "        ax.axvline(max_t, color='k')\n",
    "\n",
    "    for i_t in range(min_t, max_t): # n_times x n_freqs \n",
    "        # save strongest n_freq frequencies\n",
    "        fs = frequencies_matrix[i_t, :n_freq]\n",
    "        for i_mic in range(n_mics):\n",
    "            for f_idx, f in enumerate(fs):\n",
    "                psd_dict[i_mic][f].append(np.abs(signals_f[i_t, i_mic, f_idx]))\n",
    "    return psd_dict"
   ]
  },
  {
   "cell_type": "code",
   "execution_count": null,
   "metadata": {
    "scrolled": false
   },
   "outputs": [],
   "source": [
    "# calculate psd for sweep without snr selection\n",
    "from wall_analysis import filter_by_dicts\n",
    "\n",
    "dict_chosen = [{\n",
    "    'snr': 1,\n",
    "    'motors': 0,\n",
    "}]\n",
    "\n",
    "#from crazyflie_description_py.parameters import N_BUFFER, FS\n",
    "#all_frequencies = list(np.round(np.fft.rfftfreq(N_BUFFER, 1/FS)))\n",
    "#print(all_frequencies)\n",
    "\n",
    "kwargs = {\n",
    "    'sweep': {\n",
    "        'min_t': 100,\n",
    "        'max_t': 320\n",
    "    },\n",
    "    'sweep_buzzer': {\n",
    "        'min_t': 430,\n",
    "        'max_t': 1230\n",
    "    }\n",
    "}\n",
    "\n",
    "# need this to assign list to this columns\n",
    "df_total = df_total.assign(psd_dict=None)\n",
    "\n",
    "df_chosen = filter_by_dicts(df_total, dict_chosen)\n",
    "for source, df in df_chosen.groupby('source'):\n",
    "    for j, row in df.iterrows():\n",
    "        fig, ax  = plt.subplots()\n",
    "        fig.set_size_inches(10, 5)\n",
    "        psd_dict = extract_snr_psd(row.signals_f, row.frequencies_matrix, ax=ax, **kwargs[source])\n",
    "        ax.grid(which='both')\n",
    "        df_total.loc[j, 'psd_dict'] = psd_dict\n",
    "df_total.tail()"
   ]
  },
  {
   "cell_type": "code",
   "execution_count": null,
   "metadata": {
    "scrolled": false
   },
   "outputs": [],
   "source": [
    "import seaborn as sns\n",
    "mic_idx = 0\n",
    "\n",
    "df_chosen = filter_by_dicts(df_total, dict_chosen)\n",
    "for source, df in df_chosen.groupby('source'):\n",
    "    fig, axs = plt.subplots(len(df), sharey=True, sharex=True)\n",
    "    fig.set_size_inches(10, 10)\n",
    "    fig.suptitle(f'{source}\"{row.appendix}\"')\n",
    "    \n",
    "    for j_idx, (j, row) in enumerate(df.iterrows()):\n",
    "        axs[j_idx].set_title(f'experiment \"{row.appendix}\"')\n",
    "        \n",
    "        if row.psd_dict is None:\n",
    "            continue\n",
    "            \n",
    "        psd_here = row.psd_dict[mic_idx] # {f:[]\n",
    "        \n",
    "        for key, vals in psd_here.items():\n",
    "            \n",
    "            #sns.scatterplot(x=[f]*len(vals), y=vals)\n",
    "            # color by timestamp? \n",
    "            if len(vals) > 0:\n",
    "                vals = vals[2:-2]\n",
    "            axs[j_idx].scatter([key]*len(vals), vals, c=range(len(vals)), cmap='inferno')\n",
    "        axs[j_idx].set_yscale('log')"
   ]
  },
  {
   "cell_type": "code",
   "execution_count": null,
   "metadata": {
    "scrolled": false
   },
   "outputs": [],
   "source": [
    "\n",
    "for source, df in df_chosen.groupby('source'):\n",
    "    for j, row in df.iterrows():\n",
    "        \n",
    "        spec = np.sum(np.abs(row.signals_f), axis=1) # sum over all mics\n",
    "        psd_dict = row.psd_dict\n",
    "\n",
    "        figs, axs  = plt.subplots(n_mics, sharex=True, sharey=True)\n",
    "        figs.set_size_inches(10, 10)\n",
    "        fig, ax  = plt.subplots()\n",
    "        fig.set_size_inches(10, 5)\n",
    "        figs.suptitle(f'{source}, experiment \"{row.appendix}\"')\n",
    "        for i in range(n_mics):\n",
    "            f_list = []\n",
    "            vals_list = []\n",
    "            for f, vals in psd_dict[i].items():\n",
    "                if len(vals) == 0:\n",
    "                    continue\n",
    "                else:\n",
    "                    f_list.append(f)\n",
    "                    vals_list.append(np.mean(vals))\n",
    "                    axs[i].scatter(f, np.mean(vals), color=f'C{i}')\n",
    "            axs[i].set_yscale('log')\n",
    "            ax.plot(f_list, vals_list, color=f'C{i}', label=f'mic{i}')\n",
    "        ax.set_yscale('log')\n",
    "        ax.legend(loc='upper left')"
   ]
  },
  {
   "cell_type": "markdown",
   "metadata": {},
   "source": [
    "## Notes for next steps\n",
    "\n",
    "- investigate variance of measurements within each bin, and potentially discard the first and last measurements\n",
    "- decide on dataset to use for calibration based on above, potentially take the combination of multiple measurements\n",
    "- understand what exact frequencies buzzer is playing at, and if there is the \"step\" effect (as discussed with Adrien)  "
   ]
  },
  {
   "cell_type": "code",
   "execution_count": null,
   "metadata": {},
   "outputs": [],
   "source": []
  }
 ],
 "metadata": {
  "kernelspec": {
   "display_name": "Python 3",
   "language": "python",
   "name": "python3"
  },
  "language_info": {
   "codemirror_mode": {
    "name": "ipython",
    "version": 3
   },
   "file_extension": ".py",
   "mimetype": "text/x-python",
   "name": "python",
   "nbconvert_exporter": "python",
   "pygments_lexer": "ipython3",
   "version": "3.6.9"
  },
  "toc": {
   "base_numbering": 1,
   "nav_menu": {},
   "number_sections": true,
   "sideBar": true,
   "skip_h1_title": false,
   "title_cell": "Table of Contents",
   "title_sidebar": "Contents",
   "toc_cell": false,
   "toc_position": {},
   "toc_section_display": true,
   "toc_window_display": false
  }
 },
 "nbformat": 4,
 "nbformat_minor": 4
}
