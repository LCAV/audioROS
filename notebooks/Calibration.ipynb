{
 "cells": [
  {
   "cell_type": "code",
   "execution_count": null,
   "metadata": {},
   "outputs": [],
   "source": [
    "import math\n",
    "import sys\n",
    "\n",
    "import IPython\n",
    "import IPython.display as ipd\n",
    "import matplotlib.pylab as plt\n",
    "import numpy as np\n",
    "import pandas as pd\n",
    "\n",
    "%reload_ext autoreload\n",
    "%autoreload 2\n",
    "\n",
    "%matplotlib inline\n",
    "#%matplotlib notebook\n",
    "\n",
    "from matplotlib import rcParams\n",
    "rcParams[\"figure.max_open_warning\"] = False"
   ]
  },
  {
   "cell_type": "markdown",
   "metadata": {},
   "source": [
    "# Calibration"
   ]
  },
  {
   "cell_type": "code",
   "execution_count": null,
   "metadata": {},
   "outputs": [],
   "source": [
    "from wall_analysis import parse_calibration_experiments\n",
    "\n",
    "fname = 'results/calibration.pkl'\n",
    "\n",
    "try:\n",
    "    df_total = pd.read_pickle(fname)\n",
    "    print('read', fname)\n",
    "except:\n",
    "    print('could not read', fname)\n",
    "    df_total = parse_calibration_experiments()\n",
    "    pd.to_pickle(df_total, fname)\n",
    "    print('saved as', fname)"
   ]
  },
  {
   "cell_type": "code",
   "execution_count": null,
   "metadata": {},
   "outputs": [],
   "source": [
    "print(df_total.appendix.unique())\n",
    "df_total.loc[df_total.appendix=='_HALL3ok', 'appendix'] = '_HALL3'\n",
    "print(df_total.appendix.unique())\n",
    "df_total.tail()"
   ]
  },
  {
   "cell_type": "code",
   "execution_count": null,
   "metadata": {},
   "outputs": [],
   "source": [
    "# calculate psd for sweep without snr selection\n",
    "from wall_analysis import filter_by_dicts, extract_linear_psd\n",
    "\n",
    "dict_chosen = [{\n",
    "    'snr': 0,\n",
    "    'motors': 0,\n",
    "    'source': 'sweep',\n",
    "}]\n",
    "\n",
    "# found visually from spectrogram: \n",
    "sweep_lines = dict(\n",
    "    slope=4000/280,\n",
    "    offset=400,\n",
    "    delta=20,\n",
    ")\n",
    "\n",
    "df_chosen = filter_by_dicts(df_total, dict_chosen)\n",
    "for j, row in df_chosen.iterrows():\n",
    "    spec = np.sum(np.abs(row.signals_f), axis=1) # sum over all mics\n",
    "\n",
    "    fig, axs  = plt.subplots(1, 2)\n",
    "    fig.set_size_inches(10, 5)\n",
    "    fig.suptitle(f'experiment \"{row.appendix}\"')\n",
    "    axs[0].pcolorfast(range(spec.shape[0]), row.frequencies, np.log10(spec.T))\n",
    "    psd = extract_linear_psd(row.signals_f, row.frequencies, ax=axs[0], **sweep_lines)\n",
    "\n",
    "    for i in range(psd.shape[0]):\n",
    "        axs[1].semilogy(row.frequencies, psd[i], label=f'mic{i}')\n",
    "    plt.legend(loc='upper left')"
   ]
  },
  {
   "cell_type": "code",
   "execution_count": null,
   "metadata": {},
   "outputs": [],
   "source": [
    "from wall_analysis import extract_psd, extract_psd_dict\n",
    "psd_dict1 = [{0: [], 100:[1, 2, 3], 200:[0, 4, 5]}, {100:[0, 1], 200:[1, 2]}]\n",
    "psd_dict2 = [{100:[1, 2, 5], 250:[1, 4, 5]}, {100:[0, 1], 250:[3, 4]}]\n",
    "psd_dict_list = [psd_dict1, psd_dict2]\n",
    "psd, frequencies, psd_std = extract_psd(psd_dict_list)\n",
    "print(psd.shape)\n",
    "print(psd, frequencies)"
   ]
  },
  {
   "cell_type": "code",
   "execution_count": null,
   "metadata": {
    "scrolled": false
   },
   "outputs": [],
   "source": [
    "# calculate psd for sweep without snr selection\n",
    "from wall_analysis import filter_by_dicts\n",
    "\n",
    "n_freq = 1\n",
    "\n",
    "dict_chosen = [{\n",
    "    'snr': 1,\n",
    "    'motors': 0,\n",
    "}]\n",
    "\n",
    "#from crazyflie_description_py.parameters import N_BUFFER, FS\n",
    "#all_frequencies = list(np.round(np.fft.rfftfreq(N_BUFFER, 1/FS)))\n",
    "#print(all_frequencies)\n",
    "\n",
    "kwargs = {\n",
    "    'sweep': {\n",
    "        'min_t': 105,\n",
    "        'max_t': 320,\n",
    "        'n_freq': n_freq\n",
    "    },\n",
    "    'sweep_buzzer': {\n",
    "        'min_t': 430,\n",
    "        'max_t': 1230,\n",
    "        'n_freq': n_freq\n",
    "    }\n",
    "}\n",
    "\n",
    "# need this to assign list to this columns\n",
    "df_total = df_total.assign(psd_dict=None)\n",
    "\n",
    "df_chosen = filter_by_dicts(df_total, dict_chosen)\n",
    "for (source, motors), df in df_chosen.groupby(['source', 'motors']):\n",
    "    fig, ax  = plt.subplots()\n",
    "    fig.set_size_inches(5, 5)\n",
    "    ax.grid(which='both')\n",
    "    legend = []\n",
    "    for j, row in df.iterrows():\n",
    "        psd_dict = extract_psd_dict(row.signals_f, row.frequencies_matrix, ax=ax, **kwargs[source])\n",
    "        df_total.loc[j, 'psd_dict'] = psd_dict\n",
    "        legend.append(row.appendix)"
   ]
  },
  {
   "cell_type": "code",
   "execution_count": null,
   "metadata": {},
   "outputs": [],
   "source": [
    "kwargs_harmonics = {\n",
    "    'sweep': {\n",
    "        'min_t': 40,\n",
    "        'max_t': 95, \n",
    "        'n_freq': n_freq\n",
    "    },\n",
    "    'sweep_buzzer': {\n",
    "        'min_t': 40,\n",
    "        'max_t': 420,\n",
    "        'n_freq': n_freq\n",
    "    }\n",
    "}\n",
    "\n",
    "# need this to assign list to this columns\n",
    "df_total = df_total.assign(psd_dict_harmonics=None)\n",
    "df_chosen = filter_by_dicts(df_total, dict_chosen)\n",
    "for source, df in df_chosen.groupby('source'):\n",
    "    fig, ax  = plt.subplots()\n",
    "    fig.set_size_inches(5, 5)\n",
    "    ax.grid(which='both')\n",
    "    for j, row in df.iterrows():\n",
    "        psd_dict_harmonics = extract_psd_dict(row.signals_f, row.frequencies_matrix, ax=ax, **kwargs_harmonics[source])\n",
    "        df_total.loc[j, 'psd_dict_harmonics'] = psd_dict_harmonics"
   ]
  },
  {
   "cell_type": "code",
   "execution_count": null,
   "metadata": {},
   "outputs": [],
   "source": [
    "#chosen experiments for calibration, based on variance above.  \n",
    "#chosen_experiments = ['_HALL', '_HALL2', '_HALL3']\n",
    "chosen_experiments = ['_HALL', '_HALL2']\n",
    "\n",
    "df_calib = pd.DataFrame(index=[], columns=['frequencies', 'psd', 'psd_std', 'type', 'source', \n",
    "                                           'method', 'n_freq'])\n",
    "methods = ['median', 'median-reject'] # 'mean', 'mean-reject'\n",
    "\n",
    "df_chosen = filter_by_dicts(df_total, dict_chosen)\n",
    "for source, df in df_chosen.groupby('source'):\n",
    "    for type_ in ['psd_dict', 'psd_dict_harmonics']:\n",
    "        \n",
    "        psd_dict_list = []\n",
    "        for appendix in chosen_experiments:\n",
    "            psd_dict = list(df.loc[df.appendix==appendix, type_].values)\n",
    "            psd_dict_list += psd_dict\n",
    "        \n",
    "        for method in methods:\n",
    "            psd, frequencies, psd_std = extract_psd(psd_dict_list, method=method, verbose=False) \n",
    "            df_calib.loc[len(df_calib), :] = {\n",
    "                'frequencies': frequencies,\n",
    "                'psd': psd, \n",
    "                'psd_std': psd_std, \n",
    "                'type': type_, \n",
    "                'source': source,\n",
    "                'method': method,\n",
    "                'n_freq': n_freq\n",
    "            }\n",
    "    \n",
    "fname = f'results/calibration_results.pkl'\n",
    "pd.to_pickle(df_calib, fname)\n",
    "print(f'saved as {fname}')\n",
    "#df_chosen = df_total.loc[]"
   ]
  },
  {
   "cell_type": "code",
   "execution_count": null,
   "metadata": {
    "scrolled": false
   },
   "outputs": [],
   "source": [
    "mic_idx = 0\n",
    "\n",
    "df_chosen = filter_by_dicts(df_total, dict_chosen)\n",
    "for source, df in df_chosen.groupby('source'):\n",
    "    fig, axs = plt.subplots(len(df), sharey=True, sharex=True)\n",
    "    fig.set_size_inches(10, 10)\n",
    "    fig.suptitle(f'{source}')\n",
    "    \n",
    "    for j_idx, (j, row) in enumerate(df.iterrows()):\n",
    "        axs[j_idx].set_title(f'experiment \"{row.appendix}\"')\n",
    "        \n",
    "        for key, vals in row.psd_dict[mic_idx].items():\n",
    "            axs[j_idx].scatter([key]*len(vals), vals, c=range(len(vals)), cmap='inferno')\n",
    "        for key, vals in row.psd_dict_harmonics[mic_idx].items():\n",
    "            axs[j_idx].scatter([key]*len(vals), vals, c=range(len(vals)), cmap='cool')\n",
    "        \n",
    "        axs[j_idx].set_yscale('log')"
   ]
  },
  {
   "cell_type": "code",
   "execution_count": null,
   "metadata": {
    "scrolled": false
   },
   "outputs": [],
   "source": [
    "for source, df in df_chosen.groupby('source'):\n",
    "    for j, row in df.iterrows():\n",
    "        n_mics = row.signals_f.shape[1]\n",
    "        \n",
    "        psd, frequencies, psd_std = extract_psd([row.psd_dict], verbose=False) \n",
    "        \n",
    "        fig, ax  = plt.subplots()\n",
    "        fig.set_size_inches(10, 5)\n",
    "        fig.suptitle(f'{source}: experiment \"{row.appendix}\"')\n",
    "        for i in range(n_mics):\n",
    "            mask = psd[i, :] > 0\n",
    "            ax.plot(frequencies[mask], psd[i, mask], color=f'C{i}', label=f'mic{i}', marker='o')\n",
    "        ax.set_yscale('log')\n",
    "        ax.legend(loc='upper left')"
   ]
  },
  {
   "cell_type": "code",
   "execution_count": null,
   "metadata": {
    "scrolled": false
   },
   "outputs": [],
   "source": [
    "psd_all = np.concatenate(df_calib.psd.values, axis=1)\n",
    "freqs_all = np.concatenate(df_calib.frequencies.values)\n",
    "y_min = np.min(psd_all)\n",
    "y_max = np.max(psd_all)\n",
    "x_min = np.min(freqs_all) \n",
    "x_max = np.max(freqs_all) \n",
    "\n",
    "for i, row in df_calib.iterrows():\n",
    "    fig, ax = plt.subplots()\n",
    "    fig.set_size_inches(7, 5)\n",
    "    ax.set_title(f'{row.source}{row.type.replace(\"psd_dict\", \"\")}, {row.method}')\n",
    "    for i in range(row.psd.shape[0]):\n",
    "        ax.errorbar(x=row.frequencies, y=row.psd[i, :], yerr=row.psd_std[i, :])\n",
    "    ax.set_yscale('log')\n",
    "    ax.set_ylim(y_min, y_max)\n",
    "    ax.set_xlim(x_min, x_max)"
   ]
  },
  {
   "cell_type": "markdown",
   "metadata": {},
   "source": [
    "# frequency selection with motors on"
   ]
  },
  {
   "cell_type": "code",
   "execution_count": null,
   "metadata": {},
   "outputs": [],
   "source": [
    "chosen_dict = dict(\n",
    "    #appendix='_BC329',\n",
    "    appendix='',\n",
    "    motors='all43000',\n",
    "    snr=1,\n",
    "    source='sweep'\n",
    ")\n",
    "df_chosen = filter_by_dicts(df_total, [chosen_dict])\n",
    "assert len(df_chosen) == 1\n",
    "row = df_chosen.iloc[0]\n",
    "\n",
    "fig = plt.figure() \n",
    "fig.set_size_inches(10, 5)\n",
    "plt.title(f'strongest frequency')\n",
    "plt.plot(row.seconds, row.frequencies_matrix[:, 0])\n",
    "plt.ylim(1000, 5000)\n",
    "\n",
    "n_freqs = 32\n",
    "cmap = plt.get_cmap('inferno', n_freqs)\n",
    "fig = plt.figure()\n",
    "plt.title(f'strongest {n_freqs} frequencies (dark to light)')\n",
    "fig.set_size_inches(10, 5)\n",
    "for i in range(n_freqs):\n",
    "    color = i / n_freqs #(n_freqs - i)/n_freqs\n",
    "    plt.scatter(row.seconds, row.frequencies_matrix[:, i], color=cmap(color), s=2)\n",
    "plt.ylim(1000, 5000)"
   ]
  },
  {
   "cell_type": "code",
   "execution_count": null,
   "metadata": {},
   "outputs": [],
   "source": [
    "chosen_dict = dict(\n",
    "    #appendix='_BC329',\n",
    "    #appendix='',\n",
    "    motors='all43000',\n",
    "    snr=0,\n",
    "    source='sweep'\n",
    ")\n",
    "df_chosen = filter_by_dicts(df_total, [chosen_dict])\n",
    "for i, row in df_chosen.iterrows():\n",
    "    fig, ax = plt.subplots()\n",
    "    spec = np.sum(np.abs(row.signals_f), axis=1)\n",
    "    ax.pcolorfast(row.seconds, row.frequencies, np.log10(spec[1:, 1:].T))"
   ]
  },
  {
   "cell_type": "code",
   "execution_count": null,
   "metadata": {},
   "outputs": [],
   "source": [
    "chosen_dict = dict(\n",
    "    motors='all43000',\n",
    "    #snr=1,\n",
    "    source='sweep'\n",
    ")\n",
    "mic_idx = 0\n",
    "df_chosen = filter_by_dicts(df_total, [chosen_dict])\n",
    "\n",
    "plt.figure()\n",
    "for i, row in df_chosen.iterrows():\n",
    "    if row.frequencies_matrix is None:\n",
    "        frequencies_matrix = np.repeat(row.frequencies[None, :], len(row.seconds), axis=0)\n",
    "    else:\n",
    "        frequencies_matrix = row.frequencies_matrix\n",
    "    print(frequencies_matrix.shape)\n",
    "    psd_dict = extract_psd_dict(row.signals_f, frequencies_matrix, n_freq=32)\n",
    "    psd, frequencies, psd_std = extract_psd([psd_dict])\n",
    "    \n",
    "    plt.plot(frequencies, psd[mic_idx], marker='o', label=f'snr: {row.snr}')\n",
    "plt.yscale('log')\n",
    "plt.legend()"
   ]
  },
  {
   "cell_type": "code",
   "execution_count": null,
   "metadata": {},
   "outputs": [],
   "source": []
  },
  {
   "cell_type": "markdown",
   "metadata": {},
   "source": [
    "# Chirp design"
   ]
  },
  {
   "cell_type": "code",
   "execution_count": null,
   "metadata": {},
   "outputs": [],
   "source": [
    "from evaluate_data import read_df_from_wav, get_fname, read_df, get_spectrogram\n",
    "from crazyflie_description_py.parameters import N_BUFFER, FS\n",
    "\n",
    "chosen_freqs_approx = np.array([3013, 3120, 3530, 3680, 4150, 4270, 5130, 5212, 6430, 6690, 8000, 8420, 10940, 13140, 14920]) # 4270, \n",
    "\n",
    "frequencies_embed = np.fft.rfftfreq(N_BUFFER, 1/FS)\n",
    "chosen_bins = [np.argmin(np.abs(f - frequencies_embed)) for f in chosen_freqs_approx]\n",
    "chosen_freqs = frequencies_embed[chosen_bins]\n",
    "\n",
    "# harmonics\n",
    "\n",
    "higher_approx = chosen_freqs_approx * 3\n",
    "chosen_bins_higher = [np.argmin(np.abs(f - frequencies_embed)) for f in higher_approx if f < 16000]\n",
    "chosen_freqs_higher = frequencies_embed[chosen_bins_higher]\n",
    "\n",
    "lower_approx = list(chosen_freqs_approx[[2, 3, 4]] / 3) #, 11, 12, 13, 14]] / 3)\n",
    "chosen_bins_lower = [np.argmin(np.abs(f - frequencies_embed)) for f in lower_approx]\n",
    "chosen_freqs_lower = frequencies_embed[chosen_bins_lower]\n",
    "\n",
    "buzzer_freqs = sorted(list(chosen_freqs) + list(chosen_freqs_lower))\n",
    "print('buzzer freqs', len(buzzer_freqs), buzzer_freqs)\n",
    "\n",
    "all_freqs = sorted(list(chosen_freqs) + list(chosen_freqs_higher) + list(chosen_freqs_lower) \n",
    "                   + list(chosen_freqs_lower * 5) + list(chosen_freqs_lower * 7))\n",
    "print('all freqs', len(all_freqs), all_freqs)"
   ]
  },
  {
   "cell_type": "code",
   "execution_count": null,
   "metadata": {},
   "outputs": [],
   "source": [
    "frequencies_embed = np.fft.rfftfreq(N_BUFFER, 1/FS)\n",
    "all_bins = [np.argmin(np.abs(f - frequencies_embed)) for f in all_freqs]\n",
    "print('bins:', all_bins)\n",
    "\n",
    "out_dir = \"../crazyflie-audio/firmware/audio_shield_firmware/Core/Inc\"\n",
    "out_name = \"sweep_hard_bins.h\"\n",
    "fname = f\"{out_dir}/{out_name}\"\n",
    "\n",
    "with open(fname, \"w+\") as f:\n",
    "    f.write(f\"#ifndef __SWEEP_HARD_BINS_H \\n#define __SWEEP_HARD_BINS_H\\n\\n\")\n",
    "\n",
    "    f.write(f\"uint16_t sweep_hard_bins[32] = \" + r\"{\")\n",
    "    [f.write(f\"{s:.0f}, \",) for s in all_bins[:-1]]\n",
    "    [f.write(f\"{s:.0f}\",) for s in all_bins[-1:]]\n",
    "    f.write(r\"};\" + \" \\n\\n\")\n",
    "\n",
    "    f.write(f\"#endif /* __SWEEP_HARD_BINS_H */\")\n",
    "print('wrote as', fname)"
   ]
  },
  {
   "cell_type": "markdown",
   "metadata": {},
   "source": [
    "# motors at hover"
   ]
  },
  {
   "cell_type": "markdown",
   "metadata": {},
   "source": [
    "## measurement mics"
   ]
  },
  {
   "cell_type": "code",
   "execution_count": null,
   "metadata": {},
   "outputs": [],
   "source": [
    "kwargs = dict(\n",
    "    degree=0,\n",
    "    props=False,\n",
    "    snr=True,\n",
    "    motors=True,\n",
    "    source=None,\n",
    "    distance=0\n",
    ")\n",
    "exp_name = '2020_11_30_wall_hover'; \n",
    "fname_motors = get_fname(**kwargs)\n",
    "df_motors = read_df_from_wav(f'../experiments/{exp_name}/export/{fname_motors}.wav', n_buffer=N_BUFFER)"
   ]
  },
  {
   "cell_type": "code",
   "execution_count": null,
   "metadata": {
    "scrolled": false
   },
   "outputs": [],
   "source": [
    "spec_motors = get_spectrogram(df_motors)\n",
    "\n",
    "avg_motor_psd = np.mean(spec_motors[:, 250:1750], axis=1) # time range chosen from plot\n",
    "times_motors = np.arange(spec_motors.shape[1]) #df_motors.timestamp.values\n",
    "frequencies_motors = df_motors.iloc[0].frequencies\n",
    "max_freq_plot = 16000\n",
    "fig = plt.figure()\n",
    "fig.set_size_inches(15, 10)\n",
    "plt.pcolormesh(times_motors, frequencies_motors[frequencies_motors < max_freq_plot], np.log(spec_motors[frequencies_motors < max_freq_plot, :]))\n",
    "[plt.axhline(f, color='red', ls=':') for f in all_freqs]\n",
    "pass"
   ]
  },
  {
   "cell_type": "markdown",
   "metadata": {},
   "source": [
    "##  drone mics"
   ]
  },
  {
   "cell_type": "code",
   "execution_count": null,
   "metadata": {},
   "outputs": [],
   "source": [
    "df, df_pos = read_df(**kwargs, exp_name=exp_name)"
   ]
  },
  {
   "cell_type": "code",
   "execution_count": null,
   "metadata": {},
   "outputs": [],
   "source": [
    "spec = get_spectrogram(df)\n",
    "stft = np.array([*df.loc[:, \"signals_f\"]]).transpose(2, 1, 0)\n",
    "times = df.timestamp.values / 1000\n",
    "fig, axs = plt.subplots(stft.shape[1], sharex=True, sharey=True)\n",
    "fig.set_size_inches(15, 10)\n",
    "frequencies = df.iloc[0].frequencies\n",
    "for i, ax in enumerate(axs):\n",
    "    ax.pcolormesh(times, frequencies, np.log(np.abs(stft[frequencies < max_freq_plot, i, :])))\n",
    "    ax.set_title(f'mic{i}')"
   ]
  },
  {
   "cell_type": "code",
   "execution_count": null,
   "metadata": {},
   "outputs": [],
   "source": [
    "from evaluate_data import read_df_others\n",
    "df_status, df_commands = read_df_others(**kwargs, exp_name=exp_name)\n",
    "\n",
    "motors_pwm = np.array([*df_commands.loc[:, \"motors_pwm\"]])\n",
    "print(motors_pwm.shape)\n",
    "\n",
    "fig, axs = plt.subplots(4)\n",
    "fig.set_size_inches(15, 10)\n",
    "axs[0].plot(df_status.timestamp / 1000, df_status.vbat, label=\"vbat\")\n",
    "for i in range(motors_pwm.shape[1]):\n",
    "    axs[1].plot(df_commands.timestamp / 1000, motors_pwm[:, i], label=f\"motor {i}\")\n",
    "axs[1].set_ylabel('pwm signals')\n",
    "axs[2].plot(df_pos.timestamp / 1000, df_pos.dx, label=\"dx\")\n",
    "axs[2].plot(df_pos.timestamp / 1000, df_pos.dy, label=\"dy\")\n",
    "axs[2].set_ylim(-10, 10)\n",
    "axs[3].plot(df_pos.timestamp / 1000, df_pos.yaw_rate_deg, label=\"yaw_rate_deg\")\n",
    "[ax.legend(loc='best') for ax in axs]"
   ]
  },
  {
   "cell_type": "markdown",
   "metadata": {},
   "source": [
    "# buzzer chirp"
   ]
  },
  {
   "cell_type": "code",
   "execution_count": null,
   "metadata": {},
   "outputs": [],
   "source": [
    "kwargs = dict(\n",
    "    degree=0,\n",
    "    props=False,\n",
    "    snr=False,\n",
    "    motors=False,\n",
    "    source='sweep_all',\n",
    "    distance=50\n",
    ")\n",
    "exp_name = '2020_12_2_chirp'; \n",
    "n_buffer = N_BUFFER \n",
    "fname_chirp = get_fname(**kwargs)\n",
    "fname = f'results/{exp_name}_{fname_chirp}.pk'\n",
    "try:\n",
    "    df_chirp = pd.read_pickle(fname)\n",
    "    print('read', fname)\n",
    "except:\n",
    "    df_chirp = read_df_from_wav(f'../experiments/{exp_name}/export/{fname_chirp}.wav', n_buffer=n_buffer)\n",
    "    pd.to_pickle(df_chirp, fname)\n",
    "    print('wrote', fname)"
   ]
  },
  {
   "cell_type": "code",
   "execution_count": null,
   "metadata": {},
   "outputs": [],
   "source": [
    "from wall_analysis import extract_linear_psd\n",
    "\n",
    "spec_chirp = get_spectrogram(df_chirp)\n",
    "signals_f = np.array([*df_chirp.loc[:, \"signals_f\"]])\n",
    "frequencies_chirp = np.array(df_chirp.iloc[0].frequencies)\n",
    "seconds = (df_chirp.timestamp.values - df_chirp.iloc[0].timestamp)/ 2048\n",
    "\n",
    "#times_chirp = np.arange(3000, 5000)\n",
    "times_chirp = np.arange(spec_chirp.shape[1])\n",
    "max_freq_plot = 0 #3000\n",
    "min_freq_plot = 16000 #2500\n",
    "mask_freq = (frequencies_chirp < max_freq_plot) & (frequencies_chirp > min_freq_plot)\n",
    "fig, ax = plt.subplots()\n",
    "fig.set_size_inches(10, 10)\n",
    "\n",
    "slope = 14930 / 21170 \n",
    "offset = 0\n",
    "#psd = extract_linear_psd(signals_f, frequencies_chirp, slope, offset, delta=500, ax=ax)\n",
    "\n",
    "spec_small = spec_chirp[mask_freq, :]\n",
    "spec_small = spec_small[:, times_chirp]\n",
    "ax.pcolormesh(seconds[times_chirp], frequencies_chirp[mask_freq], np.log10(spec_small))\n",
    "#ax.axhline(f)\n",
    "#ax.set_xlim(times_chirp[0], times_chirp[-1])\n",
    "ax.set_ylim(min_freq_plot, max_freq_plot)"
   ]
  },
  {
   "cell_type": "code",
   "execution_count": null,
   "metadata": {},
   "outputs": [],
   "source": [
    "fig = plt.figure()\n",
    "fig.set_size_inches(10, 10)\n",
    "plt.title('psd of buzzer frequency sweep')\n",
    "plt.semilogy(frequencies_chirp, psd[0, :], color='C0', label='buzzer')\n",
    "plt.xlim(frequencies_chirp[1], 16000)\n",
    "plt.grid(which='both')"
   ]
  },
  {
   "cell_type": "code",
   "execution_count": null,
   "metadata": {},
   "outputs": [],
   "source": [
    "from scipy import signal as sp\n",
    "\n",
    "response = psd[0, :]\n",
    "peaks = sp.find_peaks(response, height=0.5e-6)[0]\n",
    "\n",
    "available_freqs = np.fft.rfftfreq(N_BUFFER, 1/FS)[1:]\n",
    "allowed_delta = 10\n",
    "buzzer_freqs = [f for f in frequencies_chirp[peaks] if np.min(np.abs(f) - available_freqs) < allowed_delta]\n",
    "buzzer_freqs = list(available_freqs[(available_freqs<buzzer_freqs[0]) & (available_freqs >= 1000)]) + buzzer_freqs\n",
    "print(buzzer_freqs)\n",
    "print(f'choose {len(buzzer_freqs)} instead of {len(available_freqs)}')\n",
    "\n",
    "fig = plt.figure()\n",
    "fig.set_size_inches(10, 10)\n",
    "plt.title('psd of buzzer frequency sweep')\n",
    "plt.plot(frequencies_chirp, response, color='C0', label='buzzer')\n",
    "[plt.axvline(frequencies_chirp[p], color='C1') for p in peaks]\n",
    "[plt.axvline(f, color='C2') for f in buzzer_freqs] \n",
    "plt.xlim(frequencies_chirp[1], 16000)\n",
    "plt.yscale('log')\n",
    "plt.grid(which='both')"
   ]
  },
  {
   "cell_type": "code",
   "execution_count": null,
   "metadata": {},
   "outputs": [],
   "source": []
  },
  {
   "cell_type": "code",
   "execution_count": null,
   "metadata": {},
   "outputs": [],
   "source": [
    "#%matplotlib notebook\n",
    "\n",
    "fig = plt.figure()\n",
    "plt.title('psd of buzzer frequency sweep')\n",
    "fig.set_size_inches(10, 10)\n",
    "plt.semilogy(frequencies_chirp[1:], psd[0, 1:], color='C0', label='buzzer')\n",
    "[plt.axvline(f, color='C1') for f in chosen_freqs]\n",
    "[plt.axvline(f, color='C3') for f in chosen_freqs_lower]\n",
    "[plt.axvline(f, color='C2') for f in chosen_freqs_higher]\n",
    "plt.axvline(chosen_freqs[0], color='C1', label='buzzer frequency')\n",
    "plt.axvline(chosen_freqs_lower[0], color='C3', label='buzzer frequency (lower)')\n",
    "plt.axvline(chosen_freqs_higher[0], color='C2', label='sensing frequency')\n",
    "plt.semilogy(frequencies_motors[1:], avg_motor_psd[1:], label='motors (average during hover)', color='C4')\n",
    "plt.legend(loc='upper right')\n",
    "plt.xlim(frequencies_chirp[1], 16000)\n",
    "plt.grid(which='both')"
   ]
  },
  {
   "cell_type": "markdown",
   "metadata": {},
   "source": [
    "# motors at constant thrust and old frequency sweep"
   ]
  },
  {
   "cell_type": "code",
   "execution_count": null,
   "metadata": {},
   "outputs": [],
   "source": [
    "kwargs = dict(\n",
    "    degree=0,\n",
    "    props=False,\n",
    "    snr=False,\n",
    ")\n",
    "exp_name = '2020_10_14_static_new'; \n",
    "fname_motors = get_fname(motors=True, source=None, **kwargs)\n",
    "df_motors = read_df_from_wav(f'../experiments/{exp_name}/export/{fname_motors}.wav')\n",
    "\n",
    "exp_name = '2020_11_26_wall'; \n",
    "fname_nomotors = get_fname(motors=False, source='sweep', distance=49, **kwargs)\n",
    "df_nomotors = read_df_from_wav(f'../experiments/{exp_name}/export/{fname_nomotors}.wav')"
   ]
  },
  {
   "cell_type": "code",
   "execution_count": null,
   "metadata": {
    "scrolled": false
   },
   "outputs": [],
   "source": [
    "from bin_selection import select_frequencies\n",
    "#sys.path.append(f'../experiments/{exp_name}/')\n",
    "#import params as params_buzz\n",
    "from crazyflie_description_py.parameters import SOUND_EFFECTS, N_BUFFER, FS\n",
    "\n",
    "max_time = 65\n",
    "max_freq_plot = 15000\n",
    "\n",
    "#__, (min_freq, max_freq), *_ = SOUND_EFFECTS['sweep']\n",
    "min_freq = 1000; max_freq = 9000\n",
    "bins = select_frequencies(min_freq=min_freq, max_freq=max_freq, n_buffer=N_BUFFER, fs=FS)\n",
    "frequencies_embed = np.fft.rfftfreq(N_BUFFER, 1/FS)\n",
    "print(frequencies_embed[bins])\n",
    "\n",
    "for df in [df_motors, df_nomotors]:\n",
    "    fig = plt.figure()\n",
    "    fig.set_size_inches(15, 10)\n",
    "    times = df.timestamp.values / 1000\n",
    "    frequencies = df.iloc[0].frequencies\n",
    "\n",
    "    spec = get_spectrogram(df)\n",
    "    spec = spec[frequencies < max_freq_plot, :]\n",
    "    spec = spec[:, times < max_time]\n",
    "    plt.pcolormesh(times[times < max_time], frequencies[frequencies < max_freq_plot], \n",
    "                   np.log(spec))\n",
    "    [plt.axhline(frequencies_embed[b], color='white', ls=':') for b in bins]\n",
    "    plt.xlabel('time [s]')\n",
    "    plt.ylabel('frequency [Hz]')"
   ]
  }
 ],
 "metadata": {
  "kernelspec": {
   "display_name": "Python 3",
   "language": "python",
   "name": "python3"
  },
  "language_info": {
   "codemirror_mode": {
    "name": "ipython",
    "version": 3
   },
   "file_extension": ".py",
   "mimetype": "text/x-python",
   "name": "python",
   "nbconvert_exporter": "python",
   "pygments_lexer": "ipython3",
   "version": "3.6.9"
  },
  "toc": {
   "base_numbering": 1,
   "nav_menu": {},
   "number_sections": true,
   "sideBar": true,
   "skip_h1_title": false,
   "title_cell": "Table of Contents",
   "title_sidebar": "Contents",
   "toc_cell": false,
   "toc_position": {},
   "toc_section_display": true,
   "toc_window_display": false
  }
 },
 "nbformat": 4,
 "nbformat_minor": 4
}
