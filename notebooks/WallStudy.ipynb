{
 "cells": [
  {
   "cell_type": "code",
   "execution_count": null,
   "metadata": {},
   "outputs": [],
   "source": [
    "import math\n",
    "import sys\n",
    "\n",
    "import IPython\n",
    "import IPython.display as ipd\n",
    "import matplotlib.pylab as plt\n",
    "import numpy as np\n",
    "import pandas as pd\n",
    "\n",
    "%reload_ext autoreload\n",
    "%autoreload 2\n",
    "\n",
    "%matplotlib inline\n",
    "#%matplotlib notebook\n",
    "\n",
    "from matplotlib import rcParams\n",
    "rcParams[\"figure.max_open_warning\"] = False"
   ]
  },
  {
   "cell_type": "code",
   "execution_count": null,
   "metadata": {},
   "outputs": [],
   "source": [
    "from crazyflie_description_py.parameters import MIC_POSITIONS, FS, N_BUFFER\n",
    "import pyroomacoustics as pra\n",
    "from audio_stack.beam_former import rotate_mics\n",
    "\n",
    "def generate_rir(distance_cm=0, yaw_deg=0, single_mic=False, ax=None):\n",
    "    # simplification1: attenuation normally depends on pressure, humidity, frequency.\n",
    "    # simplification 2: no extra loss at wall\n",
    "    a = 10 # attenuation coefficient in dB / m, between 100-200 degrees, 4000+ Hz\n",
    "    c = 343 # m/s\n",
    "    Ts = 1 / FS\n",
    "    yaw_offset = -120\n",
    "    y_offset = 0.1\n",
    "    offset = [0, y_offset + distance_cm * 1e-2]\n",
    "    delta = 0.1 # difference between mic and source\n",
    "    \n",
    "    if single_mic:\n",
    "        mic_positions = np.array([offset[0] + delta, offset[1]]).reshape((1, len(offset)))\n",
    "    else:\n",
    "        mic_positions = np.array(MIC_POSITIONS)\n",
    "        mic_positions = offset + rotate_mics(mic_positions, yaw_offset - yaw_deg)\n",
    "            \n",
    "    source = offset\n",
    "    source_image = [0, -offset[1]]\n",
    "\n",
    "    if ax is not None:\n",
    "        for i, mic in enumerate(mic_positions):\n",
    "            ax.scatter(*mic, label=f'mic{i}')\n",
    "        ax.plot([-1, 1], [0, 0], label='wall')\n",
    "        ax.axis('equal')\n",
    "        ax.set_xlim(-0.5, 0.5)\n",
    "        ax.set_ylim(-1.0, 1.0)\n",
    "        ax.scatter(*source, label='buzzer')\n",
    "        ax.scatter(*source_image, label='buzzer image')\n",
    "        ax.legend()\n",
    "\n",
    "    Hs = []\n",
    "    for mic in mic_positions:\n",
    "        direct_path = np.linalg.norm(mic - source)\n",
    "        reflect_path = np.linalg.norm(mic - source_image)\n",
    "        alpha0 = 10**(-a*direct_path/20)\n",
    "        alpha1 = 10**(-a*reflect_path/20)\n",
    "        n0 = direct_path / c \n",
    "        n1 = reflect_path / c\n",
    "        \n",
    "        H_ij = alpha0 * np.exp(-1j*2*np.pi*frequencies_theo*n0) + alpha1 * np.exp(-1j*2*np.pi*frequencies_theo*n1)\n",
    "        Hs.append(H_ij)\n",
    "    return Hs"
   ]
  },
  {
   "cell_type": "code",
   "execution_count": null,
   "metadata": {},
   "outputs": [],
   "source": [
    "def generate_room(distance_cm=0, yaw_deg=0, ax=None, single_mic=False, source='mono4125'):\n",
    "    room_dim = np.array([50, 20])\n",
    "    yaw_offset = -120\n",
    "    x_offset = room_dim[0] / 2\n",
    "    y_offset = 0.1\n",
    "    delta = 0.1 # difference between mic and source\n",
    "    \n",
    "    m = pra.Material(energy_absorption=\"glass_3mm\")\n",
    "    room = pra.ShoeBox(fs=FS, p=room_dim, max_order=1, materials=m)\n",
    "\n",
    "    offset = [x_offset, y_offset + distance_cm * 1e-2]\n",
    "    \n",
    "    if single_mic:\n",
    "        mic_positions = np.array([offset[0] + delta, offset[1]]).reshape((1, len(offset)))\n",
    "    else:\n",
    "        mic_positions = np.array(MIC_POSITIONS)\n",
    "        mic_positions = offset + rotate_mics(mic_positions, yaw_offset - yaw_deg)\n",
    "        \n",
    "    signal = signals[key]\n",
    "            \n",
    "    room.add_source(offset, signal=signal)\n",
    "\n",
    "    beam_former = pra.Beamformer(mic_positions.T,  room.fs)\n",
    "    room.add_microphone_array(beam_former)\n",
    "    \n",
    "    if ax is not None:\n",
    "        for i, mic in enumerate(mic_positions):\n",
    "            ax.scatter(*mic, label=f'mic{i}')\n",
    "        ax.plot([0, room_dim[0]], [0, 0], label='wall')\n",
    "        ax.axis('equal')\n",
    "        ax.set_xlim(x_offset - 0.5, x_offset + 0.5)\n",
    "        ax.set_ylim(-0.1, 1.0)\n",
    "        ax.scatter(*offset, label='buzzer')\n",
    "        ax.legend()\n",
    "    return room\n",
    "\n",
    "\n",
    "def get_signals_f(room, n_buffer=N_BUFFER):\n",
    "    room.simulate()\n",
    "    signals_f = np.array(\n",
    "        [\n",
    "            pra.transform.stft.analysis(signal, N_BUFFER, N_BUFFER // 2).T\n",
    "            for signal in room.mic_array.signals\n",
    "        ]# n_mics x n_frequencies x n_times\n",
    "    ).transpose(2, 0, 1)  # n_times, n_mics, n_frequencies\n",
    "    return signals_f[:-10, ...]\n",
    "\n",
    "def get_frequencies(fs, n_buffer=N_BUFFER):\n",
    "    return np.arange(N_BUFFER // 2 + 1) * fs / N_BUFFER"
   ]
  },
  {
   "cell_type": "code",
   "execution_count": null,
   "metadata": {},
   "outputs": [],
   "source": [
    "def matrix_slices(df_matrix, frequencies, distances):\n",
    "    from ipywidgets import interact, interactive, fixed, interact_manual, FloatSlider, IntSlider\n",
    "    import ipywidgets as widgets\n",
    "\n",
    "    def update_figure(slice_f, slice_d):\n",
    "        fig, axs = plt.subplots(1, 2)\n",
    "        fig.set_size_inches(10, 5)\n",
    "        axs[0].semilogy(distances, df_matrix[slice_f, :])\n",
    "        axs[0].set_title(f'frequency = {frequencies[slice_f]:.0f} Hz')\n",
    "        axs[0].set_xlabel('distance [cm]')\n",
    "\n",
    "        axs[1].semilogy(frequencies, df_matrix[:, slice_d])\n",
    "        axs[1].set_title(f'distance = {distances[slice_d]:.0f} cm')\n",
    "        axs[1].set_xlabel('frequency [Hz]')\n",
    "        plt.show()\n",
    "\n",
    "    interactive_plot = interact(update_figure, \n",
    "                                slice_f=IntSlider(200, min=0, max=len(frequencies), continuous_update=False), \n",
    "                                slice_d=IntSlider(50, min=0, max=len(distances), continuous_update=False))"
   ]
  },
  {
   "cell_type": "code",
   "execution_count": null,
   "metadata": {},
   "outputs": [],
   "source": [
    "def buzzer_signal(source):\n",
    "    from signals import generate_signal\n",
    "    kwargs = dict(\n",
    "        duration_sec=30, \n",
    "        max_dB=-10,\n",
    "        Fs=FS,\n",
    "    )\n",
    "    if source == 'mono4125':\n",
    "        return generate_signal(signal_type='mono', frequency_hz=4125, **kwargs)\n",
    "    elif source == 'random':\n",
    "        return generate_signal(signal_type='random', **kwargs)\n",
    "    elif source == 'multi':\n",
    "        frequencies = get_frequencies(FS)\n",
    "        phase = np.random.uniform(0, 2*np.pi)\n",
    "        signal = generate_signal(signal_type='mono', frequency_hz=frequencies[1], **kwargs, phase_offset=phase)\n",
    "        for f in frequencies[2:]:\n",
    "            phase = np.random.uniform(0, 2*np.pi)\n",
    "            signal += generate_signal(signal_type='mono', frequency_hz=f, **kwargs, phase_offset=phase)\n",
    "        return signal\n",
    "\n",
    "    \n",
    "signals = {}\n",
    "for key in ['mono4125', 'random', 'multi']:\n",
    "    try:\n",
    "        signal = pd.read_pickle(f'results/{key}.pk')\n",
    "    except:\n",
    "        signal = buzzer_signal(key)\n",
    "        pd.to_pickle(signal, f'results/{key}.pk')\n",
    "    signals[key] = signal"
   ]
  },
  {
   "cell_type": "code",
   "execution_count": null,
   "metadata": {},
   "outputs": [],
   "source": [
    "fig, ax = plt.subplots()\n",
    "room = generate_room(distance_cm=50, yaw_deg=0, ax=ax, single_mic=True)"
   ]
  },
  {
   "cell_type": "code",
   "execution_count": null,
   "metadata": {},
   "outputs": [],
   "source": [
    "fig, axs = plt.subplots(1, 2)\n",
    "fig.set_size_inches(15, 5)\n",
    "room = generate_room(distance_cm=20, yaw_deg=0, ax=axs[0])\n",
    "axs[0].set_title(0)\n",
    "room = generate_room(distance_cm=50, yaw_deg=27, ax=axs[1])\n",
    "axs[1].set_title(27)"
   ]
  },
  {
   "cell_type": "code",
   "execution_count": null,
   "metadata": {},
   "outputs": [],
   "source": [
    "for distance_cm in [10, 50]:\n",
    "    fig, axs = plt.subplots(1, 2)\n",
    "    fig.suptitle(distance_cm)\n",
    "    frequencies_theo = get_frequencies(FS)\n",
    "    Hs = generate_rir(distance_cm=distance_cm, single_mic=True, ax=axs[0])\n",
    "    for H in Hs:\n",
    "        axs[1].plot(frequencies_theo, np.abs(H))"
   ]
  },
  {
   "cell_type": "code",
   "execution_count": null,
   "metadata": {},
   "outputs": [],
   "source": [
    "#room = generate_room(distance_cm=50, single_mic=True, source='random')\n",
    "room = generate_room(distance_cm=50, single_mic=True, source='multi')\n",
    "signals_f = get_signals_f(room)\n",
    "frequencies = get_frequencies(room.fs)\n",
    "\n",
    "fig, axs = plt.subplots(signals_f.shape[1], 1, sharex=True, squeeze=False)\n",
    "fig.set_size_inches(8, 2.5 * signals_f.shape[1])\n",
    "for i in range(signals_f.shape[1]):\n",
    "    axs[i, 0].pcolormesh(range(signals_f.shape[0]), frequencies, np.log10(np.abs(signals_f[:, i].T)))\n",
    "    axs[i, 0].set_ylabel(\"frequency [Hz]\")\n",
    "    axs[i, 0].set_title(f\"mic{i}\")\n",
    "axs[i, 0].set_xlabel(\"time index\")"
   ]
  },
  {
   "cell_type": "code",
   "execution_count": null,
   "metadata": {},
   "outputs": [],
   "source": [
    "room.compute_rir()\n",
    "\n",
    "n_times = 500\n",
    "times = np.arange(n_times) / FS\n",
    "plt.plot(times, room.rir[0][0][:n_times])\n",
    "plt.show()"
   ]
  },
  {
   "cell_type": "markdown",
   "metadata": {},
   "source": [
    "# Distance-frequency matrix"
   ]
  },
  {
   "cell_type": "code",
   "execution_count": null,
   "metadata": {},
   "outputs": [],
   "source": [
    "distances = np.linspace(0, 50, 100)\n",
    "delta_f = 30\n",
    "frequencies = get_frequencies(FS)[delta_f:-delta_f]\n",
    "df_matrix = np.empty((len(frequencies), len(distances)))\n",
    "\n",
    "for j, distance_cm in enumerate(distances):\n",
    "    room = generate_room(distance_cm=distance_cm, single_mic=True, source='multi')\n",
    "    \n",
    "    signals_f = get_signals_f(room)\n",
    "    spec = np.sum(np.abs(signals_f), axis=1) / (signals_f.shape[1] * N_BUFFER)\n",
    "    spec_time_avg = np.mean(spec, axis=0)\n",
    "    df_matrix[:, j] = spec_time_avg[delta_f:-delta_f]"
   ]
  },
  {
   "cell_type": "code",
   "execution_count": null,
   "metadata": {},
   "outputs": [],
   "source": [
    "plt.figure()\n",
    "plt.pcolormesh(distances, frequencies, np.log10(df_matrix))\n",
    "matrix_slices(df_matrix, frequencies, distances)"
   ]
  },
  {
   "cell_type": "code",
   "execution_count": null,
   "metadata": {},
   "outputs": [],
   "source": [
    "distances_theo = np.linspace(0, 50, 100)\n",
    "\n",
    "frequencies_theo = get_frequencies(FS)[delta_f:-delta_f]\n",
    "df_matrix_theo = np.empty((len(frequencies_theo), len(distances_theo)))\n",
    "\n",
    "for j, distance_cm in enumerate(distances_theo):\n",
    "    H = generate_rir(distance_cm=distance_cm, single_mic=True)[0]\n",
    "    df_matrix_theo[:, j] = np.abs(H)"
   ]
  },
  {
   "cell_type": "code",
   "execution_count": null,
   "metadata": {},
   "outputs": [],
   "source": [
    "plt.figure()\n",
    "plt.pcolormesh(distances_theo, frequencies_theo, np.log10(df_matrix_theo))\n",
    "matrix_slices(df_matrix_theo, frequencies_theo, distances_theo)"
   ]
  },
  {
   "cell_type": "markdown",
   "metadata": {},
   "source": [
    "# Experiment twin"
   ]
  },
  {
   "cell_type": "code",
   "execution_count": null,
   "metadata": {},
   "outputs": [],
   "source": [
    "df_total = pd.DataFrame(columns=['signals_f', 'degree', 'yaw', 'distance', 'source', 'psd', 'spec', 'frequencies'])\n",
    "\n",
    "exp_name = '2020_11_23_wall2'; \n",
    "source = 'mono4125'\n",
    "n_times = 300\n",
    "\n",
    "frequencies = get_frequencies(FS)\n",
    "\n",
    "for distance_cm in np.arange(100, step=10):\n",
    "    for degree in [0, 27, 54, 81]:\n",
    "        room = generate_room(distance_cm=distance_cm, yaw_deg=degree)\n",
    "\n",
    "        N_BUFFER = 2**10\n",
    "        signals_f = get_signals_f(room)[:n_times]\n",
    "\n",
    "        yaw = np.full(signals_f.shape[0], -degree)\n",
    "\n",
    "        spec = np.sum(np.abs(signals_f), axis=1)\n",
    "\n",
    "        # TODO(FD): implement if needed. \n",
    "        psd = None \n",
    "\n",
    "        df_total.loc[len(df_total), :] = dict(\n",
    "            degree=degree,\n",
    "            yaw=yaw,\n",
    "            distance=distance_cm,\n",
    "            source=str(source),\n",
    "            signals_f=signals_f,\n",
    "            frequencies=frequencies,\n",
    "            spec=spec,\n",
    "            psd=psd\n",
    "        ) \n",
    "        \n",
    "fname = f'results/{exp_name}_simulated.pkl'\n",
    "pd.to_pickle(df_total, fname)\n",
    "print('saved as', fname)"
   ]
  },
  {
   "cell_type": "code",
   "execution_count": null,
   "metadata": {},
   "outputs": [],
   "source": []
  },
  {
   "cell_type": "code",
   "execution_count": null,
   "metadata": {},
   "outputs": [],
   "source": []
  }
 ],
 "metadata": {
  "kernelspec": {
   "display_name": "Python 3",
   "language": "python",
   "name": "python3"
  },
  "language_info": {
   "codemirror_mode": {
    "name": "ipython",
    "version": 3
   },
   "file_extension": ".py",
   "mimetype": "text/x-python",
   "name": "python",
   "nbconvert_exporter": "python",
   "pygments_lexer": "ipython3",
   "version": "3.6.9"
  }
 },
 "nbformat": 4,
 "nbformat_minor": 4
}
